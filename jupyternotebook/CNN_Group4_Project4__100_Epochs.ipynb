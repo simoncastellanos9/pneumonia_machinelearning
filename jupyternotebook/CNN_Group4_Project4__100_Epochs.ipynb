{
  "nbformat": 4,
  "nbformat_minor": 2,
  "metadata": {
    "colab": {
      "name": "CNN_Group4_Project4_ver2.ipynb",
      "provenance": [],
      "collapsed_sections": [],
      "machine_shape": "hm"
    },
    "kernelspec": {
      "name": "python3",
      "display_name": "Python 3"
    },
    "language_info": {
      "name": "python"
    },
    "accelerator": "TPU"
  },
  "cells": [
    {
      "cell_type": "code",
      "execution_count": 22,
      "source": [
        "import warnings\r\n",
        "warnings.filterwarnings('ignore')"
      ],
      "outputs": [],
      "metadata": {
        "id": "qYZXnAXryT6s"
      }
    },
    {
      "cell_type": "code",
      "execution_count": 23,
      "source": [
        "import tensorflow as tf\r\n",
        "from tensorflow import keras"
      ],
      "outputs": [],
      "metadata": {
        "id": "mu73jVaYy_HQ"
      }
    },
    {
      "cell_type": "code",
      "execution_count": 24,
      "source": [
        "from keras.layers import Input, Lambda, Dense, Flatten"
      ],
      "outputs": [],
      "metadata": {
        "id": "Hxayb81NzF8D"
      }
    },
    {
      "cell_type": "markdown",
      "source": [
        "Tensorflow backend # https://keras.io/api/applications/   List of available models to use for images.  "
      ],
      "metadata": {
        "id": "ONcxLwaCRXCA"
      }
    },
    {
      "cell_type": "code",
      "execution_count": 25,
      "source": [
        "from keras.models import Model\r\n",
        "from keras.applications.vgg16 import VGG16\r\n",
        "from keras.applications.vgg16 import preprocess_input\r\n",
        "from keras.preprocessing import image\r\n",
        "from keras.preprocessing.image import ImageDataGenerator  \r\n",
        "from keras.models import Sequential\r\n",
        "import numpy as np\r\n",
        "from glob import glob\r\n",
        "import matplotlib.pyplot as plt"
      ],
      "outputs": [],
      "metadata": {
        "id": "SnlkQ01MzNfN"
      }
    },
    {
      "cell_type": "markdown",
      "source": [
        "note: VGG16 was created to use 224 224. "
      ],
      "metadata": {
        "id": "LndL_5FNcbUm"
      }
    },
    {
      "cell_type": "code",
      "execution_count": 26,
      "source": [
        "IMAGE_SIZE = [224, 224] \r\n",
        "\r\n",
        "train_path = '/gdrive/My Drive/input/labeled-chest-xray-images/chest_xray/train/'\r\n",
        "test_path = '/gdrive/My Drive/input/labeled-chest-xray-images/chest_xray/test/'"
      ],
      "outputs": [],
      "metadata": {
        "id": "Zv29ghR30djE"
      }
    },
    {
      "cell_type": "markdown",
      "source": [
        "if we have black and white images use 1 vs 3\""
      ],
      "metadata": {
        "id": "BtZrXG6wcoNK"
      }
    },
    {
      "cell_type": "code",
      "execution_count": 27,
      "source": [
        "vgg = VGG16(input_shape=IMAGE_SIZE + [3], weights='imagenet', include_top=False) "
      ],
      "outputs": [],
      "metadata": {
        "id": "z99zMAOt1hBJ"
      }
    },
    {
      "cell_type": "markdown",
      "source": [
        "We do not have to train vgg16 layers since they have already been trained.  "
      ],
      "metadata": {
        "id": "mDmyHK3Gcxhb"
      }
    },
    {
      "cell_type": "code",
      "execution_count": 28,
      "source": [
        "# https://stackoverflow.com/questions/61292890/transfer-learning-only-works-with-trainable-set-to-false\n",
        "for layer in vgg.layers:\n",
        "    layer.trainable = False "
      ],
      "outputs": [],
      "metadata": {
        "id": "TmdZa9rj3l3v"
      }
    },
    {
      "cell_type": "code",
      "execution_count": 29,
      "source": [
        "# https://stackoverflow.com/questions/2186525/how-to-use-glob-to-find-files-recursively\n",
        "folders = glob('/gdrive/My Drive/input/labeled-chest-xray-images/chest_xray/train/*')\n",
        "x = Flatten() (vgg.output)"
      ],
      "outputs": [],
      "metadata": {
        "id": "WJDa-Zgv13Zt"
      }
    },
    {
      "cell_type": "code",
      "execution_count": 30,
      "source": [
        "# this adds the folder names (NORMAL, PNEMONIA) as the two classes.  softmax is used for vgg16 vs sigmoid.  \n",
        "prediction = Dense(len(folders), activation='softmax') (x)  \n",
        "# creating a model object\n",
        "model = Model(inputs=vgg.input, outputs=prediction)\n",
        "# view structure of the model\n",
        "model.summary()"
      ],
      "outputs": [
        {
          "output_type": "stream",
          "name": "stdout",
          "text": [
            "Model: \"model_2\"\n",
            "_________________________________________________________________\n",
            "Layer (type)                 Output Shape              Param #   \n",
            "=================================================================\n",
            "input_3 (InputLayer)         [(None, 224, 224, 3)]     0         \n",
            "_________________________________________________________________\n",
            "block1_conv1 (Conv2D)        (None, 224, 224, 64)      1792      \n",
            "_________________________________________________________________\n",
            "block1_conv2 (Conv2D)        (None, 224, 224, 64)      36928     \n",
            "_________________________________________________________________\n",
            "block1_pool (MaxPooling2D)   (None, 112, 112, 64)      0         \n",
            "_________________________________________________________________\n",
            "block2_conv1 (Conv2D)        (None, 112, 112, 128)     73856     \n",
            "_________________________________________________________________\n",
            "block2_conv2 (Conv2D)        (None, 112, 112, 128)     147584    \n",
            "_________________________________________________________________\n",
            "block2_pool (MaxPooling2D)   (None, 56, 56, 128)       0         \n",
            "_________________________________________________________________\n",
            "block3_conv1 (Conv2D)        (None, 56, 56, 256)       295168    \n",
            "_________________________________________________________________\n",
            "block3_conv2 (Conv2D)        (None, 56, 56, 256)       590080    \n",
            "_________________________________________________________________\n",
            "block3_conv3 (Conv2D)        (None, 56, 56, 256)       590080    \n",
            "_________________________________________________________________\n",
            "block3_pool (MaxPooling2D)   (None, 28, 28, 256)       0         \n",
            "_________________________________________________________________\n",
            "block4_conv1 (Conv2D)        (None, 28, 28, 512)       1180160   \n",
            "_________________________________________________________________\n",
            "block4_conv2 (Conv2D)        (None, 28, 28, 512)       2359808   \n",
            "_________________________________________________________________\n",
            "block4_conv3 (Conv2D)        (None, 28, 28, 512)       2359808   \n",
            "_________________________________________________________________\n",
            "block4_pool (MaxPooling2D)   (None, 14, 14, 512)       0         \n",
            "_________________________________________________________________\n",
            "block5_conv1 (Conv2D)        (None, 14, 14, 512)       2359808   \n",
            "_________________________________________________________________\n",
            "block5_conv2 (Conv2D)        (None, 14, 14, 512)       2359808   \n",
            "_________________________________________________________________\n",
            "block5_conv3 (Conv2D)        (None, 14, 14, 512)       2359808   \n",
            "_________________________________________________________________\n",
            "block5_pool (MaxPooling2D)   (None, 7, 7, 512)         0         \n",
            "_________________________________________________________________\n",
            "flatten_2 (Flatten)          (None, 25088)             0         \n",
            "_________________________________________________________________\n",
            "dense_2 (Dense)              (None, 2)                 50178     \n",
            "=================================================================\n",
            "Total params: 14,764,866\n",
            "Trainable params: 50,178\n",
            "Non-trainable params: 14,714,688\n",
            "_________________________________________________________________\n"
          ]
        }
      ],
      "metadata": {
        "id": "vBbZUJXd4PhX",
        "colab": {
          "base_uri": "https://localhost:8080/"
        },
        "outputId": "4db42fe4-85d6-4400-8f1b-233dfa39da84"
      }
    },
    {
      "cell_type": "markdown",
      "source": [
        "compiling model"
      ],
      "metadata": {
        "id": "wmW5UwkvJBZD"
      }
    },
    {
      "cell_type": "code",
      "execution_count": 31,
      "source": [
        "# https://stackoverflow.com/questions/42081257/why-binary-crossentropy-and-categorical-crossentropy-give-different-performances\n",
        "model.compile(\n",
        "  loss='categorical_crossentropy',\n",
        "  optimizer='adam',\n",
        "  metrics=['accuracy']\n",
        ")"
      ],
      "outputs": [],
      "metadata": {
        "id": "COYqpj2h4xU7"
      }
    },
    {
      "cell_type": "code",
      "execution_count": 32,
      "source": [
        "from keras.preprocessing.image import ImageDataGenerator"
      ],
      "outputs": [],
      "metadata": {
        "id": "qc1W8xl05-wF"
      }
    },
    {
      "cell_type": "code",
      "execution_count": 33,
      "source": [
        "# note: must input code received from google for access to the google drive files: Please copy this code, switch to your application and paste it there:\n",
        "# 4/1AX4XfWgMbu2qOfhAjCXU90DNP_Yx7EFgJsSBJrHiKfPqnwomhdAgQZxkp3o\n",
        "from google.colab import drive\n",
        "drive.mount('/gdrive')\n",
        "%cd /gdrive"
      ],
      "outputs": [
        {
          "output_type": "stream",
          "name": "stdout",
          "text": [
            "Drive already mounted at /gdrive; to attempt to forcibly remount, call drive.mount(\"/gdrive\", force_remount=True).\n",
            "/gdrive\n"
          ]
        }
      ],
      "metadata": {
        "id": "MA1m3_UkTuYT",
        "colab": {
          "base_uri": "https://localhost:8080/"
        },
        "outputId": "2a94c62e-3173-4ed2-8233-b157cbc31b3d"
      }
    },
    {
      "cell_type": "markdown",
      "source": [
        "Creating Generators - available in the Keras website"
      ],
      "metadata": {
        "id": "yxyYq9qvLkXt"
      }
    },
    {
      "cell_type": "code",
      "execution_count": 34,
      "source": [
        "train_datagen = ImageDataGenerator(rescale = 1./255,\n",
        "                                   shear_range = 0.2,\n",
        "                                   zoom_range = 0.3,\n",
        "                                   horizontal_flip = True)\n",
        "\n",
        "test_datagen = ImageDataGenerator(rescale = 1./255)\n",
        "\n",
        "\n",
        "\n",
        "\n",
        "# Make sure you provide the same target size as initialied for the image size (\"reads the folder name for different classes NORMAL and PNEMONIA\")\n",
        "training_set = train_datagen.flow_from_directory('/gdrive/My Drive/input/labeled-chest-xray-images/chest_xray/train/',\n",
        "                                                 target_size = (224, 224),\n",
        "                                                 batch_size = 10,\n",
        "                                                 class_mode = 'categorical')\n",
        "\n",
        "\n",
        "\n",
        "\n",
        "test_set = test_datagen.flow_from_directory('/gdrive/My Drive/input/labeled-chest-xray-images/chest_xray/test/',\n",
        "                                            target_size = (224, 224),\n",
        "                                            batch_size = 10,\n",
        "                                            class_mode = 'categorical')"
      ],
      "outputs": [
        {
          "output_type": "stream",
          "name": "stdout",
          "text": [
            "Found 5216 images belonging to 2 classes.\n",
            "Found 624 images belonging to 2 classes.\n"
          ]
        }
      ],
      "metadata": {
        "colab": {
          "base_uri": "https://localhost:8080/"
        },
        "id": "E25a3uCL6MNr",
        "outputId": "f3ad2841-3119-480e-c777-663af02404a8"
      }
    },
    {
      "cell_type": "code",
      "execution_count": 36,
      "source": [
        "training_set.class_indices"
      ],
      "outputs": [
        {
          "output_type": "execute_result",
          "data": {
            "text/plain": [
              "{'NORMAL': 0, 'PNEUMONIA': 1}"
            ]
          },
          "metadata": {},
          "execution_count": 36
        }
      ],
      "metadata": {
        "colab": {
          "base_uri": "https://localhost:8080/"
        },
        "id": "v4GsXGMDx8MW",
        "outputId": "aff134df-8f46-4e9e-b5ec-e34973a158a2"
      }
    },
    {
      "cell_type": "markdown",
      "source": [
        "Building and Fitting Model"
      ],
      "metadata": {
        "id": "fuc6pmXQLT8G"
      }
    },
    {
      "cell_type": "code",
      "execution_count": 37,
      "source": [
        "r = model.fit_generator(   \n",
        "  training_set,\n",
        "  validation_data=test_set,\n",
        "  epochs=100,\n",
        "  steps_per_epoch=len(training_set),\n",
        "  validation_steps=len(test_set),\n",
        "  workers=-1,\n",
        ") "
      ],
      "outputs": [
        {
          "output_type": "stream",
          "name": "stdout",
          "text": [
            "Epoch 1/100\n",
            "522/522 [==============================] - 1844s 4s/step - loss: 0.2476 - accuracy: 0.9107 - val_loss: 0.3745 - val_accuracy: 0.8910\n",
            "Epoch 2/100\n",
            "522/522 [==============================] - 321s 615ms/step - loss: 0.1766 - accuracy: 0.9396 - val_loss: 0.3364 - val_accuracy: 0.9071\n",
            "Epoch 3/100\n",
            "522/522 [==============================] - 322s 618ms/step - loss: 0.1552 - accuracy: 0.9511 - val_loss: 1.7026 - val_accuracy: 0.7179\n",
            "Epoch 4/100\n",
            "522/522 [==============================] - 323s 618ms/step - loss: 0.1488 - accuracy: 0.9551 - val_loss: 0.3875 - val_accuracy: 0.9022\n",
            "Epoch 5/100\n",
            "522/522 [==============================] - 327s 627ms/step - loss: 0.1909 - accuracy: 0.9494 - val_loss: 0.2947 - val_accuracy: 0.9295\n",
            "Epoch 6/100\n",
            "522/522 [==============================] - 325s 624ms/step - loss: 0.1607 - accuracy: 0.9576 - val_loss: 0.3532 - val_accuracy: 0.9199\n",
            "Epoch 7/100\n",
            "522/522 [==============================] - 328s 629ms/step - loss: 0.1469 - accuracy: 0.9599 - val_loss: 0.6581 - val_accuracy: 0.8782\n",
            "Epoch 8/100\n",
            "522/522 [==============================] - 328s 629ms/step - loss: 0.1558 - accuracy: 0.9597 - val_loss: 0.5485 - val_accuracy: 0.8974\n",
            "Epoch 9/100\n",
            "522/522 [==============================] - 330s 632ms/step - loss: 0.1310 - accuracy: 0.9647 - val_loss: 0.4052 - val_accuracy: 0.9151\n",
            "Epoch 10/100\n",
            "522/522 [==============================] - 330s 631ms/step - loss: 0.1168 - accuracy: 0.9655 - val_loss: 0.3528 - val_accuracy: 0.9247\n",
            "Epoch 11/100\n",
            "522/522 [==============================] - 332s 637ms/step - loss: 0.1647 - accuracy: 0.9584 - val_loss: 0.6874 - val_accuracy: 0.8894\n",
            "Epoch 12/100\n",
            "522/522 [==============================] - 330s 633ms/step - loss: 0.1430 - accuracy: 0.9636 - val_loss: 0.5499 - val_accuracy: 0.9022\n",
            "Epoch 13/100\n",
            "522/522 [==============================] - 328s 628ms/step - loss: 0.1476 - accuracy: 0.9653 - val_loss: 0.3736 - val_accuracy: 0.9199\n",
            "Epoch 14/100\n",
            "522/522 [==============================] - 332s 637ms/step - loss: 0.1089 - accuracy: 0.9695 - val_loss: 0.6227 - val_accuracy: 0.9038\n",
            "Epoch 15/100\n",
            "522/522 [==============================] - 335s 642ms/step - loss: 0.1292 - accuracy: 0.9655 - val_loss: 0.6810 - val_accuracy: 0.9054\n",
            "Epoch 16/100\n",
            "522/522 [==============================] - 333s 638ms/step - loss: 0.1243 - accuracy: 0.9688 - val_loss: 0.5311 - val_accuracy: 0.9135\n",
            "Epoch 17/100\n",
            "522/522 [==============================] - 336s 644ms/step - loss: 0.1082 - accuracy: 0.9734 - val_loss: 0.6019 - val_accuracy: 0.8782\n",
            "Epoch 18/100\n",
            "522/522 [==============================] - 341s 653ms/step - loss: 0.1459 - accuracy: 0.9641 - val_loss: 0.5446 - val_accuracy: 0.9231\n",
            "Epoch 19/100\n",
            "522/522 [==============================] - 343s 657ms/step - loss: 0.1294 - accuracy: 0.9714 - val_loss: 0.6266 - val_accuracy: 0.9215\n",
            "Epoch 20/100\n",
            "522/522 [==============================] - 342s 656ms/step - loss: 0.1225 - accuracy: 0.9739 - val_loss: 0.7448 - val_accuracy: 0.9054\n",
            "Epoch 21/100\n",
            "522/522 [==============================] - 340s 652ms/step - loss: 0.1196 - accuracy: 0.9684 - val_loss: 0.5996 - val_accuracy: 0.9167\n",
            "Epoch 22/100\n",
            "522/522 [==============================] - 340s 651ms/step - loss: 0.1397 - accuracy: 0.9699 - val_loss: 0.5292 - val_accuracy: 0.9231\n",
            "Epoch 23/100\n",
            "522/522 [==============================] - 339s 650ms/step - loss: 0.1548 - accuracy: 0.9663 - val_loss: 0.6192 - val_accuracy: 0.9183\n",
            "Epoch 24/100\n",
            "522/522 [==============================] - 342s 656ms/step - loss: 0.1059 - accuracy: 0.9749 - val_loss: 0.6219 - val_accuracy: 0.9199\n",
            "Epoch 25/100\n",
            "522/522 [==============================] - 340s 651ms/step - loss: 0.1259 - accuracy: 0.9705 - val_loss: 0.5047 - val_accuracy: 0.9247\n",
            "Epoch 26/100\n",
            "522/522 [==============================] - 343s 657ms/step - loss: 0.1026 - accuracy: 0.9728 - val_loss: 0.5006 - val_accuracy: 0.9231\n",
            "Epoch 27/100\n",
            "522/522 [==============================] - 348s 668ms/step - loss: 0.1013 - accuracy: 0.9739 - val_loss: 0.6368 - val_accuracy: 0.9135\n",
            "Epoch 28/100\n",
            "522/522 [==============================] - 346s 663ms/step - loss: 0.1184 - accuracy: 0.9726 - val_loss: 0.5766 - val_accuracy: 0.9231\n",
            "Epoch 29/100\n",
            "522/522 [==============================] - 345s 661ms/step - loss: 0.1194 - accuracy: 0.9716 - val_loss: 0.6923 - val_accuracy: 0.9103\n",
            "Epoch 30/100\n",
            "522/522 [==============================] - 346s 663ms/step - loss: 0.1076 - accuracy: 0.9739 - val_loss: 0.5295 - val_accuracy: 0.9247\n",
            "Epoch 31/100\n",
            "522/522 [==============================] - 351s 672ms/step - loss: 0.1242 - accuracy: 0.9695 - val_loss: 0.5081 - val_accuracy: 0.9295\n",
            "Epoch 32/100\n",
            "522/522 [==============================] - 347s 665ms/step - loss: 0.1286 - accuracy: 0.9688 - val_loss: 0.5586 - val_accuracy: 0.9167\n",
            "Epoch 33/100\n",
            "522/522 [==============================] - 336s 645ms/step - loss: 0.0910 - accuracy: 0.9766 - val_loss: 0.8978 - val_accuracy: 0.8974\n",
            "Epoch 34/100\n",
            "522/522 [==============================] - 345s 660ms/step - loss: 0.1350 - accuracy: 0.9720 - val_loss: 0.7492 - val_accuracy: 0.9071\n",
            "Epoch 35/100\n",
            "522/522 [==============================] - 340s 651ms/step - loss: 0.0987 - accuracy: 0.9762 - val_loss: 0.7872 - val_accuracy: 0.9135\n",
            "Epoch 36/100\n",
            "522/522 [==============================] - 347s 665ms/step - loss: 0.0993 - accuracy: 0.9768 - val_loss: 0.7555 - val_accuracy: 0.9103\n",
            "Epoch 37/100\n",
            "522/522 [==============================] - 350s 671ms/step - loss: 0.1058 - accuracy: 0.9737 - val_loss: 0.7401 - val_accuracy: 0.9119\n",
            "Epoch 38/100\n",
            "522/522 [==============================] - 351s 673ms/step - loss: 0.1082 - accuracy: 0.9737 - val_loss: 0.5770 - val_accuracy: 0.9263\n",
            "Epoch 39/100\n",
            "522/522 [==============================] - 341s 654ms/step - loss: 0.0994 - accuracy: 0.9749 - val_loss: 0.5317 - val_accuracy: 0.9247\n",
            "Epoch 40/100\n",
            "522/522 [==============================] - 360s 690ms/step - loss: 0.0929 - accuracy: 0.9751 - val_loss: 0.6134 - val_accuracy: 0.9215\n",
            "Epoch 41/100\n",
            "522/522 [==============================] - 356s 682ms/step - loss: 0.1052 - accuracy: 0.9762 - val_loss: 0.7650 - val_accuracy: 0.9135\n",
            "Epoch 42/100\n",
            "522/522 [==============================] - 344s 658ms/step - loss: 0.0993 - accuracy: 0.9776 - val_loss: 0.6890 - val_accuracy: 0.9167\n",
            "Epoch 43/100\n",
            "522/522 [==============================] - 366s 702ms/step - loss: 0.1301 - accuracy: 0.9689 - val_loss: 1.1180 - val_accuracy: 0.9006\n",
            "Epoch 44/100\n",
            "522/522 [==============================] - 360s 690ms/step - loss: 0.1216 - accuracy: 0.9728 - val_loss: 0.7091 - val_accuracy: 0.9279\n",
            "Epoch 45/100\n",
            "522/522 [==============================] - 361s 692ms/step - loss: 0.0873 - accuracy: 0.9795 - val_loss: 0.6535 - val_accuracy: 0.9183\n",
            "Epoch 46/100\n",
            "522/522 [==============================] - 361s 692ms/step - loss: 0.0963 - accuracy: 0.9743 - val_loss: 0.7411 - val_accuracy: 0.9263\n",
            "Epoch 47/100\n",
            "522/522 [==============================] - 365s 700ms/step - loss: 0.0956 - accuracy: 0.9801 - val_loss: 0.6434 - val_accuracy: 0.9167\n",
            "Epoch 48/100\n",
            "522/522 [==============================] - 349s 668ms/step - loss: 0.1558 - accuracy: 0.9689 - val_loss: 1.0216 - val_accuracy: 0.9038\n",
            "Epoch 49/100\n",
            "522/522 [==============================] - 348s 666ms/step - loss: 0.1054 - accuracy: 0.9781 - val_loss: 0.5615 - val_accuracy: 0.9231\n",
            "Epoch 50/100\n",
            "522/522 [==============================] - 349s 668ms/step - loss: 0.1277 - accuracy: 0.9743 - val_loss: 0.7334 - val_accuracy: 0.9215\n",
            "Epoch 51/100\n",
            "522/522 [==============================] - 347s 665ms/step - loss: 0.1015 - accuracy: 0.9755 - val_loss: 0.6751 - val_accuracy: 0.8974\n",
            "Epoch 52/100\n",
            "522/522 [==============================] - 349s 669ms/step - loss: 0.1011 - accuracy: 0.9772 - val_loss: 0.5903 - val_accuracy: 0.9327\n",
            "Epoch 53/100\n",
            "522/522 [==============================] - 353s 676ms/step - loss: 0.1214 - accuracy: 0.9739 - val_loss: 1.0589 - val_accuracy: 0.8894\n",
            "Epoch 54/100\n",
            "522/522 [==============================] - 353s 676ms/step - loss: 0.0687 - accuracy: 0.9824 - val_loss: 0.6613 - val_accuracy: 0.9183\n",
            "Epoch 55/100\n",
            "522/522 [==============================] - 355s 681ms/step - loss: 0.0768 - accuracy: 0.9803 - val_loss: 0.6178 - val_accuracy: 0.9263\n",
            "Epoch 56/100\n",
            "522/522 [==============================] - 352s 674ms/step - loss: 0.0886 - accuracy: 0.9791 - val_loss: 0.6264 - val_accuracy: 0.9295\n",
            "Epoch 57/100\n",
            "522/522 [==============================] - 353s 677ms/step - loss: 0.1213 - accuracy: 0.9745 - val_loss: 0.6750 - val_accuracy: 0.9247\n",
            "Epoch 58/100\n",
            "522/522 [==============================] - 354s 678ms/step - loss: 0.1033 - accuracy: 0.9766 - val_loss: 1.3659 - val_accuracy: 0.8910\n",
            "Epoch 59/100\n",
            "522/522 [==============================] - 352s 675ms/step - loss: 0.0855 - accuracy: 0.9789 - val_loss: 0.7486 - val_accuracy: 0.9199\n",
            "Epoch 60/100\n",
            "522/522 [==============================] - 356s 682ms/step - loss: 0.0845 - accuracy: 0.9795 - val_loss: 0.8571 - val_accuracy: 0.9247\n",
            "Epoch 61/100\n",
            "522/522 [==============================] - 358s 686ms/step - loss: 0.1012 - accuracy: 0.9770 - val_loss: 0.8207 - val_accuracy: 0.9215\n",
            "Epoch 62/100\n",
            "522/522 [==============================] - 355s 680ms/step - loss: 0.1106 - accuracy: 0.9774 - val_loss: 0.6688 - val_accuracy: 0.9215\n",
            "Epoch 63/100\n",
            "522/522 [==============================] - 357s 684ms/step - loss: 0.1106 - accuracy: 0.9764 - val_loss: 0.7227 - val_accuracy: 0.8894\n",
            "Epoch 64/100\n",
            "522/522 [==============================] - 361s 692ms/step - loss: 0.0906 - accuracy: 0.9785 - val_loss: 0.6912 - val_accuracy: 0.9311\n",
            "Epoch 65/100\n",
            "522/522 [==============================] - 364s 697ms/step - loss: 0.0890 - accuracy: 0.9787 - val_loss: 1.3841 - val_accuracy: 0.8814\n",
            "Epoch 66/100\n",
            "522/522 [==============================] - 361s 691ms/step - loss: 0.0901 - accuracy: 0.9814 - val_loss: 1.0247 - val_accuracy: 0.9071\n",
            "Epoch 67/100\n",
            "522/522 [==============================] - 367s 704ms/step - loss: 0.0687 - accuracy: 0.9837 - val_loss: 1.5035 - val_accuracy: 0.8654\n",
            "Epoch 68/100\n",
            "522/522 [==============================] - 360s 690ms/step - loss: 0.1192 - accuracy: 0.9747 - val_loss: 0.7973 - val_accuracy: 0.9279\n",
            "Epoch 69/100\n",
            "522/522 [==============================] - 362s 694ms/step - loss: 0.0711 - accuracy: 0.9833 - val_loss: 2.4037 - val_accuracy: 0.8029\n",
            "Epoch 70/100\n",
            "522/522 [==============================] - 367s 704ms/step - loss: 0.1194 - accuracy: 0.9722 - val_loss: 0.8163 - val_accuracy: 0.8942\n",
            "Epoch 71/100\n",
            "522/522 [==============================] - 362s 694ms/step - loss: 0.0717 - accuracy: 0.9850 - val_loss: 0.6837 - val_accuracy: 0.9183\n",
            "Epoch 72/100\n",
            "522/522 [==============================] - 369s 707ms/step - loss: 0.0845 - accuracy: 0.9827 - val_loss: 0.6995 - val_accuracy: 0.9151\n",
            "Epoch 73/100\n",
            "522/522 [==============================] - 370s 710ms/step - loss: 0.0821 - accuracy: 0.9831 - val_loss: 0.7715 - val_accuracy: 0.9199\n",
            "Epoch 74/100\n",
            "522/522 [==============================] - 369s 707ms/step - loss: 0.1042 - accuracy: 0.9783 - val_loss: 1.0281 - val_accuracy: 0.9183\n",
            "Epoch 75/100\n",
            "522/522 [==============================] - 367s 703ms/step - loss: 0.0663 - accuracy: 0.9826 - val_loss: 1.0636 - val_accuracy: 0.9199\n",
            "Epoch 76/100\n",
            "522/522 [==============================] - 358s 686ms/step - loss: 0.0844 - accuracy: 0.9803 - val_loss: 0.9233 - val_accuracy: 0.9199\n",
            "Epoch 77/100\n",
            "522/522 [==============================] - 372s 713ms/step - loss: 0.0704 - accuracy: 0.9843 - val_loss: 2.1406 - val_accuracy: 0.8429\n",
            "Epoch 78/100\n",
            "522/522 [==============================] - 368s 705ms/step - loss: 0.0755 - accuracy: 0.9833 - val_loss: 0.7119 - val_accuracy: 0.9263\n",
            "Epoch 79/100\n",
            "522/522 [==============================] - 369s 708ms/step - loss: 0.1299 - accuracy: 0.9741 - val_loss: 0.8500 - val_accuracy: 0.9215\n",
            "Epoch 80/100\n",
            "522/522 [==============================] - 372s 712ms/step - loss: 0.0657 - accuracy: 0.9839 - val_loss: 0.7124 - val_accuracy: 0.9087\n",
            "Epoch 81/100\n",
            "522/522 [==============================] - 370s 709ms/step - loss: 0.1314 - accuracy: 0.9768 - val_loss: 0.6818 - val_accuracy: 0.9183\n",
            "Epoch 82/100\n",
            "522/522 [==============================] - 370s 710ms/step - loss: 0.0897 - accuracy: 0.9785 - val_loss: 0.6683 - val_accuracy: 0.9327\n",
            "Epoch 83/100\n",
            "522/522 [==============================] - 372s 713ms/step - loss: 0.0769 - accuracy: 0.9845 - val_loss: 0.6335 - val_accuracy: 0.9263\n",
            "Epoch 84/100\n",
            "522/522 [==============================] - 377s 721ms/step - loss: 0.0628 - accuracy: 0.9849 - val_loss: 0.6729 - val_accuracy: 0.9087\n",
            "Epoch 85/100\n",
            "522/522 [==============================] - 372s 712ms/step - loss: 0.1177 - accuracy: 0.9780 - val_loss: 0.8086 - val_accuracy: 0.9375\n",
            "Epoch 86/100\n",
            "522/522 [==============================] - 358s 686ms/step - loss: 0.0848 - accuracy: 0.9829 - val_loss: 1.3460 - val_accuracy: 0.9038\n",
            "Epoch 87/100\n",
            "522/522 [==============================] - 372s 713ms/step - loss: 0.0871 - accuracy: 0.9797 - val_loss: 0.9527 - val_accuracy: 0.9311\n",
            "Epoch 88/100\n",
            "522/522 [==============================] - 376s 721ms/step - loss: 0.1047 - accuracy: 0.9791 - val_loss: 1.1489 - val_accuracy: 0.9151\n",
            "Epoch 89/100\n",
            "522/522 [==============================] - 378s 724ms/step - loss: 0.1300 - accuracy: 0.9749 - val_loss: 1.9824 - val_accuracy: 0.8478\n",
            "Epoch 90/100\n",
            "522/522 [==============================] - 377s 721ms/step - loss: 0.0850 - accuracy: 0.9829 - val_loss: 0.9286 - val_accuracy: 0.9295\n",
            "Epoch 91/100\n",
            "522/522 [==============================] - 375s 719ms/step - loss: 0.0880 - accuracy: 0.9826 - val_loss: 0.7664 - val_accuracy: 0.9295\n",
            "Epoch 92/100\n",
            "522/522 [==============================] - 375s 718ms/step - loss: 0.0749 - accuracy: 0.9843 - val_loss: 0.6474 - val_accuracy: 0.9343\n",
            "Epoch 93/100\n",
            "522/522 [==============================] - 381s 729ms/step - loss: 0.0825 - accuracy: 0.9831 - val_loss: 0.7436 - val_accuracy: 0.9247\n",
            "Epoch 94/100\n",
            "522/522 [==============================] - 399s 764ms/step - loss: 0.0649 - accuracy: 0.9872 - val_loss: 0.6861 - val_accuracy: 0.9087\n",
            "Epoch 95/100\n",
            "522/522 [==============================] - 410s 785ms/step - loss: 0.0829 - accuracy: 0.9820 - val_loss: 0.9618 - val_accuracy: 0.9215\n",
            "Epoch 96/100\n",
            "522/522 [==============================] - 374s 716ms/step - loss: 0.0792 - accuracy: 0.9845 - val_loss: 0.7593 - val_accuracy: 0.9327\n",
            "Epoch 97/100\n",
            "522/522 [==============================] - 342s 656ms/step - loss: 0.0885 - accuracy: 0.9835 - val_loss: 1.2619 - val_accuracy: 0.8478\n",
            "Epoch 98/100\n",
            "522/522 [==============================] - 354s 678ms/step - loss: 0.0729 - accuracy: 0.9833 - val_loss: 0.8092 - val_accuracy: 0.9087\n",
            "Epoch 99/100\n",
            "522/522 [==============================] - 356s 681ms/step - loss: 0.0932 - accuracy: 0.9835 - val_loss: 1.0696 - val_accuracy: 0.9167\n",
            "Epoch 100/100\n",
            "522/522 [==============================] - 342s 656ms/step - loss: 0.0623 - accuracy: 0.9866 - val_loss: 0.7976 - val_accuracy: 0.9279\n"
          ]
        }
      ],
      "metadata": {
        "colab": {
          "base_uri": "https://localhost:8080/"
        },
        "id": "ttXbAqL07IX5",
        "outputId": "a4e2cb72-1487-475e-e040-957cc2e8da68"
      }
    },
    {
      "cell_type": "code",
      "execution_count": 38,
      "source": [
        " import tensorflow as tf\n",
        "from keras.models import load_model\n",
        "# from google.colab import drive\n",
        "# drive.mount()\n",
        "# %cd /gdrive\n",
        "model.save('/gdrive/My Drive/input/chest_xray_100_Epochs.h5')"
      ],
      "outputs": [],
      "metadata": {
        "id": "ACP1coq_9q2d"
      }
    },
    {
      "cell_type": "code",
      "execution_count": 39,
      "source": [
        "from keras.models import load_model"
      ],
      "outputs": [],
      "metadata": {
        "id": "4Yqwsl6T-AnH"
      }
    },
    {
      "cell_type": "code",
      "execution_count": 40,
      "source": [
        "from keras.preprocessing import image"
      ],
      "outputs": [],
      "metadata": {
        "id": "GPL8TXtX-MMh"
      }
    },
    {
      "cell_type": "code",
      "execution_count": 41,
      "source": [
        "from keras.applications.vgg16 import preprocess_input"
      ],
      "outputs": [],
      "metadata": {
        "id": "T18wquyd-Mw6"
      }
    },
    {
      "cell_type": "code",
      "execution_count": 42,
      "source": [
        "import numpy as np"
      ],
      "outputs": [],
      "metadata": {
        "id": "3q82t9Z0-NET"
      }
    },
    {
      "cell_type": "code",
      "execution_count": 43,
      "source": [
        "# from keras.models import load_model\n",
        "model=load_model('/gdrive/My Drive/input/chest_xray_100_Epochs.h5')"
      ],
      "outputs": [],
      "metadata": {
        "id": "iuaagDki-NS6"
      }
    },
    {
      "cell_type": "code",
      "execution_count": 44,
      "source": [
        "model.compile(metrics=[tf.keras.metrics.Recall()])"
      ],
      "outputs": [],
      "metadata": {
        "id": "zl1v-YnBDmyR"
      }
    },
    {
      "cell_type": "code",
      "execution_count": 45,
      "source": [
        "model.evaluate(test_set, return_dict=True, use_multiprocessing=True, workers=-1)"
      ],
      "outputs": [
        {
          "output_type": "stream",
          "name": "stdout",
          "text": [
            "63/63 [==============================] - 29s 451ms/step - loss: 0.0000e+00 - recall: 0.9279\n"
          ]
        },
        {
          "output_type": "execute_result",
          "data": {
            "text/plain": [
              "{'loss': 0.0, 'recall': 0.9278846383094788}"
            ]
          },
          "metadata": {},
          "execution_count": 45
        }
      ],
      "metadata": {
        "colab": {
          "base_uri": "https://localhost:8080/"
        },
        "id": "WgxvOvwQELfK",
        "outputId": "7ad77baa-7d8d-4b54-84ac-8d9bee7f1884"
      }
    },
    {
      "cell_type": "code",
      "execution_count": 46,
      "source": [
        "#conf_matrix = tf.math.confusion_matrix(labels=test_set,\n",
        "predictions=model.predict(test_set, workers=-1)\n",
        "print(predictions[:])"
      ],
      "outputs": [
        {
          "output_type": "stream",
          "name": "stdout",
          "text": [
            "[[1.0000000e+00 1.4081983e-09]\n",
            " [1.0000000e+00 4.9072241e-10]\n",
            " [2.2025823e-12 1.0000000e+00]\n",
            " ...\n",
            " [6.7062937e-02 9.3293703e-01]\n",
            " [1.0000000e+00 5.0953677e-12]\n",
            " [2.2763680e-17 1.0000000e+00]]\n"
          ]
        }
      ],
      "metadata": {
        "colab": {
          "base_uri": "https://localhost:8080/"
        },
        "id": "PB1kRharIQ8c",
        "outputId": "a761d490-a211-44a3-97d3-683b347131ae"
      }
    },
    {
      "cell_type": "markdown",
      "source": [],
      "metadata": {
        "id": "wu7qvw9E6Wo1"
      }
    },
    {
      "cell_type": "code",
      "execution_count": 47,
      "source": [
        "# test_set.classes[:]"
      ],
      "outputs": [],
      "metadata": {
        "id": "LDtrPX0BM72b"
      }
    },
    {
      "cell_type": "code",
      "execution_count": 48,
      "source": [
        "rnd_predictions = [round(pred[1]) for pred in predictions]\n",
        "# np.array(rnd_predictions)[:]"
      ],
      "outputs": [],
      "metadata": {
        "id": "3o2Q9FqiLR-y"
      }
    },
    {
      "cell_type": "code",
      "execution_count": 49,
      "source": [
        "# pred_labels = np.array(rnd_predictions) >= 0.5\n",
        "# pred_labels"
      ],
      "outputs": [],
      "metadata": {
        "id": "IldRedpxnmBJ"
      }
    },
    {
      "cell_type": "markdown",
      "source": [
        "Results"
      ],
      "metadata": {
        "id": "OFYDykAcOX-R"
      }
    },
    {
      "cell_type": "code",
      "execution_count": 50,
      "source": [
        "conf_matrix = tf.math.confusion_matrix(labels=test_set.classes, predictions=np.array(rnd_predictions))\n",
        "conf_matrix"
      ],
      "outputs": [
        {
          "output_type": "execute_result",
          "data": {
            "text/plain": [
              "<tf.Tensor: shape=(2, 2), dtype=int32, numpy=\n",
              "array([[ 91, 143],\n",
              "       [122, 268]], dtype=int32)>"
            ]
          },
          "metadata": {},
          "execution_count": 50
        }
      ],
      "metadata": {
        "colab": {
          "base_uri": "https://localhost:8080/"
        },
        "id": "RBwspZBZKZJ8",
        "outputId": "f0fc60f4-63d2-4fe9-c4aa-c239ba3da305"
      }
    },
    {
      "cell_type": "code",
      "execution_count": 29,
      "source": [
        "# test_set.classes"
      ],
      "outputs": [],
      "metadata": {
        "id": "lZ0RaWKLAgyn"
      }
    },
    {
      "cell_type": "code",
      "execution_count": 51,
      "source": [
        "img=image.load_img('/gdrive/My Drive/input/labeled-chest-xray-images/chest_xray/test/PNEUMONIA/person20_virus_51.jpeg',target_size=(224,224))"
      ],
      "outputs": [],
      "metadata": {
        "id": "DTzBOYkF_82g"
      }
    },
    {
      "cell_type": "code",
      "execution_count": 52,
      "source": [
        "x=image.img_to_array(img)"
      ],
      "outputs": [],
      "metadata": {
        "id": "peG5PNi__TpJ"
      }
    },
    {
      "cell_type": "code",
      "execution_count": 53,
      "source": [
        "x=np.expand_dims(x, axis=0)"
      ],
      "outputs": [],
      "metadata": {
        "id": "qte1-HDy-Nfi"
      }
    },
    {
      "cell_type": "code",
      "execution_count": 54,
      "source": [
        "img_data=preprocess_input(x)"
      ],
      "outputs": [],
      "metadata": {
        "id": "V44VPODmAGcs"
      }
    },
    {
      "cell_type": "code",
      "execution_count": 55,
      "source": [
        "classes=model.predict(img_data)"
      ],
      "outputs": [],
      "metadata": {
        "id": "31ljzpD-ANqa"
      }
    },
    {
      "cell_type": "code",
      "execution_count": 56,
      "source": [
        "# classes\n",
        "result=int(classes[0][1])"
      ],
      "outputs": [],
      "metadata": {
        "id": "slIwec-JBe5W"
      }
    },
    {
      "cell_type": "code",
      "execution_count": 57,
      "source": [
        "classes"
      ],
      "outputs": [
        {
          "output_type": "execute_result",
          "data": {
            "text/plain": [
              "array([[0., 1.]], dtype=float32)"
            ]
          },
          "metadata": {},
          "execution_count": 57
        }
      ],
      "metadata": {
        "colab": {
          "base_uri": "https://localhost:8080/"
        },
        "id": "PUoMSt4fy7Ne",
        "outputId": "810cf7ea-2803-4faf-ce7e-68d02e4a34c0"
      }
    },
    {
      "cell_type": "code",
      "execution_count": 58,
      "source": [
        "if result==0:\n",
        "  print(\"X-Ray results are Normal\")\n",
        "else:\n",
        "  print(\"X-Ray results indicate Pneumonia\")\n",
        "  "
      ],
      "outputs": [
        {
          "output_type": "stream",
          "name": "stdout",
          "text": [
            "X-Ray results indicate Pneumonia\n"
          ]
        }
      ],
      "metadata": {
        "colab": {
          "base_uri": "https://localhost:8080/"
        },
        "id": "PNnM7cwuBpj5",
        "outputId": "d9c4e490-6d9a-4721-a78d-ec35ca0d4312"
      }
    },
    {
      "cell_type": "code",
      "execution_count": 59,
      "source": [
        "result"
      ],
      "outputs": [
        {
          "output_type": "execute_result",
          "data": {
            "text/plain": [
              "1"
            ]
          },
          "metadata": {},
          "execution_count": 59
        }
      ],
      "metadata": {
        "colab": {
          "base_uri": "https://localhost:8080/"
        },
        "id": "5M95-uebx5FK",
        "outputId": "08f215e4-cf0c-4453-f5fa-cc9be4ee0358"
      }
    },
    {
      "cell_type": "markdown",
      "source": [
        "Explanation of Classes - First Column Prediction: result score: 0 = Pnemonia and 1 = Normal,   Second Column Actual x-Ray: 1 = Pneumonia and 0 = Normal"
      ],
      "metadata": {
        "id": "gUEH4WP0XmHl"
      }
    },
    {
      "cell_type": "code",
      "execution_count": 60,
      "source": [
        "classes"
      ],
      "outputs": [
        {
          "output_type": "execute_result",
          "data": {
            "text/plain": [
              "array([[0., 1.]], dtype=float32)"
            ]
          },
          "metadata": {},
          "execution_count": 60
        }
      ],
      "metadata": {
        "id": "7KCUTTXpz8Yq",
        "colab": {
          "base_uri": "https://localhost:8080/"
        },
        "outputId": "2c06526b-ab4c-4629-dcef-645fc1228b8e"
      }
    },
    {
      "cell_type": "markdown",
      "source": [
        "Additional Metrics and Plots"
      ],
      "metadata": {
        "id": "NoUdis8ZZRrx"
      }
    },
    {
      "cell_type": "code",
      "execution_count": 61,
      "source": [
        "import matplotlib.pyplot as plt\n",
        "plt.title('Loss')\n",
        "plt.xlabel('Epochs')\n",
        "plt.ylabel('Percentage')\n",
        "plt.plot(r.history['loss'])"
      ],
      "outputs": [
        {
          "output_type": "execute_result",
          "data": {
            "text/plain": [
              "[<matplotlib.lines.Line2D at 0x7fa337029a10>]"
            ]
          },
          "metadata": {},
          "execution_count": 61
        },
        {
          "output_type": "display_data",
          "data": {
            "image/png": "[encoded data removed]",
            "text/plain": [
              "<Figure size 432x288 with 1 Axes>"
            ]
          },
          "metadata": {
            "needs_background": "light"
          }
        }
      ],
      "metadata": {
        "colab": {
          "base_uri": "https://localhost:8080/",
          "height": 313
        },
        "id": "W5rTx18bViDZ",
        "outputId": "2f3dc2f1-8797-47f8-cc7b-12c6e82c5e6d"
      }
    },
    {
      "cell_type": "code",
      "execution_count": 62,
      "source": [
        "import matplotlib.pyplot as plt\n",
        "plt.title('Accuracy')\n",
        "plt.xlabel('Epochs')\n",
        "plt.ylabel('Percentage')\n",
        "plt.plot(r.history['accuracy'])"
      ],
      "outputs": [
        {
          "output_type": "execute_result",
          "data": {
            "text/plain": [
              "[<matplotlib.lines.Line2D at 0x7fa336b60c90>]"
            ]
          },
          "metadata": {},
          "execution_count": 62
        },
        {
          "output_type": "display_data",
          "data": {
            "image/png": "[encoded data removed]",
            "text/plain": [
              "<Figure size 432x288 with 1 Axes>"
            ]
          },
          "metadata": {
            "needs_background": "light"
          }
        }
      ],
      "metadata": {
        "colab": {
          "base_uri": "https://localhost:8080/",
          "height": 313
        },
        "id": "UdKPBTvDVrtW",
        "outputId": "42b7aae0-d2f5-40e4-a246-c874cf7e0b8b"
      }
    },
    {
      "cell_type": "code",
      "execution_count": 63,
      "source": [
        "import matplotlib.pyplot as plt\n",
        "plt.title('Validation Loss')\n",
        "plt.xlabel('Epochs')\n",
        "plt.ylabel('Percentage')\n",
        "plt.plot(r.history['val_loss'])"
      ],
      "outputs": [
        {
          "output_type": "execute_result",
          "data": {
            "text/plain": [
              "[<matplotlib.lines.Line2D at 0x7fa336ae1110>]"
            ]
          },
          "metadata": {},
          "execution_count": 63
        },
        {
          "output_type": "display_data",
          "data": {
            "image/png": "[encoded data removed]",
            "text/plain": [
              "<Figure size 432x288 with 1 Axes>"
            ]
          },
          "metadata": {
            "needs_background": "light"
          }
        }
      ],
      "metadata": {
        "colab": {
          "base_uri": "https://localhost:8080/",
          "height": 313
        },
        "id": "3U7wEMQ6YPBF",
        "outputId": "f2d8fa04-db1c-4884-f375-7632d822e1a4"
      }
    },
    {
      "cell_type": "code",
      "execution_count": 64,
      "source": [
        "import matplotlib.pyplot as plt\n",
        "plt.title('Val_Accuracy')\n",
        "plt.xlabel('Epochs')\n",
        "plt.ylabel('Percentage')\n",
        "plt.plot(r.history['val_accuracy'])"
      ],
      "outputs": [
        {
          "output_type": "execute_result",
          "data": {
            "text/plain": [
              "[<matplotlib.lines.Line2D at 0x7fa336abca90>]"
            ]
          },
          "metadata": {},
          "execution_count": 64
        },
        {
          "output_type": "display_data",
          "data": {
            "image/png": "[encoded data removed]",
            "text/plain": [
              "<Figure size 432x288 with 1 Axes>"
            ]
          },
          "metadata": {
            "needs_background": "light"
          }
        }
      ],
      "metadata": {
        "colab": {
          "base_uri": "https://localhost:8080/",
          "height": 313
        },
        "id": "_PJn5u0HYlt6",
        "outputId": "5bfdf81d-040b-4609-f449-f0320c3f2e69"
      }
    },
    {
      "cell_type": "code",
      "execution_count": 65,
      "source": [
        "true_labels = test_set.labels\n",
        "true_labels"
      ],
      "outputs": [
        {
          "output_type": "execute_result",
          "data": {
            "text/plain": [
              "array([0, 0, 0, 0, 0, 0, 0, 0, 0, 0, 0, 0, 0, 0, 0, 0, 0, 0, 0, 0, 0, 0,\n",
              "       0, 0, 0, 0, 0, 0, 0, 0, 0, 0, 0, 0, 0, 0, 0, 0, 0, 0, 0, 0, 0, 0,\n",
              "       0, 0, 0, 0, 0, 0, 0, 0, 0, 0, 0, 0, 0, 0, 0, 0, 0, 0, 0, 0, 0, 0,\n",
              "       0, 0, 0, 0, 0, 0, 0, 0, 0, 0, 0, 0, 0, 0, 0, 0, 0, 0, 0, 0, 0, 0,\n",
              "       0, 0, 0, 0, 0, 0, 0, 0, 0, 0, 0, 0, 0, 0, 0, 0, 0, 0, 0, 0, 0, 0,\n",
              "       0, 0, 0, 0, 0, 0, 0, 0, 0, 0, 0, 0, 0, 0, 0, 0, 0, 0, 0, 0, 0, 0,\n",
              "       0, 0, 0, 0, 0, 0, 0, 0, 0, 0, 0, 0, 0, 0, 0, 0, 0, 0, 0, 0, 0, 0,\n",
              "       0, 0, 0, 0, 0, 0, 0, 0, 0, 0, 0, 0, 0, 0, 0, 0, 0, 0, 0, 0, 0, 0,\n",
              "       0, 0, 0, 0, 0, 0, 0, 0, 0, 0, 0, 0, 0, 0, 0, 0, 0, 0, 0, 0, 0, 0,\n",
              "       0, 0, 0, 0, 0, 0, 0, 0, 0, 0, 0, 0, 0, 0, 0, 0, 0, 0, 0, 0, 0, 0,\n",
              "       0, 0, 0, 0, 0, 0, 0, 0, 0, 0, 0, 0, 0, 0, 1, 1, 1, 1, 1, 1, 1, 1,\n",
              "       1, 1, 1, 1, 1, 1, 1, 1, 1, 1, 1, 1, 1, 1, 1, 1, 1, 1, 1, 1, 1, 1,\n",
              "       1, 1, 1, 1, 1, 1, 1, 1, 1, 1, 1, 1, 1, 1, 1, 1, 1, 1, 1, 1, 1, 1,\n",
              "       1, 1, 1, 1, 1, 1, 1, 1, 1, 1, 1, 1, 1, 1, 1, 1, 1, 1, 1, 1, 1, 1,\n",
              "       1, 1, 1, 1, 1, 1, 1, 1, 1, 1, 1, 1, 1, 1, 1, 1, 1, 1, 1, 1, 1, 1,\n",
              "       1, 1, 1, 1, 1, 1, 1, 1, 1, 1, 1, 1, 1, 1, 1, 1, 1, 1, 1, 1, 1, 1,\n",
              "       1, 1, 1, 1, 1, 1, 1, 1, 1, 1, 1, 1, 1, 1, 1, 1, 1, 1, 1, 1, 1, 1,\n",
              "       1, 1, 1, 1, 1, 1, 1, 1, 1, 1, 1, 1, 1, 1, 1, 1, 1, 1, 1, 1, 1, 1,\n",
              "       1, 1, 1, 1, 1, 1, 1, 1, 1, 1, 1, 1, 1, 1, 1, 1, 1, 1, 1, 1, 1, 1,\n",
              "       1, 1, 1, 1, 1, 1, 1, 1, 1, 1, 1, 1, 1, 1, 1, 1, 1, 1, 1, 1, 1, 1,\n",
              "       1, 1, 1, 1, 1, 1, 1, 1, 1, 1, 1, 1, 1, 1, 1, 1, 1, 1, 1, 1, 1, 1,\n",
              "       1, 1, 1, 1, 1, 1, 1, 1, 1, 1, 1, 1, 1, 1, 1, 1, 1, 1, 1, 1, 1, 1,\n",
              "       1, 1, 1, 1, 1, 1, 1, 1, 1, 1, 1, 1, 1, 1, 1, 1, 1, 1, 1, 1, 1, 1,\n",
              "       1, 1, 1, 1, 1, 1, 1, 1, 1, 1, 1, 1, 1, 1, 1, 1, 1, 1, 1, 1, 1, 1,\n",
              "       1, 1, 1, 1, 1, 1, 1, 1, 1, 1, 1, 1, 1, 1, 1, 1, 1, 1, 1, 1, 1, 1,\n",
              "       1, 1, 1, 1, 1, 1, 1, 1, 1, 1, 1, 1, 1, 1, 1, 1, 1, 1, 1, 1, 1, 1,\n",
              "       1, 1, 1, 1, 1, 1, 1, 1, 1, 1, 1, 1, 1, 1, 1, 1, 1, 1, 1, 1, 1, 1,\n",
              "       1, 1, 1, 1, 1, 1, 1, 1, 1, 1, 1, 1, 1, 1, 1, 1, 1, 1, 1, 1, 1, 1,\n",
              "       1, 1, 1, 1, 1, 1, 1, 1], dtype=int32)"
            ]
          },
          "metadata": {},
          "execution_count": 65
        }
      ],
      "metadata": {
        "colab": {
          "base_uri": "https://localhost:8080/"
        },
        "id": "6U9znUZTDoC8",
        "outputId": "99686349-56b9-4370-eb32-816325838846"
      }
    },
    {
      "cell_type": "code",
      "execution_count": 66,
      "source": [
        "pred_labels = [round(pred[1]) for pred in predictions]\n",
        "pred_labels = np.array(pred_labels)[:]\n",
        "pred_labels"
      ],
      "outputs": [
        {
          "output_type": "execute_result",
          "data": {
            "text/plain": [
              "array([0, 0, 1, 1, 1, 1, 0, 1, 1, 0, 1, 1, 1, 1, 1, 1, 0, 0, 0, 1, 0, 1,\n",
              "       0, 1, 1, 0, 1, 1, 1, 0, 0, 1, 1, 1, 1, 1, 0, 0, 1, 0, 0, 1, 1, 0,\n",
              "       1, 1, 1, 0, 0, 1, 1, 0, 0, 1, 0, 1, 1, 1, 1, 1, 0, 1, 0, 0, 1, 1,\n",
              "       1, 1, 0, 0, 0, 1, 1, 1, 1, 1, 1, 1, 0, 1, 0, 1, 0, 0, 0, 1, 1, 1,\n",
              "       1, 1, 1, 1, 1, 1, 0, 1, 1, 1, 0, 1, 1, 0, 1, 0, 1, 0, 1, 0, 0, 0,\n",
              "       1, 0, 1, 1, 1, 0, 0, 1, 1, 1, 0, 1, 1, 1, 1, 1, 1, 0, 1, 1, 1, 1,\n",
              "       1, 0, 0, 0, 0, 0, 0, 1, 1, 0, 1, 1, 1, 1, 1, 0, 0, 0, 1, 1, 1, 0,\n",
              "       0, 0, 1, 1, 1, 1, 0, 1, 0, 1, 0, 1, 1, 0, 1, 1, 1, 0, 1, 1, 0, 0,\n",
              "       0, 1, 1, 1, 1, 1, 1, 0, 1, 1, 1, 0, 1, 1, 0, 1, 1, 1, 0, 1, 0, 1,\n",
              "       1, 0, 0, 0, 0, 1, 1, 1, 1, 0, 0, 0, 0, 1, 1, 0, 1, 1, 0, 0, 0, 0,\n",
              "       0, 1, 1, 1, 0, 1, 0, 1, 0, 0, 1, 1, 0, 1, 0, 0, 1, 1, 0, 1, 1, 1,\n",
              "       1, 1, 1, 0, 1, 0, 1, 1, 1, 1, 1, 1, 1, 0, 0, 1, 1, 1, 0, 0, 0, 1,\n",
              "       0, 1, 1, 0, 1, 1, 1, 0, 1, 1, 0, 0, 1, 1, 0, 0, 1, 0, 0, 1, 1, 1,\n",
              "       1, 1, 1, 1, 1, 1, 1, 1, 1, 0, 1, 1, 1, 0, 0, 1, 1, 1, 0, 0, 0, 1,\n",
              "       1, 1, 1, 1, 1, 1, 1, 0, 1, 0, 1, 1, 1, 0, 1, 1, 1, 0, 1, 0, 1, 1,\n",
              "       0, 1, 0, 1, 0, 1, 0, 0, 0, 1, 1, 1, 1, 1, 1, 1, 1, 1, 1, 1, 1, 1,\n",
              "       0, 1, 0, 1, 1, 0, 1, 1, 1, 1, 0, 1, 0, 1, 0, 1, 0, 1, 0, 0, 1, 1,\n",
              "       1, 1, 1, 0, 1, 0, 1, 1, 1, 0, 1, 0, 1, 1, 1, 1, 0, 0, 1, 1, 1, 0,\n",
              "       0, 1, 1, 1, 1, 1, 0, 1, 1, 0, 1, 1, 0, 0, 1, 0, 0, 1, 0, 1, 1, 1,\n",
              "       0, 1, 1, 1, 1, 1, 0, 1, 1, 1, 0, 1, 0, 0, 1, 1, 1, 1, 1, 1, 1, 1,\n",
              "       1, 1, 1, 0, 1, 1, 0, 1, 1, 1, 0, 0, 0, 1, 1, 0, 1, 0, 1, 1, 1, 1,\n",
              "       1, 1, 1, 0, 1, 1, 0, 0, 1, 1, 1, 1, 0, 0, 0, 1, 0, 0, 1, 1, 1, 1,\n",
              "       1, 1, 0, 1, 1, 1, 1, 1, 1, 0, 1, 1, 1, 1, 1, 1, 1, 1, 1, 0, 0, 0,\n",
              "       0, 1, 1, 1, 1, 1, 0, 1, 0, 0, 0, 1, 0, 1, 1, 0, 0, 1, 0, 1, 1, 1,\n",
              "       0, 0, 1, 0, 0, 1, 1, 1, 1, 1, 0, 1, 1, 0, 1, 1, 1, 1, 1, 1, 1, 1,\n",
              "       0, 1, 0, 1, 1, 1, 1, 1, 1, 0, 1, 1, 1, 0, 1, 1, 1, 1, 1, 0, 1, 0,\n",
              "       0, 1, 1, 0, 1, 0, 0, 1, 0, 1, 1, 1, 1, 1, 0, 0, 1, 0, 0, 1, 0, 1,\n",
              "       1, 1, 1, 1, 1, 1, 1, 1, 1, 0, 1, 0, 1, 0, 1, 0, 1, 1, 1, 1, 1, 1,\n",
              "       1, 1, 1, 0, 1, 1, 0, 1])"
            ]
          },
          "metadata": {},
          "execution_count": 66
        }
      ],
      "metadata": {
        "colab": {
          "base_uri": "https://localhost:8080/"
        },
        "id": "F_F-QRbUIR8g",
        "outputId": "663465b4-7472-45e6-e397-d1c589ee7288"
      }
    },
    {
      "cell_type": "code",
      "execution_count": 67,
      "source": [
        "from sklearn.metrics import confusion_matrix\n",
        "cm = confusion_matrix(true_labels, pred_labels)"
      ],
      "outputs": [],
      "metadata": {
        "id": "KEQg06qqNiJd"
      }
    },
    {
      "cell_type": "code",
      "execution_count": 68,
      "source": [
        "import matplotlib.pyplot as plt\n",
        "import seaborn as sns\n",
        "plt.figure(figsize=(6,6))\n",
        "sns.heatmap(cm, annot=True, fmt='g', vmin=0, cmap='mako', cbar=False)\n",
        "plt.xlabel(\"Predicted\")\n",
        "plt.ylabel(\"Actual\")\n",
        "plt.xticks(np.arange(2) + 0.5, ['Pneumonia', 'Normal'], fontsize=16)\n",
        "plt.yticks(np.arange(2) + 0.5, ['Pneumonia', 'Normal'], fontsize=16)\n",
        "plt.show()"
      ],
      "outputs": [
        {
          "output_type": "display_data",
          "data": {
            "image/png": "[encoded data removed]",
            "text/plain": [
              "<Figure size 432x432 with 1 Axes>"
            ]
          },
          "metadata": {
            "needs_background": "light"
          }
        }
      ],
      "metadata": {
        "colab": {
          "base_uri": "https://localhost:8080/",
          "height": 393
        },
        "id": "bkwFS3elQGS8",
        "outputId": "10906a6e-bfac-4975-e22e-d26dc9c5f22a"
      }
    },
    {
      "cell_type": "code",
      "execution_count": 69,
      "source": [
        "results = model.evaluate(test_set, verbose=0)\n",
        "accuracy = results[1]"
      ],
      "outputs": [],
      "metadata": {
        "id": "5eNRu9fnQiEa"
      }
    },
    {
      "cell_type": "code",
      "execution_count": 70,
      "source": [
        "tn, fp, fn, tp = cm.ravel()\n",
        "\n",
        "precision = tp / (tp + fp)\n",
        "recall = tp / (tp + fn)"
      ],
      "outputs": [],
      "metadata": {
        "id": "O8XRszGMRNUG"
      }
    },
    {
      "cell_type": "code",
      "execution_count": 71,
      "source": [
        "print (\"Accuracy: {:.2f}\".format(accuracy))\n",
        "print (\"Precision: {:.2f}\".format(precision))\n",
        "print (\"Recall: {:.2f}\".format(recall)) "
      ],
      "outputs": [
        {
          "output_type": "stream",
          "name": "stdout",
          "text": [
            "Accuracy: 0.93\n",
            "Precision: 0.65\n",
            "Recall: 0.69\n"
          ]
        }
      ],
      "metadata": {
        "colab": {
          "base_uri": "https://localhost:8080/"
        },
        "id": "iMUrI3aRS_OT",
        "outputId": "e1798910-3335-42d5-80ac-d40ca0cad4e5"
      }
    },
    {
      "cell_type": "code",
      "execution_count": 72,
      "source": [
        "import matplotlib.pyplot as plt\n",
        "plt.plot(r.history['loss'], label='train loss')\n",
        "plt.plot(r.history['val_loss'], label='val loss')\n",
        "plt.legend()\n",
        "plt.show()\n",
        "# plt.savefig('LossVal_loss')\n",
        "\n",
        "plt.plot(r.history['accuracy'], label='train acc')\n",
        "plt.plot(r.history['val_accuracy'], label='val acc')\n",
        "plt.legend()\n",
        "plt.show()\n",
        "# plt.savefig('AccVal_acc')"
      ],
      "outputs": [
        {
          "output_type": "display_data",
          "data": {
            "image/png": "[encoded data removed]",
            "text/plain": [
              "<Figure size 432x288 with 1 Axes>"
            ]
          },
          "metadata": {
            "needs_background": "light"
          }
        },
        {
          "output_type": "display_data",
          "data": {
            "image/png": "[encoded data removed]",
            "text/plain": [
              "<Figure size 432x288 with 1 Axes>"
            ]
          },
          "metadata": {
            "needs_background": "light"
          }
        }
      ],
      "metadata": {
        "colab": {
          "base_uri": "https://localhost:8080/",
          "height": 520
        },
        "id": "PV6E0WX5TNm6",
        "outputId": "e182ba7a-6039-4b6c-8875-ae0c19ae5d62"
      }
    },
    {
      "cell_type": "code",
      "execution_count": 72,
      "source": [],
      "outputs": [],
      "metadata": {
        "id": "PkPUJF_VZMbh"
      }
    }
  ]
}