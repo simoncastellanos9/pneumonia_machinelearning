{
  "nbformat": 4,
  "nbformat_minor": 2,
  "metadata": {
    "colab": {
      "name": "CNN_Group4_Project4_ver2.ipynb",
      "provenance": [],
      "collapsed_sections": [],
      "machine_shape": "hm"
    },
    "kernelspec": {
      "name": "python3",
      "display_name": "Python 3"
    },
    "language_info": {
      "name": "python"
    },
    "accelerator": "TPU"
  },
  "cells": [
    {
      "cell_type": "code",
      "execution_count": 1,
      "source": [
        "import warnings\r\n",
        "warnings.filterwarnings('ignore')"
      ],
      "outputs": [],
      "metadata": {
        "id": "qYZXnAXryT6s"
      }
    },
    {
      "cell_type": "code",
      "execution_count": 2,
      "source": [
        "import tensorflow as tf\r\n",
        "from tensorflow import keras"
      ],
      "outputs": [],
      "metadata": {
        "id": "mu73jVaYy_HQ"
      }
    },
    {
      "cell_type": "code",
      "execution_count": 3,
      "source": [
        "from keras.layers import Input, Lambda, Dense, Flatten"
      ],
      "outputs": [],
      "metadata": {
        "id": "Hxayb81NzF8D"
      }
    },
    {
      "cell_type": "markdown",
      "source": [
        "Tensorflow backend # https://keras.io/api/applications/   List of available models to use for images.  "
      ],
      "metadata": {
        "id": "ONcxLwaCRXCA"
      }
    },
    {
      "cell_type": "code",
      "execution_count": 4,
      "source": [
        "from keras.models import Model\r\n",
        "from keras.applications.vgg16 import VGG16\r\n",
        "from keras.applications.vgg16 import preprocess_input\r\n",
        "from keras.preprocessing import image\r\n",
        "from keras.preprocessing.image import ImageDataGenerator  \r\n",
        "from keras.models import Sequential\r\n",
        "import numpy as np\r\n",
        "from glob import glob\r\n",
        "import matplotlib.pyplot as plt"
      ],
      "outputs": [],
      "metadata": {
        "id": "SnlkQ01MzNfN"
      }
    },
    {
      "cell_type": "markdown",
      "source": [
        "note: VGG16 was created to use 224 224. "
      ],
      "metadata": {
        "id": "LndL_5FNcbUm"
      }
    },
    {
      "cell_type": "code",
      "execution_count": 5,
      "source": [
        "IMAGE_SIZE = [224, 224] \r\n",
        "\r\n",
        "train_path = '/gdrive/My Drive/input/labeled-chest-xray-images/chest_xray/train/'\r\n",
        "test_path = '/gdrive/My Drive/input/labeled-chest-xray-images/chest_xray/test/'"
      ],
      "outputs": [],
      "metadata": {
        "id": "Zv29ghR30djE"
      }
    },
    {
      "cell_type": "markdown",
      "source": [
        "if we have black and white images use 1 vs 3\""
      ],
      "metadata": {
        "id": "BtZrXG6wcoNK"
      }
    },
    {
      "cell_type": "code",
      "execution_count": 6,
      "source": [
        "vgg = VGG16(input_shape=IMAGE_SIZE + [3], weights='imagenet', include_top=False) "
      ],
      "outputs": [],
      "metadata": {
        "id": "z99zMAOt1hBJ"
      }
    },
    {
      "cell_type": "markdown",
      "source": [
        "We do not have to train vgg16 layers since they have already been trained.  "
      ],
      "metadata": {
        "id": "mDmyHK3Gcxhb"
      }
    },
    {
      "cell_type": "code",
      "execution_count": 7,
      "source": [
        "# https://stackoverflow.com/questions/61292890/transfer-learning-only-works-with-trainable-set-to-false\n",
        "for layer in vgg.layers:\n",
        "    layer.trainable = False "
      ],
      "outputs": [],
      "metadata": {
        "id": "TmdZa9rj3l3v"
      }
    },
    {
      "cell_type": "code",
      "execution_count": 8,
      "source": [
        "# https://stackoverflow.com/questions/2186525/how-to-use-glob-to-find-files-recursively\n",
        "folders = glob('/gdrive/My Drive/input/labeled-chest-xray-images/chest_xray/train/*')\n",
        "x = Flatten() (vgg.output)"
      ],
      "outputs": [],
      "metadata": {
        "id": "WJDa-Zgv13Zt"
      }
    },
    {
      "cell_type": "code",
      "execution_count": 9,
      "source": [
        "# this adds the folder names (NORMAL, PNEMONIA) as the two classes.  softmax is used for vgg16 vs sigmoid.  \n",
        "prediction = Dense(len(folders), activation='softmax') (x)  \n",
        "# creating a model object\n",
        "model = Model(inputs=vgg.input, outputs=prediction)\n",
        "# view structure of the model\n",
        "model.summary()"
      ],
      "outputs": [
        {
          "output_type": "stream",
          "name": "stdout",
          "text": [
            "Model: \"model\"\n",
            "_________________________________________________________________\n",
            "Layer (type)                 Output Shape              Param #   \n",
            "=================================================================\n",
            "input_1 (InputLayer)         [(None, 224, 224, 3)]     0         \n",
            "_________________________________________________________________\n",
            "block1_conv1 (Conv2D)        (None, 224, 224, 64)      1792      \n",
            "_________________________________________________________________\n",
            "block1_conv2 (Conv2D)        (None, 224, 224, 64)      36928     \n",
            "_________________________________________________________________\n",
            "block1_pool (MaxPooling2D)   (None, 112, 112, 64)      0         \n",
            "_________________________________________________________________\n",
            "block2_conv1 (Conv2D)        (None, 112, 112, 128)     73856     \n",
            "_________________________________________________________________\n",
            "block2_conv2 (Conv2D)        (None, 112, 112, 128)     147584    \n",
            "_________________________________________________________________\n",
            "block2_pool (MaxPooling2D)   (None, 56, 56, 128)       0         \n",
            "_________________________________________________________________\n",
            "block3_conv1 (Conv2D)        (None, 56, 56, 256)       295168    \n",
            "_________________________________________________________________\n",
            "block3_conv2 (Conv2D)        (None, 56, 56, 256)       590080    \n",
            "_________________________________________________________________\n",
            "block3_conv3 (Conv2D)        (None, 56, 56, 256)       590080    \n",
            "_________________________________________________________________\n",
            "block3_pool (MaxPooling2D)   (None, 28, 28, 256)       0         \n",
            "_________________________________________________________________\n",
            "block4_conv1 (Conv2D)        (None, 28, 28, 512)       1180160   \n",
            "_________________________________________________________________\n",
            "block4_conv2 (Conv2D)        (None, 28, 28, 512)       2359808   \n",
            "_________________________________________________________________\n",
            "block4_conv3 (Conv2D)        (None, 28, 28, 512)       2359808   \n",
            "_________________________________________________________________\n",
            "block4_pool (MaxPooling2D)   (None, 14, 14, 512)       0         \n",
            "_________________________________________________________________\n",
            "block5_conv1 (Conv2D)        (None, 14, 14, 512)       2359808   \n",
            "_________________________________________________________________\n",
            "block5_conv2 (Conv2D)        (None, 14, 14, 512)       2359808   \n",
            "_________________________________________________________________\n",
            "block5_conv3 (Conv2D)        (None, 14, 14, 512)       2359808   \n",
            "_________________________________________________________________\n",
            "block5_pool (MaxPooling2D)   (None, 7, 7, 512)         0         \n",
            "_________________________________________________________________\n",
            "flatten (Flatten)            (None, 25088)             0         \n",
            "_________________________________________________________________\n",
            "dense (Dense)                (None, 2)                 50178     \n",
            "=================================================================\n",
            "Total params: 14,764,866\n",
            "Trainable params: 50,178\n",
            "Non-trainable params: 14,714,688\n",
            "_________________________________________________________________\n"
          ]
        }
      ],
      "metadata": {
        "id": "vBbZUJXd4PhX",
        "colab": {
          "base_uri": "https://localhost:8080/"
        },
        "outputId": "fbf9a8d7-6d26-4e3d-8c64-f327064eaf28"
      }
    },
    {
      "cell_type": "markdown",
      "source": [
        "compiling model"
      ],
      "metadata": {
        "id": "wmW5UwkvJBZD"
      }
    },
    {
      "cell_type": "code",
      "execution_count": 10,
      "source": [
        "# https://stackoverflow.com/questions/42081257/why-binary-crossentropy-and-categorical-crossentropy-give-different-performances\n",
        "model.compile(\n",
        "  loss='categorical_crossentropy',\n",
        "  optimizer='adam',\n",
        "  metrics=['accuracy']\n",
        ")"
      ],
      "outputs": [],
      "metadata": {
        "id": "COYqpj2h4xU7"
      }
    },
    {
      "cell_type": "code",
      "execution_count": 11,
      "source": [
        "from keras.preprocessing.image import ImageDataGenerator"
      ],
      "outputs": [],
      "metadata": {
        "id": "qc1W8xl05-wF"
      }
    },
    {
      "cell_type": "code",
      "execution_count": 12,
      "source": [
        "# note: must input code received from google for access to the google drive files: Please copy this code, switch to your application and paste it there:\n",
        "# 4/1AX4XfWgMbu2qOfhAjCXU90DNP_Yx7EFgJsSBJrHiKfPqnwomhdAgQZxkp3o\n",
        "from google.colab import drive\n",
        "drive.mount('/gdrive')\n",
        "%cd /gdrive"
      ],
      "outputs": [
        {
          "output_type": "stream",
          "name": "stdout",
          "text": [
            "Drive already mounted at /gdrive; to attempt to forcibly remount, call drive.mount(\"/gdrive\", force_remount=True).\n",
            "/gdrive\n"
          ]
        }
      ],
      "metadata": {
        "id": "MA1m3_UkTuYT",
        "colab": {
          "base_uri": "https://localhost:8080/"
        },
        "outputId": "367ebc06-aa7a-4917-b9e0-9883fb6d9ca2"
      }
    },
    {
      "cell_type": "markdown",
      "source": [
        "Creating Generators - available in the Keras website"
      ],
      "metadata": {
        "id": "yxyYq9qvLkXt"
      }
    },
    {
      "cell_type": "code",
      "execution_count": 13,
      "source": [
        "train_datagen = ImageDataGenerator(rescale = 1./255,\n",
        "                                   shear_range = 0.2,\n",
        "                                   zoom_range = 0.3,\n",
        "                                   horizontal_flip = True)\n",
        "\n",
        "test_datagen = ImageDataGenerator(rescale = 1./255)\n",
        "\n",
        "\n",
        "\n",
        "\n",
        "# Make sure you provide the same target size as initialied for the image size (\"reads the folder name for different classes NORMAL and PNEMONIA\")\n",
        "training_set = train_datagen.flow_from_directory('/gdrive/My Drive/input/labeled-chest-xray-images/chest_xray/train/',\n",
        "                                                 target_size = (224, 224),\n",
        "                                                 batch_size = 10,\n",
        "                                                 class_mode = 'categorical')\n",
        "\n",
        "\n",
        "\n",
        "\n",
        "test_set = test_datagen.flow_from_directory('/gdrive/My Drive/input/labeled-chest-xray-images/chest_xray/test/',\n",
        "                                            target_size = (224, 224),\n",
        "                                            batch_size = 10,\n",
        "                                            class_mode = 'categorical')"
      ],
      "outputs": [
        {
          "output_type": "stream",
          "name": "stdout",
          "text": [
            "Found 5216 images belonging to 2 classes.\n",
            "Found 624 images belonging to 2 classes.\n"
          ]
        }
      ],
      "metadata": {
        "colab": {
          "base_uri": "https://localhost:8080/"
        },
        "id": "E25a3uCL6MNr",
        "outputId": "d2243a07-71c8-481f-c7cb-69feb5edc937"
      }
    },
    {
      "cell_type": "code",
      "execution_count": 14,
      "source": [
        "training_set.class_indices"
      ],
      "outputs": [
        {
          "output_type": "execute_result",
          "data": {
            "text/plain": [
              "{'NORMAL': 0, 'PNEUMONIA': 1}"
            ]
          },
          "metadata": {},
          "execution_count": 14
        }
      ],
      "metadata": {
        "colab": {
          "base_uri": "https://localhost:8080/"
        },
        "id": "v4GsXGMDx8MW",
        "outputId": "a8c919bd-08f6-4847-97c3-9b5379916ae4"
      }
    },
    {
      "cell_type": "markdown",
      "source": [
        "Building and Fitting Model"
      ],
      "metadata": {
        "id": "fuc6pmXQLT8G"
      }
    },
    {
      "cell_type": "code",
      "execution_count": 15,
      "source": [
        "r = model.fit_generator(   \n",
        "  training_set,\n",
        "  validation_data=test_set,\n",
        "  epochs=30,\n",
        "  steps_per_epoch=len(training_set),\n",
        "  validation_steps=len(test_set),\n",
        "  workers=-1,\n",
        ") "
      ],
      "outputs": [
        {
          "output_type": "stream",
          "name": "stdout",
          "text": [
            "Epoch 1/30\n",
            "522/522 [==============================] - 341s 653ms/step - loss: 0.2274 - accuracy: 0.9158 - val_loss: 1.1748 - val_accuracy: 0.7949\n",
            "Epoch 2/30\n",
            "522/522 [==============================] - 322s 617ms/step - loss: 0.1775 - accuracy: 0.9459 - val_loss: 0.2702 - val_accuracy: 0.9103\n",
            "Epoch 3/30\n",
            "522/522 [==============================] - 321s 614ms/step - loss: 0.1518 - accuracy: 0.9507 - val_loss: 0.3323 - val_accuracy: 0.9119\n",
            "Epoch 4/30\n",
            "522/522 [==============================] - 322s 617ms/step - loss: 0.1642 - accuracy: 0.9500 - val_loss: 0.3407 - val_accuracy: 0.9071\n",
            "Epoch 5/30\n",
            "522/522 [==============================] - 326s 625ms/step - loss: 0.1454 - accuracy: 0.9511 - val_loss: 0.3132 - val_accuracy: 0.9087\n",
            "Epoch 6/30\n",
            "522/522 [==============================] - 325s 622ms/step - loss: 0.1616 - accuracy: 0.9592 - val_loss: 0.8213 - val_accuracy: 0.8606\n",
            "Epoch 7/30\n",
            "522/522 [==============================] - 326s 624ms/step - loss: 0.1488 - accuracy: 0.9597 - val_loss: 0.3332 - val_accuracy: 0.9167\n",
            "Epoch 8/30\n",
            "522/522 [==============================] - 328s 628ms/step - loss: 0.1678 - accuracy: 0.9588 - val_loss: 0.4896 - val_accuracy: 0.9087\n",
            "Epoch 9/30\n",
            "522/522 [==============================] - 328s 627ms/step - loss: 0.1432 - accuracy: 0.9617 - val_loss: 0.3974 - val_accuracy: 0.9135\n",
            "Epoch 10/30\n",
            "522/522 [==============================] - 332s 635ms/step - loss: 0.1222 - accuracy: 0.9653 - val_loss: 0.9673 - val_accuracy: 0.8510\n",
            "Epoch 11/30\n",
            "522/522 [==============================] - 329s 630ms/step - loss: 0.1786 - accuracy: 0.9563 - val_loss: 0.5592 - val_accuracy: 0.9215\n",
            "Epoch 12/30\n",
            "522/522 [==============================] - 332s 637ms/step - loss: 0.1132 - accuracy: 0.9691 - val_loss: 0.4340 - val_accuracy: 0.9183\n",
            "Epoch 13/30\n",
            "522/522 [==============================] - 332s 635ms/step - loss: 0.1179 - accuracy: 0.9693 - val_loss: 0.4372 - val_accuracy: 0.9327\n",
            "Epoch 14/30\n",
            "522/522 [==============================] - 337s 646ms/step - loss: 0.1302 - accuracy: 0.9668 - val_loss: 0.5699 - val_accuracy: 0.9135\n",
            "Epoch 15/30\n",
            "522/522 [==============================] - 334s 641ms/step - loss: 0.1101 - accuracy: 0.9701 - val_loss: 0.5036 - val_accuracy: 0.9119\n",
            "Epoch 16/30\n",
            "522/522 [==============================] - 339s 650ms/step - loss: 0.1319 - accuracy: 0.9680 - val_loss: 0.4349 - val_accuracy: 0.9199\n",
            "Epoch 17/30\n",
            "522/522 [==============================] - 340s 651ms/step - loss: 0.1403 - accuracy: 0.9674 - val_loss: 0.4948 - val_accuracy: 0.9087\n",
            "Epoch 18/30\n",
            "522/522 [==============================] - 343s 658ms/step - loss: 0.1474 - accuracy: 0.9661 - val_loss: 0.7178 - val_accuracy: 0.8510\n",
            "Epoch 19/30\n",
            "522/522 [==============================] - 339s 650ms/step - loss: 0.1310 - accuracy: 0.9670 - val_loss: 0.5141 - val_accuracy: 0.9087\n",
            "Epoch 20/30\n",
            "522/522 [==============================] - 340s 652ms/step - loss: 0.1111 - accuracy: 0.9707 - val_loss: 0.6059 - val_accuracy: 0.9103\n",
            "Epoch 21/30\n",
            "522/522 [==============================] - 344s 660ms/step - loss: 0.1589 - accuracy: 0.9651 - val_loss: 1.2038 - val_accuracy: 0.8718\n",
            "Epoch 22/30\n",
            "522/522 [==============================] - 346s 663ms/step - loss: 0.1428 - accuracy: 0.9655 - val_loss: 0.4546 - val_accuracy: 0.9279\n",
            "Epoch 23/30\n",
            "522/522 [==============================] - 343s 657ms/step - loss: 0.1377 - accuracy: 0.9684 - val_loss: 0.5299 - val_accuracy: 0.9279\n",
            "Epoch 24/30\n",
            "522/522 [==============================] - 353s 676ms/step - loss: 0.1019 - accuracy: 0.9753 - val_loss: 0.5015 - val_accuracy: 0.9071\n",
            "Epoch 25/30\n",
            "522/522 [==============================] - 352s 675ms/step - loss: 0.1016 - accuracy: 0.9720 - val_loss: 0.6777 - val_accuracy: 0.9087\n",
            "Epoch 26/30\n",
            "522/522 [==============================] - 335s 642ms/step - loss: 0.1253 - accuracy: 0.9691 - val_loss: 0.5214 - val_accuracy: 0.9135\n",
            "Epoch 27/30\n",
            "522/522 [==============================] - 335s 642ms/step - loss: 0.1051 - accuracy: 0.9745 - val_loss: 0.4556 - val_accuracy: 0.9231\n",
            "Epoch 28/30\n",
            "522/522 [==============================] - 336s 644ms/step - loss: 0.1058 - accuracy: 0.9734 - val_loss: 0.4792 - val_accuracy: 0.9135\n",
            "Epoch 29/30\n",
            "522/522 [==============================] - 337s 645ms/step - loss: 0.1014 - accuracy: 0.9722 - val_loss: 0.4867 - val_accuracy: 0.9022\n",
            "Epoch 30/30\n",
            "522/522 [==============================] - 340s 652ms/step - loss: 0.1015 - accuracy: 0.9734 - val_loss: 0.5778 - val_accuracy: 0.9183\n"
          ]
        }
      ],
      "metadata": {
        "colab": {
          "base_uri": "https://localhost:8080/"
        },
        "id": "ttXbAqL07IX5",
        "outputId": "5424c0ab-5d34-40e1-e580-d600df387ad9"
      }
    },
    {
      "cell_type": "code",
      "execution_count": 16,
      "source": [
        "import tensorflow as tf\n",
        "from keras.models import load_model\n",
        "# from google.colab import drive\n",
        "# drive.mount()\n",
        "# %cd /gdrive\n",
        "model.save('/gdrive/My Drive/input/chest_xray_30_Epochs.h5')"
      ],
      "outputs": [],
      "metadata": {
        "id": "ACP1coq_9q2d"
      }
    },
    {
      "cell_type": "code",
      "execution_count": 17,
      "source": [
        "from keras.models import load_model"
      ],
      "outputs": [],
      "metadata": {
        "id": "4Yqwsl6T-AnH"
      }
    },
    {
      "cell_type": "code",
      "execution_count": 18,
      "source": [
        "from keras.preprocessing import image"
      ],
      "outputs": [],
      "metadata": {
        "id": "GPL8TXtX-MMh"
      }
    },
    {
      "cell_type": "code",
      "execution_count": 19,
      "source": [
        "from keras.applications.vgg16 import preprocess_input"
      ],
      "outputs": [],
      "metadata": {
        "id": "T18wquyd-Mw6"
      }
    },
    {
      "cell_type": "code",
      "execution_count": 20,
      "source": [
        "import numpy as np"
      ],
      "outputs": [],
      "metadata": {
        "id": "3q82t9Z0-NET"
      }
    },
    {
      "cell_type": "code",
      "execution_count": 21,
      "source": [
        "# from keras.models import load_model\n",
        "model=load_model('/gdrive/My Drive/input/chest_xray_30_Epochs.h5')"
      ],
      "outputs": [],
      "metadata": {
        "id": "iuaagDki-NS6"
      }
    },
    {
      "cell_type": "code",
      "execution_count": 22,
      "source": [
        "model.compile(metrics=[tf.keras.metrics.Recall()])"
      ],
      "outputs": [],
      "metadata": {
        "id": "zl1v-YnBDmyR"
      }
    },
    {
      "cell_type": "code",
      "execution_count": 23,
      "source": [
        "model.evaluate(test_set, return_dict=True, use_multiprocessing=True, workers=-1)"
      ],
      "outputs": [
        {
          "output_type": "stream",
          "name": "stdout",
          "text": [
            "63/63 [==============================] - 28s 440ms/step - loss: 0.0000e+00 - recall: 0.9183\n"
          ]
        },
        {
          "output_type": "execute_result",
          "data": {
            "text/plain": [
              "{'loss': 0.0, 'recall': 0.9182692170143127}"
            ]
          },
          "metadata": {},
          "execution_count": 23
        }
      ],
      "metadata": {
        "colab": {
          "base_uri": "https://localhost:8080/"
        },
        "id": "WgxvOvwQELfK",
        "outputId": "7d5f48c6-1c37-497e-932e-face93551064"
      }
    },
    {
      "cell_type": "code",
      "execution_count": 24,
      "source": [
        "#conf_matrix = tf.math.confusion_matrix(labels=test_set,\n",
        "predictions=model.predict(test_set, workers=-1)\n",
        "print(predictions[:])"
      ],
      "outputs": [
        {
          "output_type": "stream",
          "name": "stdout",
          "text": [
            "[[6.4239712e-03 9.9357599e-01]\n",
            " [1.9673058e-10 1.0000000e+00]\n",
            " [5.9306565e-10 1.0000000e+00]\n",
            " ...\n",
            " [1.0061051e-11 1.0000000e+00]\n",
            " [4.9931798e-10 1.0000000e+00]\n",
            " [1.0000000e+00 3.7918394e-08]]\n"
          ]
        }
      ],
      "metadata": {
        "colab": {
          "base_uri": "https://localhost:8080/"
        },
        "id": "PB1kRharIQ8c",
        "outputId": "769fb4ce-e0f9-4d44-d1a7-fe445a2daa33"
      }
    },
    {
      "cell_type": "markdown",
      "source": [],
      "metadata": {
        "id": "wu7qvw9E6Wo1"
      }
    },
    {
      "cell_type": "code",
      "execution_count": 25,
      "source": [
        "# test_set.classes[:]"
      ],
      "outputs": [],
      "metadata": {
        "id": "LDtrPX0BM72b"
      }
    },
    {
      "cell_type": "code",
      "execution_count": 26,
      "source": [
        "rnd_predictions = [round(pred[1]) for pred in predictions]\n",
        "# np.array(rnd_predictions)[:]"
      ],
      "outputs": [],
      "metadata": {
        "id": "3o2Q9FqiLR-y"
      }
    },
    {
      "cell_type": "code",
      "execution_count": 27,
      "source": [
        "# pred_labels = np.array(rnd_predictions) >= 0.5\n",
        "# pred_labels"
      ],
      "outputs": [],
      "metadata": {
        "id": "IldRedpxnmBJ"
      }
    },
    {
      "cell_type": "markdown",
      "source": [
        "Results"
      ],
      "metadata": {
        "id": "OFYDykAcOX-R"
      }
    },
    {
      "cell_type": "code",
      "execution_count": 28,
      "source": [
        "conf_matrix = tf.math.confusion_matrix(labels=test_set.classes, predictions=np.array(rnd_predictions))\n",
        "conf_matrix"
      ],
      "outputs": [
        {
          "output_type": "execute_result",
          "data": {
            "text/plain": [
              "<tf.Tensor: shape=(2, 2), dtype=int32, numpy=\n",
              "array([[ 72, 162],\n",
              "       [129, 261]], dtype=int32)>"
            ]
          },
          "metadata": {},
          "execution_count": 28
        }
      ],
      "metadata": {
        "colab": {
          "base_uri": "https://localhost:8080/"
        },
        "id": "RBwspZBZKZJ8",
        "outputId": "11f75cc7-4e96-4355-b76a-e66053c80552"
      }
    },
    {
      "cell_type": "code",
      "execution_count": 29,
      "source": [
        "# test_set.classes"
      ],
      "outputs": [],
      "metadata": {
        "id": "lZ0RaWKLAgyn"
      }
    },
    {
      "cell_type": "code",
      "execution_count": 30,
      "source": [
        "img=image.load_img('/gdrive/My Drive/input/labeled-chest-xray-images/chest_xray/test/PNEUMONIA/person20_virus_51.jpeg',target_size=(224,224))"
      ],
      "outputs": [],
      "metadata": {
        "id": "DTzBOYkF_82g"
      }
    },
    {
      "cell_type": "code",
      "execution_count": 31,
      "source": [
        "x=image.img_to_array(img)"
      ],
      "outputs": [],
      "metadata": {
        "id": "peG5PNi__TpJ"
      }
    },
    {
      "cell_type": "code",
      "execution_count": 32,
      "source": [
        "x=np.expand_dims(x, axis=0)"
      ],
      "outputs": [],
      "metadata": {
        "id": "qte1-HDy-Nfi"
      }
    },
    {
      "cell_type": "code",
      "execution_count": 33,
      "source": [
        "img_data=preprocess_input(x)"
      ],
      "outputs": [],
      "metadata": {
        "id": "V44VPODmAGcs"
      }
    },
    {
      "cell_type": "code",
      "execution_count": 34,
      "source": [
        "classes=model.predict(img_data)"
      ],
      "outputs": [],
      "metadata": {
        "id": "31ljzpD-ANqa"
      }
    },
    {
      "cell_type": "code",
      "execution_count": 35,
      "source": [
        "# classes\n",
        "result=int(classes[0][1])"
      ],
      "outputs": [],
      "metadata": {
        "id": "slIwec-JBe5W"
      }
    },
    {
      "cell_type": "code",
      "execution_count": 36,
      "source": [
        "classes"
      ],
      "outputs": [
        {
          "output_type": "execute_result",
          "data": {
            "text/plain": [
              "array([[0., 1.]], dtype=float32)"
            ]
          },
          "metadata": {},
          "execution_count": 36
        }
      ],
      "metadata": {
        "colab": {
          "base_uri": "https://localhost:8080/"
        },
        "id": "PUoMSt4fy7Ne",
        "outputId": "b4131f50-3132-4a87-d6a2-48711e6d2f74"
      }
    },
    {
      "cell_type": "code",
      "execution_count": 37,
      "source": [
        "if result==0:\n",
        "  print(\"X-Ray results are Normal\")\n",
        "else:\n",
        "  print(\"X-Ray results indicate Pneumonia\")\n",
        "  "
      ],
      "outputs": [
        {
          "output_type": "stream",
          "name": "stdout",
          "text": [
            "X-Ray results indicate Pneumonia\n"
          ]
        }
      ],
      "metadata": {
        "colab": {
          "base_uri": "https://localhost:8080/"
        },
        "id": "PNnM7cwuBpj5",
        "outputId": "8529463e-b886-43aa-9346-799150b6e663"
      }
    },
    {
      "cell_type": "code",
      "execution_count": 38,
      "source": [
        "result"
      ],
      "outputs": [
        {
          "output_type": "execute_result",
          "data": {
            "text/plain": [
              "1"
            ]
          },
          "metadata": {},
          "execution_count": 38
        }
      ],
      "metadata": {
        "colab": {
          "base_uri": "https://localhost:8080/"
        },
        "id": "5M95-uebx5FK",
        "outputId": "7486f191-302b-40d5-ca61-201b6563e8a3"
      }
    },
    {
      "cell_type": "markdown",
      "source": [
        "Explanation of Classes - First Column Prediction: result score: 0 = Pnemonia and 1 = Normal,   Second Column Actual x-Ray: 1 = Pneumonia and 0 = Normal"
      ],
      "metadata": {
        "id": "gUEH4WP0XmHl"
      }
    },
    {
      "cell_type": "code",
      "execution_count": 39,
      "source": [
        "classes"
      ],
      "outputs": [
        {
          "output_type": "execute_result",
          "data": {
            "text/plain": [
              "array([[0., 1.]], dtype=float32)"
            ]
          },
          "metadata": {},
          "execution_count": 39
        }
      ],
      "metadata": {
        "id": "7KCUTTXpz8Yq",
        "colab": {
          "base_uri": "https://localhost:8080/"
        },
        "outputId": "b73b6a49-674a-4ef8-9625-71ed839fb7c8"
      }
    },
    {
      "cell_type": "markdown",
      "source": [
        "Additional Metrics and Plots"
      ],
      "metadata": {
        "id": "NoUdis8ZZRrx"
      }
    },
    {
      "cell_type": "code",
      "execution_count": 40,
      "source": [
        "import matplotlib.pyplot as plt\n",
        "plt.title('Loss')\n",
        "plt.xlabel('Epochs')\n",
        "plt.ylabel('Percentage')\n",
        "plt.plot(r.history['loss'])"
      ],
      "outputs": [
        {
          "output_type": "execute_result",
          "data": {
            "text/plain": [
              "[<matplotlib.lines.Line2D at 0x7f3e8deb73d0>]"
            ]
          },
          "metadata": {},
          "execution_count": 40
        },
        {
          "output_type": "display_data",
          "data": {
            "image/png": "[encoded data removed]",
            "text/plain": [
              "<Figure size 432x288 with 1 Axes>"
            ]
          },
          "metadata": {
            "needs_background": "light"
          }
        }
      ],
      "metadata": {
        "colab": {
          "base_uri": "https://localhost:8080/",
          "height": 313
        },
        "id": "W5rTx18bViDZ",
        "outputId": "532d27ca-bd98-4591-ba03-3d2d485bf071"
      }
    },
    {
      "cell_type": "code",
      "execution_count": 41,
      "source": [
        "import matplotlib.pyplot as plt\n",
        "plt.title('Accuracy')\n",
        "plt.xlabel('Epochs')\n",
        "plt.ylabel('Percentage')\n",
        "plt.plot(r.history['accuracy'])"
      ],
      "outputs": [
        {
          "output_type": "execute_result",
          "data": {
            "text/plain": [
              "[<matplotlib.lines.Line2D at 0x7f3ea05c6d50>]"
            ]
          },
          "metadata": {},
          "execution_count": 41
        },
        {
          "output_type": "display_data",
          "data": {
            "image/png": "[encoded data removed]",
            "text/plain": [
              "<Figure size 432x288 with 1 Axes>"
            ]
          },
          "metadata": {
            "needs_background": "light"
          }
        }
      ],
      "metadata": {
        "colab": {
          "base_uri": "https://localhost:8080/",
          "height": 313
        },
        "id": "UdKPBTvDVrtW",
        "outputId": "09e5000b-6c9e-4399-fa92-fd97e26baf10"
      }
    },
    {
      "cell_type": "code",
      "execution_count": 42,
      "source": [
        "import matplotlib.pyplot as plt\n",
        "plt.title('Validation Loss')\n",
        "plt.xlabel('Epochs')\n",
        "plt.ylabel('Percentage')\n",
        "plt.plot(r.history['val_loss'])"
      ],
      "outputs": [
        {
          "output_type": "execute_result",
          "data": {
            "text/plain": [
              "[<matplotlib.lines.Line2D at 0x7f3e9ff916d0>]"
            ]
          },
          "metadata": {},
          "execution_count": 42
        },
        {
          "output_type": "display_data",
          "data": {
            "image/png": "[encoded data removed]",
            "text/plain": [
              "<Figure size 432x288 with 1 Axes>"
            ]
          },
          "metadata": {
            "needs_background": "light"
          }
        }
      ],
      "metadata": {
        "colab": {
          "base_uri": "https://localhost:8080/",
          "height": 313
        },
        "id": "3U7wEMQ6YPBF",
        "outputId": "f0463672-9b83-4467-e516-4310ab4ddcc2"
      }
    },
    {
      "cell_type": "code",
      "execution_count": 43,
      "source": [
        "import matplotlib.pyplot as plt\n",
        "plt.title('Val_Accuracy')\n",
        "plt.xlabel('Epochs')\n",
        "plt.ylabel('Percentage')\n",
        "plt.plot(r.history['val_accuracy'])"
      ],
      "outputs": [
        {
          "output_type": "execute_result",
          "data": {
            "text/plain": [
              "[<matplotlib.lines.Line2D at 0x7f3e9fe8d050>]"
            ]
          },
          "metadata": {},
          "execution_count": 43
        },
        {
          "output_type": "display_data",
          "data": {
            "image/png": "[encoded data removed]",
            "text/plain": [
              "<Figure size 432x288 with 1 Axes>"
            ]
          },
          "metadata": {
            "needs_background": "light"
          }
        }
      ],
      "metadata": {
        "colab": {
          "base_uri": "https://localhost:8080/",
          "height": 313
        },
        "id": "_PJn5u0HYlt6",
        "outputId": "5f7b6289-acd0-42f8-d5e3-14c5b1dae76e"
      }
    },
    {
      "cell_type": "code",
      "execution_count": 44,
      "source": [
        "true_labels = test_set.labels\n",
        "true_labels"
      ],
      "outputs": [
        {
          "output_type": "execute_result",
          "data": {
            "text/plain": [
              "array([0, 0, 0, 0, 0, 0, 0, 0, 0, 0, 0, 0, 0, 0, 0, 0, 0, 0, 0, 0, 0, 0,\n",
              "       0, 0, 0, 0, 0, 0, 0, 0, 0, 0, 0, 0, 0, 0, 0, 0, 0, 0, 0, 0, 0, 0,\n",
              "       0, 0, 0, 0, 0, 0, 0, 0, 0, 0, 0, 0, 0, 0, 0, 0, 0, 0, 0, 0, 0, 0,\n",
              "       0, 0, 0, 0, 0, 0, 0, 0, 0, 0, 0, 0, 0, 0, 0, 0, 0, 0, 0, 0, 0, 0,\n",
              "       0, 0, 0, 0, 0, 0, 0, 0, 0, 0, 0, 0, 0, 0, 0, 0, 0, 0, 0, 0, 0, 0,\n",
              "       0, 0, 0, 0, 0, 0, 0, 0, 0, 0, 0, 0, 0, 0, 0, 0, 0, 0, 0, 0, 0, 0,\n",
              "       0, 0, 0, 0, 0, 0, 0, 0, 0, 0, 0, 0, 0, 0, 0, 0, 0, 0, 0, 0, 0, 0,\n",
              "       0, 0, 0, 0, 0, 0, 0, 0, 0, 0, 0, 0, 0, 0, 0, 0, 0, 0, 0, 0, 0, 0,\n",
              "       0, 0, 0, 0, 0, 0, 0, 0, 0, 0, 0, 0, 0, 0, 0, 0, 0, 0, 0, 0, 0, 0,\n",
              "       0, 0, 0, 0, 0, 0, 0, 0, 0, 0, 0, 0, 0, 0, 0, 0, 0, 0, 0, 0, 0, 0,\n",
              "       0, 0, 0, 0, 0, 0, 0, 0, 0, 0, 0, 0, 0, 0, 1, 1, 1, 1, 1, 1, 1, 1,\n",
              "       1, 1, 1, 1, 1, 1, 1, 1, 1, 1, 1, 1, 1, 1, 1, 1, 1, 1, 1, 1, 1, 1,\n",
              "       1, 1, 1, 1, 1, 1, 1, 1, 1, 1, 1, 1, 1, 1, 1, 1, 1, 1, 1, 1, 1, 1,\n",
              "       1, 1, 1, 1, 1, 1, 1, 1, 1, 1, 1, 1, 1, 1, 1, 1, 1, 1, 1, 1, 1, 1,\n",
              "       1, 1, 1, 1, 1, 1, 1, 1, 1, 1, 1, 1, 1, 1, 1, 1, 1, 1, 1, 1, 1, 1,\n",
              "       1, 1, 1, 1, 1, 1, 1, 1, 1, 1, 1, 1, 1, 1, 1, 1, 1, 1, 1, 1, 1, 1,\n",
              "       1, 1, 1, 1, 1, 1, 1, 1, 1, 1, 1, 1, 1, 1, 1, 1, 1, 1, 1, 1, 1, 1,\n",
              "       1, 1, 1, 1, 1, 1, 1, 1, 1, 1, 1, 1, 1, 1, 1, 1, 1, 1, 1, 1, 1, 1,\n",
              "       1, 1, 1, 1, 1, 1, 1, 1, 1, 1, 1, 1, 1, 1, 1, 1, 1, 1, 1, 1, 1, 1,\n",
              "       1, 1, 1, 1, 1, 1, 1, 1, 1, 1, 1, 1, 1, 1, 1, 1, 1, 1, 1, 1, 1, 1,\n",
              "       1, 1, 1, 1, 1, 1, 1, 1, 1, 1, 1, 1, 1, 1, 1, 1, 1, 1, 1, 1, 1, 1,\n",
              "       1, 1, 1, 1, 1, 1, 1, 1, 1, 1, 1, 1, 1, 1, 1, 1, 1, 1, 1, 1, 1, 1,\n",
              "       1, 1, 1, 1, 1, 1, 1, 1, 1, 1, 1, 1, 1, 1, 1, 1, 1, 1, 1, 1, 1, 1,\n",
              "       1, 1, 1, 1, 1, 1, 1, 1, 1, 1, 1, 1, 1, 1, 1, 1, 1, 1, 1, 1, 1, 1,\n",
              "       1, 1, 1, 1, 1, 1, 1, 1, 1, 1, 1, 1, 1, 1, 1, 1, 1, 1, 1, 1, 1, 1,\n",
              "       1, 1, 1, 1, 1, 1, 1, 1, 1, 1, 1, 1, 1, 1, 1, 1, 1, 1, 1, 1, 1, 1,\n",
              "       1, 1, 1, 1, 1, 1, 1, 1, 1, 1, 1, 1, 1, 1, 1, 1, 1, 1, 1, 1, 1, 1,\n",
              "       1, 1, 1, 1, 1, 1, 1, 1, 1, 1, 1, 1, 1, 1, 1, 1, 1, 1, 1, 1, 1, 1,\n",
              "       1, 1, 1, 1, 1, 1, 1, 1], dtype=int32)"
            ]
          },
          "metadata": {},
          "execution_count": 44
        }
      ],
      "metadata": {
        "colab": {
          "base_uri": "https://localhost:8080/"
        },
        "id": "6U9znUZTDoC8",
        "outputId": "1623f193-be14-445f-ec44-4f6470150c77"
      }
    },
    {
      "cell_type": "code",
      "execution_count": 45,
      "source": [
        "pred_labels = [round(pred[1]) for pred in predictions]\n",
        "pred_labels = np.array(pred_labels)[:]\n",
        "pred_labels"
      ],
      "outputs": [
        {
          "output_type": "execute_result",
          "data": {
            "text/plain": [
              "array([1, 1, 1, 0, 1, 0, 1, 0, 1, 1, 1, 1, 1, 1, 1, 1, 1, 1, 1, 0, 1, 0,\n",
              "       0, 1, 1, 1, 0, 0, 1, 1, 0, 1, 0, 0, 1, 0, 0, 0, 0, 1, 1, 1, 1, 1,\n",
              "       1, 1, 0, 1, 1, 0, 1, 0, 1, 0, 1, 1, 1, 1, 1, 1, 1, 1, 1, 1, 1, 1,\n",
              "       1, 1, 0, 1, 1, 1, 1, 1, 0, 1, 0, 1, 1, 1, 1, 0, 1, 0, 1, 1, 0, 0,\n",
              "       1, 1, 1, 0, 0, 0, 1, 0, 1, 1, 1, 1, 0, 1, 1, 1, 0, 0, 1, 0, 1, 1,\n",
              "       1, 0, 0, 1, 1, 1, 1, 1, 1, 1, 0, 1, 1, 1, 1, 1, 1, 0, 1, 1, 0, 0,\n",
              "       1, 1, 0, 1, 1, 1, 0, 1, 1, 1, 1, 1, 0, 0, 1, 1, 0, 1, 1, 1, 1, 0,\n",
              "       0, 1, 0, 0, 1, 1, 1, 0, 1, 1, 0, 1, 1, 0, 1, 0, 0, 1, 0, 1, 1, 1,\n",
              "       1, 1, 1, 0, 1, 1, 1, 1, 1, 1, 0, 1, 1, 0, 1, 0, 1, 1, 1, 1, 1, 1,\n",
              "       1, 0, 1, 1, 0, 1, 0, 1, 0, 1, 1, 1, 1, 0, 0, 0, 0, 1, 1, 1, 1, 0,\n",
              "       1, 0, 1, 1, 1, 1, 1, 1, 1, 1, 1, 0, 0, 0, 1, 1, 0, 1, 1, 0, 0, 1,\n",
              "       0, 1, 1, 1, 1, 1, 1, 1, 0, 1, 1, 1, 1, 1, 1, 0, 1, 0, 1, 0, 1, 1,\n",
              "       1, 1, 1, 1, 1, 0, 1, 0, 1, 1, 1, 1, 0, 0, 1, 0, 1, 1, 1, 1, 1, 1,\n",
              "       0, 1, 1, 0, 1, 1, 1, 1, 1, 1, 1, 1, 0, 1, 0, 1, 0, 0, 0, 1, 0, 1,\n",
              "       0, 1, 0, 1, 1, 1, 1, 0, 1, 1, 0, 1, 0, 0, 1, 1, 0, 0, 1, 0, 1, 0,\n",
              "       1, 0, 1, 1, 0, 1, 1, 1, 1, 1, 1, 1, 0, 0, 1, 0, 1, 1, 1, 1, 1, 1,\n",
              "       1, 0, 0, 1, 1, 0, 0, 1, 1, 1, 0, 1, 1, 1, 0, 1, 0, 1, 1, 0, 0, 1,\n",
              "       1, 0, 1, 1, 0, 1, 1, 1, 0, 0, 1, 1, 1, 0, 0, 1, 1, 0, 0, 1, 1, 1,\n",
              "       1, 1, 1, 0, 1, 1, 1, 1, 1, 1, 1, 1, 0, 1, 1, 0, 0, 0, 0, 1, 1, 1,\n",
              "       0, 1, 0, 0, 1, 1, 1, 1, 0, 0, 0, 1, 1, 1, 0, 0, 1, 1, 1, 1, 0, 1,\n",
              "       0, 1, 0, 1, 1, 1, 1, 0, 1, 1, 0, 0, 1, 1, 0, 0, 1, 1, 1, 0, 0, 1,\n",
              "       1, 0, 1, 0, 1, 1, 0, 1, 1, 1, 1, 1, 1, 0, 1, 1, 1, 1, 1, 0, 1, 1,\n",
              "       1, 1, 1, 1, 1, 0, 1, 0, 1, 1, 0, 1, 1, 1, 1, 1, 1, 0, 1, 1, 0, 1,\n",
              "       1, 0, 1, 1, 1, 1, 0, 1, 0, 1, 0, 1, 0, 0, 1, 1, 0, 0, 1, 1, 0, 1,\n",
              "       0, 1, 0, 1, 1, 1, 1, 1, 0, 1, 0, 1, 1, 1, 0, 0, 1, 1, 1, 1, 0, 1,\n",
              "       1, 0, 1, 1, 0, 0, 0, 1, 1, 1, 1, 1, 0, 1, 0, 1, 1, 1, 1, 1, 0, 0,\n",
              "       1, 1, 0, 1, 1, 1, 1, 0, 0, 1, 1, 1, 0, 1, 0, 1, 1, 1, 0, 0, 1, 0,\n",
              "       1, 1, 1, 0, 1, 0, 1, 1, 0, 0, 0, 0, 0, 1, 1, 0, 1, 1, 1, 1, 1, 1,\n",
              "       1, 1, 1, 0, 1, 1, 1, 0])"
            ]
          },
          "metadata": {},
          "execution_count": 45
        }
      ],
      "metadata": {
        "colab": {
          "base_uri": "https://localhost:8080/"
        },
        "id": "F_F-QRbUIR8g",
        "outputId": "20f1280b-c086-4e20-9b76-9b547d0a4b2e"
      }
    },
    {
      "cell_type": "code",
      "execution_count": 46,
      "source": [
        "from sklearn.metrics import confusion_matrix\n",
        "cm = confusion_matrix(true_labels, pred_labels)"
      ],
      "outputs": [],
      "metadata": {
        "id": "KEQg06qqNiJd"
      }
    },
    {
      "cell_type": "code",
      "execution_count": 47,
      "source": [
        "import matplotlib.pyplot as plt\n",
        "import seaborn as sns\n",
        "plt.figure(figsize=(6,6))\n",
        "sns.heatmap(cm, annot=True, fmt='g', vmin=0, cmap='mako', cbar=False)\n",
        "plt.xlabel(\"Predicted\")\n",
        "plt.ylabel(\"Actual\")\n",
        "plt.xticks(np.arange(2) + 0.5, ['Pneumonia', 'Normal'], fontsize=16)\n",
        "plt.yticks(np.arange(2) + 0.5, ['Pneumonia', 'Normal'], fontsize=16)\n",
        "plt.show()"
      ],
      "outputs": [
        {
          "output_type": "display_data",
          "data": {
            "image/png": "[encoded data removed]",
            "text/plain": [
              "<Figure size 432x432 with 1 Axes>"
            ]
          },
          "metadata": {
            "needs_background": "light"
          }
        }
      ],
      "metadata": {
        "colab": {
          "base_uri": "https://localhost:8080/",
          "height": 393
        },
        "id": "bkwFS3elQGS8",
        "outputId": "7c18e285-3398-42ee-9464-3354be34206e"
      }
    },
    {
      "cell_type": "code",
      "execution_count": 48,
      "source": [
        "results = model.evaluate(test_set, verbose=0)\n",
        "accuracy = results[1]"
      ],
      "outputs": [],
      "metadata": {
        "id": "5eNRu9fnQiEa"
      }
    },
    {
      "cell_type": "code",
      "execution_count": 49,
      "source": [
        "tn, fp, fn, tp = cm.ravel()\n",
        "\n",
        "precision = tp / (tp + fp)\n",
        "recall = tp / (tp + fn)"
      ],
      "outputs": [],
      "metadata": {
        "id": "O8XRszGMRNUG"
      }
    },
    {
      "cell_type": "code",
      "execution_count": 50,
      "source": [
        "print (\"Accuracy: {:.2f}\".format(accuracy))\n",
        "print (\"Precision: {:.2f}\".format(precision))\n",
        "print (\"Recall: {:.2f}\".format(recall)) "
      ],
      "outputs": [
        {
          "output_type": "stream",
          "name": "stdout",
          "text": [
            "Accuracy: 0.92\n",
            "Precision: 0.62\n",
            "Recall: 0.67\n"
          ]
        }
      ],
      "metadata": {
        "colab": {
          "base_uri": "https://localhost:8080/"
        },
        "id": "iMUrI3aRS_OT",
        "outputId": "9a5d0d17-cbcc-4f84-b80d-9b8d7d7f1dc8"
      }
    },
    {
      "cell_type": "code",
      "execution_count": 51,
      "source": [
        "import matplotlib.pyplot as plt\n",
        "plt.plot(r.history['loss'], label='train loss')\n",
        "plt.plot(r.history['val_loss'], label='val loss')\n",
        "plt.legend()\n",
        "plt.show()\n",
        "# plt.savefig('LossVal_loss')\n",
        "\n",
        "plt.plot(r.history['accuracy'], label='train acc')\n",
        "plt.plot(r.history['val_accuracy'], label='val acc')\n",
        "plt.legend()\n",
        "plt.show()\n",
        "# plt.savefig('AccVal_acc')"
      ],
      "outputs": [
        {
          "output_type": "display_data",
          "data": {
            "image/png": "[encoded data removed]",
            "text/plain": [
              "<Figure size 432x288 with 1 Axes>"
            ]
          },
          "metadata": {
            "needs_background": "light"
          }
        },
        {
          "output_type": "display_data",
          "data": {
            "image/png": "[encoded data removed]",
            "text/plain": [
              "<Figure size 432x288 with 1 Axes>"
            ]
          },
          "metadata": {
            "needs_background": "light"
          }
        }
      ],
      "metadata": {
        "colab": {
          "base_uri": "https://localhost:8080/",
          "height": 513
        },
        "id": "PV6E0WX5TNm6",
        "outputId": "38d82981-1abc-41bc-fc32-65c2540a0b5e"
      }
    },
    {
      "cell_type": "code",
      "execution_count": null,
      "source": [],
      "outputs": [],
      "metadata": {
        "id": "PkPUJF_VZMbh"
      }
    }
  ]
}