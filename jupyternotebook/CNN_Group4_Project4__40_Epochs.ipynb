{
  "nbformat": 4,
  "nbformat_minor": 2,
  "metadata": {
    "colab": {
      "name": "CNN_Group4_Project4_ver2.ipynb",
      "provenance": [],
      "collapsed_sections": [],
      "machine_shape": "hm"
    },
    "kernelspec": {
      "name": "python3",
      "display_name": "Python 3"
    },
    "language_info": {
      "name": "python"
    },
    "accelerator": "TPU"
  },
  "cells": [
    {
      "cell_type": "code",
      "execution_count": 1,
      "source": [
        "import warnings\r\n",
        "warnings.filterwarnings('ignore')"
      ],
      "outputs": [],
      "metadata": {
        "id": "qYZXnAXryT6s"
      }
    },
    {
      "cell_type": "code",
      "execution_count": 2,
      "source": [
        "import tensorflow as tf\r\n",
        "from tensorflow import keras"
      ],
      "outputs": [],
      "metadata": {
        "id": "mu73jVaYy_HQ"
      }
    },
    {
      "cell_type": "code",
      "execution_count": 3,
      "source": [
        "from keras.layers import Input, Lambda, Dense, Flatten"
      ],
      "outputs": [],
      "metadata": {
        "id": "Hxayb81NzF8D"
      }
    },
    {
      "cell_type": "markdown",
      "source": [
        "Tensorflow backend # https://keras.io/api/applications/   List of available models to use for images.  "
      ],
      "metadata": {
        "id": "ONcxLwaCRXCA"
      }
    },
    {
      "cell_type": "code",
      "execution_count": 4,
      "source": [
        "from keras.models import Model\r\n",
        "from keras.applications.vgg16 import VGG16\r\n",
        "from keras.applications.vgg16 import preprocess_input\r\n",
        "from keras.preprocessing import image\r\n",
        "from keras.preprocessing.image import ImageDataGenerator  \r\n",
        "from keras.models import Sequential\r\n",
        "import numpy as np\r\n",
        "from glob import glob\r\n",
        "import matplotlib.pyplot as plt"
      ],
      "outputs": [],
      "metadata": {
        "id": "SnlkQ01MzNfN"
      }
    },
    {
      "cell_type": "markdown",
      "source": [
        "note: VGG16 was created to use 224 224. "
      ],
      "metadata": {
        "id": "LndL_5FNcbUm"
      }
    },
    {
      "cell_type": "code",
      "execution_count": 5,
      "source": [
        "IMAGE_SIZE = [224, 224] \r\n",
        "\r\n",
        "train_path = '/gdrive/My Drive/input/labeled-chest-xray-images/chest_xray/train/'\r\n",
        "test_path = '/gdrive/My Drive/input/labeled-chest-xray-images/chest_xray/test/'"
      ],
      "outputs": [],
      "metadata": {
        "id": "Zv29ghR30djE"
      }
    },
    {
      "cell_type": "markdown",
      "source": [
        "if we have black and white images use 1 vs 3\""
      ],
      "metadata": {
        "id": "BtZrXG6wcoNK"
      }
    },
    {
      "cell_type": "code",
      "execution_count": 6,
      "source": [
        "vgg = VGG16(input_shape=IMAGE_SIZE + [3], weights='imagenet', include_top=False) "
      ],
      "outputs": [],
      "metadata": {
        "id": "z99zMAOt1hBJ"
      }
    },
    {
      "cell_type": "markdown",
      "source": [
        "We do not have to train vgg16 layers since they have already been trained.  "
      ],
      "metadata": {
        "id": "mDmyHK3Gcxhb"
      }
    },
    {
      "cell_type": "code",
      "execution_count": 7,
      "source": [
        "# https://stackoverflow.com/questions/61292890/transfer-learning-only-works-with-trainable-set-to-false\n",
        "for layer in vgg.layers:\n",
        "    layer.trainable = False "
      ],
      "outputs": [],
      "metadata": {
        "id": "TmdZa9rj3l3v"
      }
    },
    {
      "cell_type": "code",
      "execution_count": 8,
      "source": [
        "# https://stackoverflow.com/questions/2186525/how-to-use-glob-to-find-files-recursively\n",
        "folders = glob('/gdrive/My Drive/input/labeled-chest-xray-images/chest_xray/train/*')\n",
        "x = Flatten() (vgg.output)"
      ],
      "outputs": [],
      "metadata": {
        "id": "WJDa-Zgv13Zt"
      }
    },
    {
      "cell_type": "code",
      "execution_count": 9,
      "source": [
        "# this adds the folder names (NORMAL, PNEMONIA) as the two classes.  softmax is used for vgg16 vs sigmoid.  \n",
        "prediction = Dense(len(folders), activation='softmax') (x)  \n",
        "# creating a model object\n",
        "model = Model(inputs=vgg.input, outputs=prediction)\n",
        "# view structure of the model\n",
        "model.summary()"
      ],
      "outputs": [
        {
          "output_type": "stream",
          "name": "stdout",
          "text": [
            "Model: \"model\"\n",
            "_________________________________________________________________\n",
            "Layer (type)                 Output Shape              Param #   \n",
            "=================================================================\n",
            "input_1 (InputLayer)         [(None, 224, 224, 3)]     0         \n",
            "_________________________________________________________________\n",
            "block1_conv1 (Conv2D)        (None, 224, 224, 64)      1792      \n",
            "_________________________________________________________________\n",
            "block1_conv2 (Conv2D)        (None, 224, 224, 64)      36928     \n",
            "_________________________________________________________________\n",
            "block1_pool (MaxPooling2D)   (None, 112, 112, 64)      0         \n",
            "_________________________________________________________________\n",
            "block2_conv1 (Conv2D)        (None, 112, 112, 128)     73856     \n",
            "_________________________________________________________________\n",
            "block2_conv2 (Conv2D)        (None, 112, 112, 128)     147584    \n",
            "_________________________________________________________________\n",
            "block2_pool (MaxPooling2D)   (None, 56, 56, 128)       0         \n",
            "_________________________________________________________________\n",
            "block3_conv1 (Conv2D)        (None, 56, 56, 256)       295168    \n",
            "_________________________________________________________________\n",
            "block3_conv2 (Conv2D)        (None, 56, 56, 256)       590080    \n",
            "_________________________________________________________________\n",
            "block3_conv3 (Conv2D)        (None, 56, 56, 256)       590080    \n",
            "_________________________________________________________________\n",
            "block3_pool (MaxPooling2D)   (None, 28, 28, 256)       0         \n",
            "_________________________________________________________________\n",
            "block4_conv1 (Conv2D)        (None, 28, 28, 512)       1180160   \n",
            "_________________________________________________________________\n",
            "block4_conv2 (Conv2D)        (None, 28, 28, 512)       2359808   \n",
            "_________________________________________________________________\n",
            "block4_conv3 (Conv2D)        (None, 28, 28, 512)       2359808   \n",
            "_________________________________________________________________\n",
            "block4_pool (MaxPooling2D)   (None, 14, 14, 512)       0         \n",
            "_________________________________________________________________\n",
            "block5_conv1 (Conv2D)        (None, 14, 14, 512)       2359808   \n",
            "_________________________________________________________________\n",
            "block5_conv2 (Conv2D)        (None, 14, 14, 512)       2359808   \n",
            "_________________________________________________________________\n",
            "block5_conv3 (Conv2D)        (None, 14, 14, 512)       2359808   \n",
            "_________________________________________________________________\n",
            "block5_pool (MaxPooling2D)   (None, 7, 7, 512)         0         \n",
            "_________________________________________________________________\n",
            "flatten (Flatten)            (None, 25088)             0         \n",
            "_________________________________________________________________\n",
            "dense (Dense)                (None, 2)                 50178     \n",
            "=================================================================\n",
            "Total params: 14,764,866\n",
            "Trainable params: 50,178\n",
            "Non-trainable params: 14,714,688\n",
            "_________________________________________________________________\n"
          ]
        }
      ],
      "metadata": {
        "id": "vBbZUJXd4PhX",
        "colab": {
          "base_uri": "https://localhost:8080/"
        },
        "outputId": "06f8dfa9-7144-4e4c-b8bd-61e4a19a8fbf"
      }
    },
    {
      "cell_type": "markdown",
      "source": [
        "compiling model"
      ],
      "metadata": {
        "id": "wmW5UwkvJBZD"
      }
    },
    {
      "cell_type": "code",
      "execution_count": 10,
      "source": [
        "# https://stackoverflow.com/questions/42081257/why-binary-crossentropy-and-categorical-crossentropy-give-different-performances\n",
        "model.compile(\n",
        "  loss='categorical_crossentropy',\n",
        "  optimizer='adam',\n",
        "  metrics=['accuracy']\n",
        ")"
      ],
      "outputs": [],
      "metadata": {
        "id": "COYqpj2h4xU7"
      }
    },
    {
      "cell_type": "code",
      "execution_count": 11,
      "source": [
        "from keras.preprocessing.image import ImageDataGenerator"
      ],
      "outputs": [],
      "metadata": {
        "id": "qc1W8xl05-wF"
      }
    },
    {
      "cell_type": "code",
      "execution_count": 12,
      "source": [
        "# note: must input code received from google for access to the google drive files: Please copy this code, switch to your application and paste it there:\n",
        "# 4/1AX4XfWgMbu2qOfhAjCXU90DNP_Yx7EFgJsSBJrHiKfPqnwomhdAgQZxkp3o\n",
        "from google.colab import drive\n",
        "drive.mount('/gdrive')\n",
        "%cd /gdrive"
      ],
      "outputs": [
        {
          "output_type": "stream",
          "name": "stdout",
          "text": [
            "Drive already mounted at /gdrive; to attempt to forcibly remount, call drive.mount(\"/gdrive\", force_remount=True).\n",
            "/gdrive\n"
          ]
        }
      ],
      "metadata": {
        "id": "MA1m3_UkTuYT",
        "colab": {
          "base_uri": "https://localhost:8080/"
        },
        "outputId": "3580ced8-568f-457c-f66e-d95aef7f8ffb"
      }
    },
    {
      "cell_type": "markdown",
      "source": [
        "Creating Generators - available in the Keras website"
      ],
      "metadata": {
        "id": "yxyYq9qvLkXt"
      }
    },
    {
      "cell_type": "code",
      "execution_count": 13,
      "source": [
        "train_datagen = ImageDataGenerator(rescale = 1./255,\n",
        "                                   shear_range = 0.2,\n",
        "                                   zoom_range = 0.3,\n",
        "                                   horizontal_flip = True)\n",
        "\n",
        "test_datagen = ImageDataGenerator(rescale = 1./255)\n",
        "\n",
        "\n",
        "\n",
        "\n",
        "# Make sure you provide the same target size as initialied for the image size (\"reads the folder name for different classes NORMAL and PNEMONIA\")\n",
        "training_set = train_datagen.flow_from_directory('/gdrive/My Drive/input/labeled-chest-xray-images/chest_xray/train/',\n",
        "                                                 target_size = (224, 224),\n",
        "                                                 batch_size = 10,\n",
        "                                                 class_mode = 'categorical')\n",
        "\n",
        "\n",
        "\n",
        "\n",
        "test_set = test_datagen.flow_from_directory('/gdrive/My Drive/input/labeled-chest-xray-images/chest_xray/test/',\n",
        "                                            target_size = (224, 224),\n",
        "                                            batch_size = 10,\n",
        "                                            class_mode = 'categorical')"
      ],
      "outputs": [
        {
          "output_type": "stream",
          "name": "stdout",
          "text": [
            "Found 5216 images belonging to 2 classes.\n",
            "Found 624 images belonging to 2 classes.\n"
          ]
        }
      ],
      "metadata": {
        "colab": {
          "base_uri": "https://localhost:8080/"
        },
        "id": "E25a3uCL6MNr",
        "outputId": "80678272-6d64-453e-902e-cb003cb6f12c"
      }
    },
    {
      "cell_type": "code",
      "execution_count": 14,
      "source": [
        "training_set.class_indices"
      ],
      "outputs": [
        {
          "output_type": "execute_result",
          "data": {
            "text/plain": [
              "{'NORMAL': 0, 'PNEUMONIA': 1}"
            ]
          },
          "metadata": {},
          "execution_count": 14
        }
      ],
      "metadata": {
        "colab": {
          "base_uri": "https://localhost:8080/"
        },
        "id": "v4GsXGMDx8MW",
        "outputId": "2f6d1a77-3d5e-4621-beb6-d710c273e95f"
      }
    },
    {
      "cell_type": "markdown",
      "source": [
        "Building and Fitting Model"
      ],
      "metadata": {
        "id": "fuc6pmXQLT8G"
      }
    },
    {
      "cell_type": "code",
      "execution_count": 15,
      "source": [
        "r = model.fit_generator(   \n",
        "  training_set,\n",
        "  validation_data=test_set,\n",
        "  epochs=40,\n",
        "  steps_per_epoch=len(training_set),\n",
        "  validation_steps=len(test_set),\n",
        "  workers=-1,\n",
        ") "
      ],
      "outputs": [
        {
          "output_type": "stream",
          "name": "stdout",
          "text": [
            "Epoch 1/40\n",
            "522/522 [==============================] - 325s 622ms/step - loss: 0.2113 - accuracy: 0.9224 - val_loss: 0.3579 - val_accuracy: 0.8974\n",
            "Epoch 2/40\n",
            "522/522 [==============================] - 332s 636ms/step - loss: 0.2078 - accuracy: 0.9367 - val_loss: 0.5091 - val_accuracy: 0.8958\n",
            "Epoch 3/40\n",
            "522/522 [==============================] - 336s 644ms/step - loss: 0.1494 - accuracy: 0.9546 - val_loss: 0.3133 - val_accuracy: 0.9054\n",
            "Epoch 4/40\n",
            "522/522 [==============================] - 337s 645ms/step - loss: 0.1733 - accuracy: 0.9488 - val_loss: 0.5392 - val_accuracy: 0.8654\n",
            "Epoch 5/40\n",
            "522/522 [==============================] - 336s 644ms/step - loss: 0.1718 - accuracy: 0.9544 - val_loss: 0.2939 - val_accuracy: 0.9135\n",
            "Epoch 6/40\n",
            "522/522 [==============================] - 337s 645ms/step - loss: 0.1291 - accuracy: 0.9617 - val_loss: 0.5352 - val_accuracy: 0.8558\n",
            "Epoch 7/40\n",
            "522/522 [==============================] - 337s 645ms/step - loss: 0.1359 - accuracy: 0.9590 - val_loss: 0.3646 - val_accuracy: 0.9151\n",
            "Epoch 8/40\n",
            "522/522 [==============================] - 338s 647ms/step - loss: 0.1427 - accuracy: 0.9624 - val_loss: 0.4272 - val_accuracy: 0.8974\n",
            "Epoch 9/40\n",
            "522/522 [==============================] - 342s 655ms/step - loss: 0.1584 - accuracy: 0.9569 - val_loss: 0.5519 - val_accuracy: 0.9071\n",
            "Epoch 10/40\n",
            "522/522 [==============================] - 347s 665ms/step - loss: 0.1708 - accuracy: 0.9594 - val_loss: 0.5182 - val_accuracy: 0.9087\n",
            "Epoch 11/40\n",
            "522/522 [==============================] - 345s 660ms/step - loss: 0.1286 - accuracy: 0.9651 - val_loss: 0.5090 - val_accuracy: 0.9071\n",
            "Epoch 12/40\n",
            "522/522 [==============================] - 345s 661ms/step - loss: 0.1286 - accuracy: 0.9666 - val_loss: 0.7274 - val_accuracy: 0.9022\n",
            "Epoch 13/40\n",
            "522/522 [==============================] - 348s 668ms/step - loss: 0.1560 - accuracy: 0.9632 - val_loss: 0.7672 - val_accuracy: 0.8926\n",
            "Epoch 14/40\n",
            "522/522 [==============================] - 346s 663ms/step - loss: 0.1243 - accuracy: 0.9657 - val_loss: 0.7985 - val_accuracy: 0.8942\n",
            "Epoch 15/40\n",
            "522/522 [==============================] - 349s 668ms/step - loss: 0.1363 - accuracy: 0.9686 - val_loss: 0.6146 - val_accuracy: 0.9022\n",
            "Epoch 16/40\n",
            "522/522 [==============================] - 337s 646ms/step - loss: 0.1236 - accuracy: 0.9688 - val_loss: 0.4307 - val_accuracy: 0.9183\n",
            "Epoch 17/40\n",
            "522/522 [==============================] - 347s 665ms/step - loss: 0.1804 - accuracy: 0.9599 - val_loss: 0.4934 - val_accuracy: 0.9054\n",
            "Epoch 18/40\n",
            "522/522 [==============================] - 352s 674ms/step - loss: 0.1329 - accuracy: 0.9666 - val_loss: 0.5637 - val_accuracy: 0.9038\n",
            "Epoch 19/40\n",
            "522/522 [==============================] - 353s 676ms/step - loss: 0.1298 - accuracy: 0.9680 - val_loss: 0.4526 - val_accuracy: 0.9199\n",
            "Epoch 20/40\n",
            "522/522 [==============================] - 358s 686ms/step - loss: 0.0953 - accuracy: 0.9739 - val_loss: 0.4786 - val_accuracy: 0.9183\n",
            "Epoch 21/40\n",
            "522/522 [==============================] - 362s 694ms/step - loss: 0.1339 - accuracy: 0.9680 - val_loss: 0.5377 - val_accuracy: 0.8894\n",
            "Epoch 22/40\n",
            "522/522 [==============================] - 362s 694ms/step - loss: 0.1074 - accuracy: 0.9728 - val_loss: 0.4452 - val_accuracy: 0.9183\n",
            "Epoch 23/40\n",
            "522/522 [==============================] - 361s 692ms/step - loss: 0.0845 - accuracy: 0.9762 - val_loss: 0.7501 - val_accuracy: 0.9087\n",
            "Epoch 24/40\n",
            "522/522 [==============================] - 344s 658ms/step - loss: 0.1532 - accuracy: 0.9657 - val_loss: 0.7544 - val_accuracy: 0.9054\n",
            "Epoch 25/40\n",
            "522/522 [==============================] - 361s 693ms/step - loss: 0.1274 - accuracy: 0.9707 - val_loss: 0.5056 - val_accuracy: 0.9167\n",
            "Epoch 26/40\n",
            "522/522 [==============================] - 343s 657ms/step - loss: 0.1166 - accuracy: 0.9709 - val_loss: 0.7078 - val_accuracy: 0.9135\n",
            "Epoch 27/40\n",
            "522/522 [==============================] - 367s 703ms/step - loss: 0.1216 - accuracy: 0.9699 - val_loss: 0.6717 - val_accuracy: 0.9183\n",
            "Epoch 28/40\n",
            "522/522 [==============================] - 346s 663ms/step - loss: 0.1088 - accuracy: 0.9749 - val_loss: 0.8082 - val_accuracy: 0.9071\n",
            "Epoch 29/40\n",
            "522/522 [==============================] - 364s 697ms/step - loss: 0.0901 - accuracy: 0.9789 - val_loss: 0.5067 - val_accuracy: 0.9183\n",
            "Epoch 30/40\n",
            "522/522 [==============================] - 349s 668ms/step - loss: 0.0918 - accuracy: 0.9766 - val_loss: 0.6733 - val_accuracy: 0.9038\n",
            "Epoch 31/40\n",
            "522/522 [==============================] - 348s 667ms/step - loss: 0.1135 - accuracy: 0.9753 - val_loss: 0.6675 - val_accuracy: 0.9103\n",
            "Epoch 32/40\n",
            "522/522 [==============================] - 350s 670ms/step - loss: 0.0792 - accuracy: 0.9758 - val_loss: 1.7366 - val_accuracy: 0.8349\n",
            "Epoch 33/40\n",
            "522/522 [==============================] - 352s 674ms/step - loss: 0.1190 - accuracy: 0.9743 - val_loss: 0.6540 - val_accuracy: 0.9103\n",
            "Epoch 34/40\n",
            "522/522 [==============================] - 354s 679ms/step - loss: 0.1092 - accuracy: 0.9758 - val_loss: 0.9470 - val_accuracy: 0.8926\n",
            "Epoch 35/40\n",
            "522/522 [==============================] - 354s 679ms/step - loss: 0.1315 - accuracy: 0.9714 - val_loss: 0.4864 - val_accuracy: 0.9247\n",
            "Epoch 36/40\n",
            "522/522 [==============================] - 359s 688ms/step - loss: 0.1223 - accuracy: 0.9726 - val_loss: 0.6972 - val_accuracy: 0.9183\n",
            "Epoch 37/40\n",
            "522/522 [==============================] - 358s 686ms/step - loss: 0.1213 - accuracy: 0.9724 - val_loss: 0.6061 - val_accuracy: 0.9247\n",
            "Epoch 38/40\n",
            "522/522 [==============================] - 359s 687ms/step - loss: 0.1340 - accuracy: 0.9724 - val_loss: 0.6988 - val_accuracy: 0.9135\n",
            "Epoch 39/40\n",
            "522/522 [==============================] - 362s 693ms/step - loss: 0.1033 - accuracy: 0.9762 - val_loss: 0.6414 - val_accuracy: 0.8894\n",
            "Epoch 40/40\n",
            "522/522 [==============================] - 362s 694ms/step - loss: 0.1070 - accuracy: 0.9760 - val_loss: 0.8554 - val_accuracy: 0.9087\n"
          ]
        }
      ],
      "metadata": {
        "colab": {
          "base_uri": "https://localhost:8080/"
        },
        "id": "ttXbAqL07IX5",
        "outputId": "058ae718-eb21-4e19-aa17-9d33c6692a24"
      }
    },
    {
      "cell_type": "code",
      "execution_count": 16,
      "source": [
        " import tensorflow as tf\n",
        "from keras.models import load_model\n",
        "# from google.colab import drive\n",
        "# drive.mount()\n",
        "# %cd /gdrive\n",
        "model.save('/gdrive/My Drive/input/chest_xray_40_Epochs.h5')"
      ],
      "outputs": [],
      "metadata": {
        "id": "ACP1coq_9q2d"
      }
    },
    {
      "cell_type": "code",
      "execution_count": 17,
      "source": [
        "from keras.models import load_model"
      ],
      "outputs": [],
      "metadata": {
        "id": "4Yqwsl6T-AnH"
      }
    },
    {
      "cell_type": "code",
      "execution_count": 18,
      "source": [
        "from keras.preprocessing import image"
      ],
      "outputs": [],
      "metadata": {
        "id": "GPL8TXtX-MMh"
      }
    },
    {
      "cell_type": "code",
      "execution_count": 19,
      "source": [
        "from keras.applications.vgg16 import preprocess_input"
      ],
      "outputs": [],
      "metadata": {
        "id": "T18wquyd-Mw6"
      }
    },
    {
      "cell_type": "code",
      "execution_count": 20,
      "source": [
        "import numpy as np"
      ],
      "outputs": [],
      "metadata": {
        "id": "3q82t9Z0-NET"
      }
    },
    {
      "cell_type": "code",
      "execution_count": 21,
      "source": [
        "# from keras.models import load_model\n",
        "model=load_model('/gdrive/My Drive/input/chest_xray_40_Epochs.h5')"
      ],
      "outputs": [],
      "metadata": {
        "id": "iuaagDki-NS6"
      }
    },
    {
      "cell_type": "code",
      "execution_count": 22,
      "source": [
        "model.compile(metrics=[tf.keras.metrics.Recall()])"
      ],
      "outputs": [],
      "metadata": {
        "id": "zl1v-YnBDmyR"
      }
    },
    {
      "cell_type": "code",
      "execution_count": 23,
      "source": [
        "model.evaluate(test_set, return_dict=True, use_multiprocessing=True, workers=-1)"
      ],
      "outputs": [
        {
          "output_type": "stream",
          "name": "stdout",
          "text": [
            "63/63 [==============================] - 29s 451ms/step - loss: 0.0000e+00 - recall: 0.9087\n"
          ]
        },
        {
          "output_type": "execute_result",
          "data": {
            "text/plain": [
              "{'loss': 0.0, 'recall': 0.9086538553237915}"
            ]
          },
          "metadata": {},
          "execution_count": 23
        }
      ],
      "metadata": {
        "colab": {
          "base_uri": "https://localhost:8080/"
        },
        "id": "WgxvOvwQELfK",
        "outputId": "17e7c8ec-4d30-4915-bba7-7d1a63eb761f"
      }
    },
    {
      "cell_type": "code",
      "execution_count": 24,
      "source": [
        "#conf_matrix = tf.math.confusion_matrix(labels=test_set,\n",
        "predictions=model.predict(test_set, workers=-1)\n",
        "print(predictions[:])"
      ],
      "outputs": [
        {
          "output_type": "stream",
          "name": "stdout",
          "text": [
            "[[7.9825027e-03 9.9201751e-01]\n",
            " [9.9999785e-01 2.1656838e-06]\n",
            " [3.3246566e-15 1.0000000e+00]\n",
            " ...\n",
            " [4.6410814e-13 1.0000000e+00]\n",
            " [9.9998343e-01 1.6573065e-05]\n",
            " [1.2322123e-18 1.0000000e+00]]\n"
          ]
        }
      ],
      "metadata": {
        "colab": {
          "base_uri": "https://localhost:8080/"
        },
        "id": "PB1kRharIQ8c",
        "outputId": "2c37466f-5fda-408e-f4d9-58b5de38ca08"
      }
    },
    {
      "cell_type": "markdown",
      "source": [],
      "metadata": {
        "id": "wu7qvw9E6Wo1"
      }
    },
    {
      "cell_type": "code",
      "execution_count": 25,
      "source": [
        "# test_set.classes[:]"
      ],
      "outputs": [],
      "metadata": {
        "id": "LDtrPX0BM72b"
      }
    },
    {
      "cell_type": "code",
      "execution_count": 26,
      "source": [
        "rnd_predictions = [round(pred[1]) for pred in predictions]\n",
        "# np.array(rnd_predictions)[:]"
      ],
      "outputs": [],
      "metadata": {
        "id": "3o2Q9FqiLR-y"
      }
    },
    {
      "cell_type": "code",
      "execution_count": 27,
      "source": [
        "# pred_labels = np.array(rnd_predictions) >= 0.5\n",
        "# pred_labels"
      ],
      "outputs": [],
      "metadata": {
        "id": "IldRedpxnmBJ"
      }
    },
    {
      "cell_type": "markdown",
      "source": [
        "Results"
      ],
      "metadata": {
        "id": "OFYDykAcOX-R"
      }
    },
    {
      "cell_type": "code",
      "execution_count": 28,
      "source": [
        "conf_matrix = tf.math.confusion_matrix(labels=test_set.classes, predictions=np.array(rnd_predictions))\n",
        "conf_matrix"
      ],
      "outputs": [
        {
          "output_type": "execute_result",
          "data": {
            "text/plain": [
              "<tf.Tensor: shape=(2, 2), dtype=int32, numpy=\n",
              "array([[ 73, 161],\n",
              "       [116, 274]], dtype=int32)>"
            ]
          },
          "metadata": {},
          "execution_count": 28
        }
      ],
      "metadata": {
        "colab": {
          "base_uri": "https://localhost:8080/"
        },
        "id": "RBwspZBZKZJ8",
        "outputId": "804b9d51-ec05-46f6-88a7-c24af3b7222a"
      }
    },
    {
      "cell_type": "code",
      "execution_count": 29,
      "source": [
        "# test_set.classes"
      ],
      "outputs": [],
      "metadata": {
        "id": "lZ0RaWKLAgyn"
      }
    },
    {
      "cell_type": "code",
      "execution_count": 30,
      "source": [
        "img=image.load_img('/gdrive/My Drive/input/labeled-chest-xray-images/chest_xray/test/PNEUMONIA/person20_virus_51.jpeg',target_size=(224,224))"
      ],
      "outputs": [],
      "metadata": {
        "id": "DTzBOYkF_82g"
      }
    },
    {
      "cell_type": "code",
      "execution_count": 31,
      "source": [
        "x=image.img_to_array(img)"
      ],
      "outputs": [],
      "metadata": {
        "id": "peG5PNi__TpJ"
      }
    },
    {
      "cell_type": "code",
      "execution_count": 32,
      "source": [
        "x=np.expand_dims(x, axis=0)"
      ],
      "outputs": [],
      "metadata": {
        "id": "qte1-HDy-Nfi"
      }
    },
    {
      "cell_type": "code",
      "execution_count": 33,
      "source": [
        "img_data=preprocess_input(x)"
      ],
      "outputs": [],
      "metadata": {
        "id": "V44VPODmAGcs"
      }
    },
    {
      "cell_type": "code",
      "execution_count": 34,
      "source": [
        "classes=model.predict(img_data)"
      ],
      "outputs": [],
      "metadata": {
        "id": "31ljzpD-ANqa"
      }
    },
    {
      "cell_type": "code",
      "execution_count": 35,
      "source": [
        "# classes\n",
        "result=int(classes[0][1])"
      ],
      "outputs": [],
      "metadata": {
        "id": "slIwec-JBe5W"
      }
    },
    {
      "cell_type": "code",
      "execution_count": 36,
      "source": [
        "classes"
      ],
      "outputs": [
        {
          "output_type": "execute_result",
          "data": {
            "text/plain": [
              "array([[0., 1.]], dtype=float32)"
            ]
          },
          "metadata": {},
          "execution_count": 36
        }
      ],
      "metadata": {
        "colab": {
          "base_uri": "https://localhost:8080/"
        },
        "id": "PUoMSt4fy7Ne",
        "outputId": "97ec024c-90ba-44ed-8e6f-c17f9f52b655"
      }
    },
    {
      "cell_type": "code",
      "execution_count": 37,
      "source": [
        "if result==0:\n",
        "  print(\"X-Ray results are Normal\")\n",
        "else:\n",
        "  print(\"X-Ray results indicate Pneumonia\")\n",
        "  "
      ],
      "outputs": [
        {
          "output_type": "stream",
          "name": "stdout",
          "text": [
            "X-Ray results indicate Pneumonia\n"
          ]
        }
      ],
      "metadata": {
        "colab": {
          "base_uri": "https://localhost:8080/"
        },
        "id": "PNnM7cwuBpj5",
        "outputId": "ff0350a5-3ccd-4331-92b8-61bd8d3d29e4"
      }
    },
    {
      "cell_type": "code",
      "execution_count": 38,
      "source": [
        "result"
      ],
      "outputs": [
        {
          "output_type": "execute_result",
          "data": {
            "text/plain": [
              "1"
            ]
          },
          "metadata": {},
          "execution_count": 38
        }
      ],
      "metadata": {
        "colab": {
          "base_uri": "https://localhost:8080/"
        },
        "id": "5M95-uebx5FK",
        "outputId": "026c2a36-4a8f-4293-fef0-036468e14a38"
      }
    },
    {
      "cell_type": "markdown",
      "source": [
        "Explanation of Classes - First Column Prediction: result score: 0 = Pnemonia and 1 = Normal,   Second Column Actual x-Ray: 1 = Pneumonia and 0 = Normal"
      ],
      "metadata": {
        "id": "gUEH4WP0XmHl"
      }
    },
    {
      "cell_type": "code",
      "execution_count": 39,
      "source": [
        "classes"
      ],
      "outputs": [
        {
          "output_type": "execute_result",
          "data": {
            "text/plain": [
              "array([[0., 1.]], dtype=float32)"
            ]
          },
          "metadata": {},
          "execution_count": 39
        }
      ],
      "metadata": {
        "id": "7KCUTTXpz8Yq",
        "colab": {
          "base_uri": "https://localhost:8080/"
        },
        "outputId": "4a81c344-f81f-4716-f5d5-d64e71d82446"
      }
    },
    {
      "cell_type": "markdown",
      "source": [
        "Additional Metrics and Plots"
      ],
      "metadata": {
        "id": "NoUdis8ZZRrx"
      }
    },
    {
      "cell_type": "code",
      "execution_count": 40,
      "source": [
        "import matplotlib.pyplot as plt\n",
        "plt.title('Loss')\n",
        "plt.xlabel('Epochs')\n",
        "plt.ylabel('Percentage')\n",
        "plt.plot(r.history['loss'])"
      ],
      "outputs": [
        {
          "output_type": "execute_result",
          "data": {
            "text/plain": [
              "[<matplotlib.lines.Line2D at 0x7f74b1f3bb90>]"
            ]
          },
          "metadata": {},
          "execution_count": 40
        },
        {
          "output_type": "display_data",
          "data": {
            "image/png": "[encoded data removed]",
            "text/plain": [
              "<Figure size 432x288 with 1 Axes>"
            ]
          },
          "metadata": {
            "needs_background": "light"
          }
        }
      ],
      "metadata": {
        "colab": {
          "base_uri": "https://localhost:8080/",
          "height": 313
        },
        "id": "W5rTx18bViDZ",
        "outputId": "bea105b2-1f11-47f1-f3c6-eb426f41aaa5"
      }
    },
    {
      "cell_type": "code",
      "execution_count": 41,
      "source": [
        "import matplotlib.pyplot as plt\n",
        "plt.title('Accuracy')\n",
        "plt.xlabel('Epochs')\n",
        "plt.ylabel('Percentage')\n",
        "plt.plot(r.history['accuracy'])"
      ],
      "outputs": [
        {
          "output_type": "execute_result",
          "data": {
            "text/plain": [
              "[<matplotlib.lines.Line2D at 0x7f74b1c74350>]"
            ]
          },
          "metadata": {},
          "execution_count": 41
        },
        {
          "output_type": "display_data",
          "data": {
            "image/png": "[encoded data removed]",
            "text/plain": [
              "<Figure size 432x288 with 1 Axes>"
            ]
          },
          "metadata": {
            "needs_background": "light"
          }
        }
      ],
      "metadata": {
        "colab": {
          "base_uri": "https://localhost:8080/",
          "height": 313
        },
        "id": "UdKPBTvDVrtW",
        "outputId": "b07dd9fb-ff35-49f8-eb48-e46c9c96c152"
      }
    },
    {
      "cell_type": "code",
      "execution_count": 42,
      "source": [
        "import matplotlib.pyplot as plt\n",
        "plt.title('Validation Loss')\n",
        "plt.xlabel('Epochs')\n",
        "plt.ylabel('Percentage')\n",
        "plt.plot(r.history['val_loss'])"
      ],
      "outputs": [
        {
          "output_type": "execute_result",
          "data": {
            "text/plain": [
              "[<matplotlib.lines.Line2D at 0x7f74b16da590>]"
            ]
          },
          "metadata": {},
          "execution_count": 42
        },
        {
          "output_type": "display_data",
          "data": {
            "image/png": "[encoded data removed]",
            "text/plain": [
              "<Figure size 432x288 with 1 Axes>"
            ]
          },
          "metadata": {
            "needs_background": "light"
          }
        }
      ],
      "metadata": {
        "colab": {
          "base_uri": "https://localhost:8080/",
          "height": 313
        },
        "id": "3U7wEMQ6YPBF",
        "outputId": "619cface-9c28-4856-da39-5ca1bc2c80ed"
      }
    },
    {
      "cell_type": "code",
      "execution_count": 43,
      "source": [
        "import matplotlib.pyplot as plt\n",
        "plt.title('Val_Accuracy')\n",
        "plt.xlabel('Epochs')\n",
        "plt.ylabel('Percentage')\n",
        "plt.plot(r.history['val_accuracy'])"
      ],
      "outputs": [
        {
          "output_type": "execute_result",
          "data": {
            "text/plain": [
              "[<matplotlib.lines.Line2D at 0x7f74b15df510>]"
            ]
          },
          "metadata": {},
          "execution_count": 43
        },
        {
          "output_type": "display_data",
          "data": {
            "image/png": "[encoded data removed]",
            "text/plain": [
              "<Figure size 432x288 with 1 Axes>"
            ]
          },
          "metadata": {
            "needs_background": "light"
          }
        }
      ],
      "metadata": {
        "colab": {
          "base_uri": "https://localhost:8080/",
          "height": 313
        },
        "id": "_PJn5u0HYlt6",
        "outputId": "497173fc-0dd2-424b-9c54-6f1c33a6c798"
      }
    },
    {
      "cell_type": "code",
      "execution_count": 44,
      "source": [
        "true_labels = test_set.labels\n",
        "true_labels"
      ],
      "outputs": [
        {
          "output_type": "execute_result",
          "data": {
            "text/plain": [
              "array([0, 0, 0, 0, 0, 0, 0, 0, 0, 0, 0, 0, 0, 0, 0, 0, 0, 0, 0, 0, 0, 0,\n",
              "       0, 0, 0, 0, 0, 0, 0, 0, 0, 0, 0, 0, 0, 0, 0, 0, 0, 0, 0, 0, 0, 0,\n",
              "       0, 0, 0, 0, 0, 0, 0, 0, 0, 0, 0, 0, 0, 0, 0, 0, 0, 0, 0, 0, 0, 0,\n",
              "       0, 0, 0, 0, 0, 0, 0, 0, 0, 0, 0, 0, 0, 0, 0, 0, 0, 0, 0, 0, 0, 0,\n",
              "       0, 0, 0, 0, 0, 0, 0, 0, 0, 0, 0, 0, 0, 0, 0, 0, 0, 0, 0, 0, 0, 0,\n",
              "       0, 0, 0, 0, 0, 0, 0, 0, 0, 0, 0, 0, 0, 0, 0, 0, 0, 0, 0, 0, 0, 0,\n",
              "       0, 0, 0, 0, 0, 0, 0, 0, 0, 0, 0, 0, 0, 0, 0, 0, 0, 0, 0, 0, 0, 0,\n",
              "       0, 0, 0, 0, 0, 0, 0, 0, 0, 0, 0, 0, 0, 0, 0, 0, 0, 0, 0, 0, 0, 0,\n",
              "       0, 0, 0, 0, 0, 0, 0, 0, 0, 0, 0, 0, 0, 0, 0, 0, 0, 0, 0, 0, 0, 0,\n",
              "       0, 0, 0, 0, 0, 0, 0, 0, 0, 0, 0, 0, 0, 0, 0, 0, 0, 0, 0, 0, 0, 0,\n",
              "       0, 0, 0, 0, 0, 0, 0, 0, 0, 0, 0, 0, 0, 0, 1, 1, 1, 1, 1, 1, 1, 1,\n",
              "       1, 1, 1, 1, 1, 1, 1, 1, 1, 1, 1, 1, 1, 1, 1, 1, 1, 1, 1, 1, 1, 1,\n",
              "       1, 1, 1, 1, 1, 1, 1, 1, 1, 1, 1, 1, 1, 1, 1, 1, 1, 1, 1, 1, 1, 1,\n",
              "       1, 1, 1, 1, 1, 1, 1, 1, 1, 1, 1, 1, 1, 1, 1, 1, 1, 1, 1, 1, 1, 1,\n",
              "       1, 1, 1, 1, 1, 1, 1, 1, 1, 1, 1, 1, 1, 1, 1, 1, 1, 1, 1, 1, 1, 1,\n",
              "       1, 1, 1, 1, 1, 1, 1, 1, 1, 1, 1, 1, 1, 1, 1, 1, 1, 1, 1, 1, 1, 1,\n",
              "       1, 1, 1, 1, 1, 1, 1, 1, 1, 1, 1, 1, 1, 1, 1, 1, 1, 1, 1, 1, 1, 1,\n",
              "       1, 1, 1, 1, 1, 1, 1, 1, 1, 1, 1, 1, 1, 1, 1, 1, 1, 1, 1, 1, 1, 1,\n",
              "       1, 1, 1, 1, 1, 1, 1, 1, 1, 1, 1, 1, 1, 1, 1, 1, 1, 1, 1, 1, 1, 1,\n",
              "       1, 1, 1, 1, 1, 1, 1, 1, 1, 1, 1, 1, 1, 1, 1, 1, 1, 1, 1, 1, 1, 1,\n",
              "       1, 1, 1, 1, 1, 1, 1, 1, 1, 1, 1, 1, 1, 1, 1, 1, 1, 1, 1, 1, 1, 1,\n",
              "       1, 1, 1, 1, 1, 1, 1, 1, 1, 1, 1, 1, 1, 1, 1, 1, 1, 1, 1, 1, 1, 1,\n",
              "       1, 1, 1, 1, 1, 1, 1, 1, 1, 1, 1, 1, 1, 1, 1, 1, 1, 1, 1, 1, 1, 1,\n",
              "       1, 1, 1, 1, 1, 1, 1, 1, 1, 1, 1, 1, 1, 1, 1, 1, 1, 1, 1, 1, 1, 1,\n",
              "       1, 1, 1, 1, 1, 1, 1, 1, 1, 1, 1, 1, 1, 1, 1, 1, 1, 1, 1, 1, 1, 1,\n",
              "       1, 1, 1, 1, 1, 1, 1, 1, 1, 1, 1, 1, 1, 1, 1, 1, 1, 1, 1, 1, 1, 1,\n",
              "       1, 1, 1, 1, 1, 1, 1, 1, 1, 1, 1, 1, 1, 1, 1, 1, 1, 1, 1, 1, 1, 1,\n",
              "       1, 1, 1, 1, 1, 1, 1, 1, 1, 1, 1, 1, 1, 1, 1, 1, 1, 1, 1, 1, 1, 1,\n",
              "       1, 1, 1, 1, 1, 1, 1, 1], dtype=int32)"
            ]
          },
          "metadata": {},
          "execution_count": 44
        }
      ],
      "metadata": {
        "colab": {
          "base_uri": "https://localhost:8080/"
        },
        "id": "6U9znUZTDoC8",
        "outputId": "4689cda3-3ce9-47fa-ed33-2c18e97f93a6"
      }
    },
    {
      "cell_type": "code",
      "execution_count": 45,
      "source": [
        "pred_labels = [round(pred[1]) for pred in predictions]\n",
        "pred_labels = np.array(pred_labels)[:]\n",
        "pred_labels"
      ],
      "outputs": [
        {
          "output_type": "execute_result",
          "data": {
            "text/plain": [
              "array([1, 0, 1, 1, 1, 1, 1, 1, 1, 0, 1, 1, 1, 1, 0, 0, 1, 0, 1, 0, 0, 1,\n",
              "       1, 1, 0, 1, 1, 0, 1, 1, 1, 1, 0, 1, 1, 1, 1, 1, 0, 0, 0, 0, 1, 0,\n",
              "       0, 1, 1, 1, 1, 1, 1, 1, 1, 1, 1, 0, 0, 1, 1, 1, 1, 1, 1, 1, 1, 1,\n",
              "       1, 1, 1, 1, 0, 0, 1, 1, 1, 0, 0, 0, 0, 1, 1, 1, 1, 1, 1, 1, 1, 1,\n",
              "       1, 0, 1, 1, 1, 1, 0, 0, 0, 1, 1, 0, 0, 1, 0, 1, 0, 1, 0, 0, 0, 0,\n",
              "       0, 0, 1, 1, 1, 1, 0, 1, 1, 1, 1, 1, 1, 1, 1, 1, 0, 1, 1, 1, 1, 1,\n",
              "       1, 1, 0, 1, 0, 0, 0, 1, 1, 1, 0, 0, 1, 0, 1, 1, 1, 1, 1, 1, 0, 1,\n",
              "       1, 1, 0, 1, 1, 1, 1, 1, 0, 1, 1, 1, 1, 1, 1, 0, 0, 1, 0, 1, 1, 1,\n",
              "       1, 1, 1, 1, 1, 1, 1, 1, 0, 1, 1, 1, 0, 0, 0, 1, 1, 1, 0, 1, 0, 1,\n",
              "       1, 0, 1, 1, 1, 1, 1, 1, 1, 0, 1, 0, 0, 0, 1, 0, 1, 1, 0, 0, 0, 0,\n",
              "       0, 1, 1, 1, 1, 1, 1, 1, 1, 1, 0, 1, 0, 0, 1, 1, 0, 1, 1, 0, 0, 1,\n",
              "       1, 1, 1, 0, 1, 0, 1, 1, 1, 0, 1, 1, 1, 1, 1, 0, 1, 1, 1, 1, 1, 1,\n",
              "       1, 1, 1, 1, 1, 0, 1, 1, 1, 1, 1, 1, 1, 0, 1, 1, 1, 0, 1, 1, 0, 1,\n",
              "       0, 1, 1, 1, 0, 1, 1, 1, 1, 1, 1, 0, 0, 0, 1, 1, 1, 1, 1, 1, 1, 1,\n",
              "       0, 1, 1, 1, 1, 1, 1, 1, 1, 1, 1, 1, 0, 0, 1, 1, 0, 1, 1, 1, 0, 1,\n",
              "       1, 0, 0, 1, 1, 0, 0, 0, 0, 1, 1, 1, 1, 1, 1, 0, 1, 1, 1, 1, 1, 0,\n",
              "       1, 1, 1, 1, 1, 0, 0, 1, 1, 1, 1, 1, 1, 0, 0, 1, 1, 1, 0, 1, 1, 1,\n",
              "       1, 0, 0, 1, 1, 0, 0, 0, 1, 1, 1, 1, 0, 0, 0, 1, 1, 1, 0, 0, 1, 1,\n",
              "       1, 1, 1, 1, 1, 0, 0, 1, 1, 1, 1, 1, 1, 1, 1, 0, 0, 1, 0, 1, 1, 1,\n",
              "       1, 0, 1, 1, 0, 1, 1, 0, 1, 1, 1, 1, 1, 0, 0, 1, 0, 0, 1, 0, 1, 1,\n",
              "       1, 1, 0, 0, 1, 0, 1, 1, 1, 0, 1, 1, 1, 1, 0, 0, 0, 0, 1, 1, 1, 0,\n",
              "       0, 1, 1, 1, 0, 1, 0, 1, 0, 0, 1, 1, 1, 0, 0, 1, 0, 1, 1, 1, 1, 1,\n",
              "       1, 1, 0, 1, 1, 0, 1, 0, 0, 1, 1, 1, 0, 1, 1, 1, 0, 1, 0, 1, 1, 0,\n",
              "       0, 1, 0, 0, 1, 1, 1, 1, 0, 0, 1, 1, 0, 1, 1, 0, 1, 1, 1, 1, 0, 1,\n",
              "       0, 1, 1, 0, 0, 1, 1, 1, 1, 0, 1, 1, 1, 1, 1, 0, 1, 0, 0, 1, 0, 1,\n",
              "       1, 1, 1, 0, 1, 0, 0, 1, 1, 1, 1, 1, 1, 1, 1, 1, 1, 1, 0, 1, 1, 0,\n",
              "       1, 1, 1, 0, 1, 0, 1, 1, 1, 1, 0, 1, 1, 1, 0, 1, 1, 1, 1, 0, 1, 1,\n",
              "       1, 0, 1, 1, 0, 1, 1, 1, 1, 1, 1, 0, 1, 0, 1, 1, 0, 1, 1, 1, 1, 0,\n",
              "       1, 0, 1, 1, 1, 1, 0, 1])"
            ]
          },
          "metadata": {},
          "execution_count": 45
        }
      ],
      "metadata": {
        "colab": {
          "base_uri": "https://localhost:8080/"
        },
        "id": "F_F-QRbUIR8g",
        "outputId": "d722b0f4-a613-4fd7-a0a0-57dc53c50c87"
      }
    },
    {
      "cell_type": "code",
      "execution_count": 46,
      "source": [
        "from sklearn.metrics import confusion_matrix\n",
        "cm = confusion_matrix(true_labels, pred_labels)"
      ],
      "outputs": [],
      "metadata": {
        "id": "KEQg06qqNiJd"
      }
    },
    {
      "cell_type": "code",
      "execution_count": 47,
      "source": [
        "import matplotlib.pyplot as plt\n",
        "import seaborn as sns\n",
        "plt.figure(figsize=(6,6))\n",
        "sns.heatmap(cm, annot=True, fmt='g', vmin=0, cmap='mako', cbar=False)\n",
        "plt.xlabel(\"Predicted\")\n",
        "plt.ylabel(\"Actual\")\n",
        "plt.xticks(np.arange(2) + 0.5, ['Pneumonia', 'Normal'], fontsize=16)\n",
        "plt.yticks(np.arange(2) + 0.5, ['Pneumonia', 'Normal'], fontsize=16)\n",
        "plt.show()"
      ],
      "outputs": [
        {
          "output_type": "display_data",
          "data": {
            "image/png": "[encoded data removed]",
            "text/plain": [
              "<Figure size 432x432 with 1 Axes>"
            ]
          },
          "metadata": {
            "needs_background": "light"
          }
        }
      ],
      "metadata": {
        "colab": {
          "base_uri": "https://localhost:8080/",
          "height": 393
        },
        "id": "bkwFS3elQGS8",
        "outputId": "1cc0ebeb-e1ee-4d2e-a014-076c8abd6738"
      }
    },
    {
      "cell_type": "code",
      "execution_count": 48,
      "source": [
        "results = model.evaluate(test_set, verbose=0)\n",
        "accuracy = results[1]"
      ],
      "outputs": [],
      "metadata": {
        "id": "5eNRu9fnQiEa"
      }
    },
    {
      "cell_type": "code",
      "execution_count": 49,
      "source": [
        "tn, fp, fn, tp = cm.ravel()\n",
        "\n",
        "precision = tp / (tp + fp)\n",
        "recall = tp / (tp + fn)"
      ],
      "outputs": [],
      "metadata": {
        "id": "O8XRszGMRNUG"
      }
    },
    {
      "cell_type": "code",
      "execution_count": 50,
      "source": [
        "print (\"Accuracy: {:.2f}\".format(accuracy))\n",
        "print (\"Precision: {:.2f}\".format(precision))\n",
        "print (\"Recall: {:.2f}\".format(recall)) "
      ],
      "outputs": [
        {
          "output_type": "stream",
          "name": "stdout",
          "text": [
            "Accuracy: 0.91\n",
            "Precision: 0.63\n",
            "Recall: 0.70\n"
          ]
        }
      ],
      "metadata": {
        "colab": {
          "base_uri": "https://localhost:8080/"
        },
        "id": "iMUrI3aRS_OT",
        "outputId": "89cab069-2cfa-4e97-c528-1629fbcbbad8"
      }
    },
    {
      "cell_type": "code",
      "execution_count": 51,
      "source": [
        "import matplotlib.pyplot as plt\n",
        "plt.plot(r.history['loss'], label='train loss')\n",
        "plt.plot(r.history['val_loss'], label='val loss')\n",
        "plt.legend()\n",
        "plt.show()\n",
        "# plt.savefig('LossVal_loss')\n",
        "\n",
        "plt.plot(r.history['accuracy'], label='train acc')\n",
        "plt.plot(r.history['val_accuracy'], label='val acc')\n",
        "plt.legend()\n",
        "plt.show()\n",
        "# plt.savefig('AccVal_acc')"
      ],
      "outputs": [
        {
          "output_type": "display_data",
          "data": {
            "image/png": "[encoded data removed]",
            "text/plain": [
              "<Figure size 432x288 with 1 Axes>"
            ]
          },
          "metadata": {
            "needs_background": "light"
          }
        },
        {
          "output_type": "display_data",
          "data": {
            "image/png": "[encoded data removed]",
            "text/plain": [
              "<Figure size 432x288 with 1 Axes>"
            ]
          },
          "metadata": {
            "needs_background": "light"
          }
        }
      ],
      "metadata": {
        "colab": {
          "base_uri": "https://localhost:8080/",
          "height": 513
        },
        "id": "PV6E0WX5TNm6",
        "outputId": "dfaae8dd-60d2-493d-e0e5-e13d9f44172f"
      }
    },
    {
      "cell_type": "code",
      "execution_count": null,
      "source": [],
      "outputs": [],
      "metadata": {
        "id": "PkPUJF_VZMbh"
      }
    }
  ]
}