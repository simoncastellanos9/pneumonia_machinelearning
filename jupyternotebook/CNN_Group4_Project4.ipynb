{
  "nbformat": 4,
  "nbformat_minor": 2,
  "metadata": {
    "colab": {
      "name": "CNN_Group4_Project4.ipynb",
      "provenance": [],
      "collapsed_sections": []
    },
    "kernelspec": {
      "name": "python3",
      "display_name": "Python 3"
    },
    "language_info": {
      "name": "python"
    },
    "accelerator": "GPU"
  },
  "cells": [
    {
      "cell_type": "code",
      "execution_count": 1,
      "source": [
        "import warnings\r\n",
        "warnings.filterwarnings('ignore')"
      ],
      "outputs": [],
      "metadata": {
        "id": "qYZXnAXryT6s"
      }
    },
    {
      "cell_type": "code",
      "execution_count": 2,
      "source": [
        "import tensorflow as tf\r\n",
        "from tensorflow import keras"
      ],
      "outputs": [],
      "metadata": {
        "id": "mu73jVaYy_HQ"
      }
    },
    {
      "cell_type": "code",
      "execution_count": 3,
      "source": [
        "from keras.layers import Input, Lambda, Dense, Flatten"
      ],
      "outputs": [],
      "metadata": {
        "id": "Hxayb81NzF8D"
      }
    },
    {
      "cell_type": "code",
      "execution_count": 4,
      "source": [
        "from keras.models import Model\r\n",
        "from keras.applications.vgg16 import VGG16\r\n",
        "from keras.applications.vgg16 import preprocess_input\r\n",
        "from keras.preprocessing import image\r\n",
        "from keras.preprocessing.image import ImageDataGenerator\r\n",
        "from keras.models import Sequential\r\n",
        "import numpy as np\r\n",
        "from glob import glob\r\n",
        "import matplotlib.pyplot as plt"
      ],
      "outputs": [],
      "metadata": {
        "id": "SnlkQ01MzNfN"
      }
    },
    {
      "cell_type": "code",
      "execution_count": 5,
      "source": [
        "IMAGE_SIZE = [224, 224]\r\n",
        "\r\n",
        "train_path = '/gdrive/My Drive/input/labeled-chest-xray-images/chest_xray/train/'\r\n",
        "test_path = '/gdrive/My Drive/input/labeled-chest-xray-images/chest_xray/test/'"
      ],
      "outputs": [],
      "metadata": {
        "id": "Zv29ghR30djE"
      }
    },
    {
      "cell_type": "code",
      "execution_count": 6,
      "source": [
        "vgg = VGG16(input_shape=IMAGE_SIZE + [3], weights='imagenet', include_top=False)"
      ],
      "outputs": [],
      "metadata": {
        "id": "z99zMAOt1hBJ"
      }
    },
    {
      "cell_type": "code",
      "execution_count": 7,
      "source": [
        "for layer in vgg.layers:\n",
        "    layer.trainable = False"
      ],
      "outputs": [],
      "metadata": {
        "id": "TmdZa9rj3l3v"
      }
    },
    {
      "cell_type": "code",
      "execution_count": 8,
      "source": [
        "folders = glob('/gdrive/My Drive/input/labeled-chest-xray-images/chest_xray/train/*')\n",
        "x = Flatten() (vgg.output)"
      ],
      "outputs": [],
      "metadata": {
        "id": "WJDa-Zgv13Zt"
      }
    },
    {
      "cell_type": "code",
      "execution_count": 9,
      "source": [
        "prediction = Dense(len(folders), activation='softmax') (x)\n",
        "# creating a model object\n",
        "model = Model(inputs=vgg.input, outputs=prediction)\n",
        "# view structure of the model\n",
        "model.summary()"
      ],
      "outputs": [
        {
          "output_type": "stream",
          "name": "stdout",
          "text": [
            "Model: \"model\"\n",
            "_________________________________________________________________\n",
            "Layer (type)                 Output Shape              Param #   \n",
            "=================================================================\n",
            "input_1 (InputLayer)         [(None, 224, 224, 3)]     0         \n",
            "_________________________________________________________________\n",
            "block1_conv1 (Conv2D)        (None, 224, 224, 64)      1792      \n",
            "_________________________________________________________________\n",
            "block1_conv2 (Conv2D)        (None, 224, 224, 64)      36928     \n",
            "_________________________________________________________________\n",
            "block1_pool (MaxPooling2D)   (None, 112, 112, 64)      0         \n",
            "_________________________________________________________________\n",
            "block2_conv1 (Conv2D)        (None, 112, 112, 128)     73856     \n",
            "_________________________________________________________________\n",
            "block2_conv2 (Conv2D)        (None, 112, 112, 128)     147584    \n",
            "_________________________________________________________________\n",
            "block2_pool (MaxPooling2D)   (None, 56, 56, 128)       0         \n",
            "_________________________________________________________________\n",
            "block3_conv1 (Conv2D)        (None, 56, 56, 256)       295168    \n",
            "_________________________________________________________________\n",
            "block3_conv2 (Conv2D)        (None, 56, 56, 256)       590080    \n",
            "_________________________________________________________________\n",
            "block3_conv3 (Conv2D)        (None, 56, 56, 256)       590080    \n",
            "_________________________________________________________________\n",
            "block3_pool (MaxPooling2D)   (None, 28, 28, 256)       0         \n",
            "_________________________________________________________________\n",
            "block4_conv1 (Conv2D)        (None, 28, 28, 512)       1180160   \n",
            "_________________________________________________________________\n",
            "block4_conv2 (Conv2D)        (None, 28, 28, 512)       2359808   \n",
            "_________________________________________________________________\n",
            "block4_conv3 (Conv2D)        (None, 28, 28, 512)       2359808   \n",
            "_________________________________________________________________\n",
            "block4_pool (MaxPooling2D)   (None, 14, 14, 512)       0         \n",
            "_________________________________________________________________\n",
            "block5_conv1 (Conv2D)        (None, 14, 14, 512)       2359808   \n",
            "_________________________________________________________________\n",
            "block5_conv2 (Conv2D)        (None, 14, 14, 512)       2359808   \n",
            "_________________________________________________________________\n",
            "block5_conv3 (Conv2D)        (None, 14, 14, 512)       2359808   \n",
            "_________________________________________________________________\n",
            "block5_pool (MaxPooling2D)   (None, 7, 7, 512)         0         \n",
            "_________________________________________________________________\n",
            "flatten (Flatten)            (None, 25088)             0         \n",
            "_________________________________________________________________\n",
            "dense (Dense)                (None, 2)                 50178     \n",
            "=================================================================\n",
            "Total params: 14,764,866\n",
            "Trainable params: 50,178\n",
            "Non-trainable params: 14,714,688\n",
            "_________________________________________________________________\n"
          ]
        }
      ],
      "metadata": {
        "colab": {
          "base_uri": "https://localhost:8080/"
        },
        "id": "vBbZUJXd4PhX",
        "outputId": "3063e100-5b6b-44d4-beb5-a442c171ae17"
      }
    },
    {
      "cell_type": "code",
      "execution_count": 10,
      "source": [
        "model.compile(\n",
        "  loss='categorical_crossentropy',\n",
        "  optimizer='adam',\n",
        "  metrics=['accuracy']\n",
        ")"
      ],
      "outputs": [],
      "metadata": {
        "id": "COYqpj2h4xU7"
      }
    },
    {
      "cell_type": "code",
      "execution_count": 11,
      "source": [
        "from keras.preprocessing.image import ImageDataGenerator"
      ],
      "outputs": [],
      "metadata": {
        "id": "qc1W8xl05-wF"
      }
    },
    {
      "cell_type": "code",
      "execution_count": 12,
      "source": [
        "# note: must input code received from google for access to the google drive files: Please copy this code, switch to your application and paste it there:\n",
        "# 4/1AX4XfWgMbu2qOfhAjCXU90DNP_Yx7EFgJsSBJrHiKfPqnwomhdAgQZxkp3o\n",
        "from google.colab import drive\n",
        "drive.mount('/gdrive')\n",
        "%cd /gdrive"
      ],
      "outputs": [
        {
          "output_type": "stream",
          "name": "stdout",
          "text": [
            "Drive already mounted at /gdrive; to attempt to forcibly remount, call drive.mount(\"/gdrive\", force_remount=True).\n",
            "/gdrive\n"
          ]
        }
      ],
      "metadata": {
        "id": "MA1m3_UkTuYT",
        "colab": {
          "base_uri": "https://localhost:8080/"
        },
        "outputId": "00d0b238-aadc-4f6f-de88-bf5c0c3a5080"
      }
    },
    {
      "cell_type": "code",
      "execution_count": 13,
      "source": [
        "# ('/input/labeled-chest-xray-images/chest_xray/train')"
      ],
      "outputs": [],
      "metadata": {
        "id": "ejiL3IoDV-TX"
      }
    },
    {
      "cell_type": "code",
      "execution_count": 14,
      "source": [
        "train_datagen = ImageDataGenerator(rescale = 1./255,\n",
        "                                   shear_range = 0.2,\n",
        "                                   zoom_range = 0.2,\n",
        "                                   horizontal_flip = True)\n",
        "\n",
        "test_datagen = ImageDataGenerator(rescale = 1./255)\n",
        "\n",
        "\n",
        "\n",
        "\n",
        "# Make sure you provide the same target size as initialied for the image size\n",
        "training_set = train_datagen.flow_from_directory('/gdrive/My Drive/input/labeled-chest-xray-images/chest_xray/train/',\n",
        "                                                 target_size = (224, 224),\n",
        "                                                 batch_size = 10,\n",
        "                                                 class_mode = 'categorical')\n",
        "\n",
        "\n",
        "\n",
        "\n",
        "test_set = test_datagen.flow_from_directory('/gdrive/My Drive/input/labeled-chest-xray-images/chest_xray/test/',\n",
        "                                            target_size = (224, 224),\n",
        "                                            batch_size = 10,\n",
        "                                            class_mode = 'categorical')"
      ],
      "outputs": [
        {
          "output_type": "stream",
          "name": "stdout",
          "text": [
            "Found 5216 images belonging to 2 classes.\n",
            "Found 624 images belonging to 2 classes.\n"
          ]
        }
      ],
      "metadata": {
        "colab": {
          "base_uri": "https://localhost:8080/"
        },
        "id": "E25a3uCL6MNr",
        "outputId": "23fc1c3b-26bd-4b85-aee1-13ed8004fc8e"
      }
    },
    {
      "cell_type": "code",
      "execution_count": 15,
      "source": [
        "r = model.fit_generator(   \n",
        "  training_set,\n",
        "  validation_data=test_set,\n",
        "  epochs=1,\n",
        "  steps_per_epoch=len(training_set),\n",
        "  validation_steps=len(test_set)\n",
        ")"
      ],
      "outputs": [
        {
          "output_type": "stream",
          "name": "stdout",
          "text": [
            "522/522 [==============================] - 1375s 3s/step - loss: 0.2083 - accuracy: 0.9293 - val_loss: 0.8016 - val_accuracy: 0.7901\n"
          ]
        }
      ],
      "metadata": {
        "colab": {
          "base_uri": "https://localhost:8080/"
        },
        "id": "ttXbAqL07IX5",
        "outputId": "43caa090-f5a3-492f-fe59-c8ff71f7c403"
      }
    },
    {
      "cell_type": "code",
      "execution_count": 16,
      "source": [
        "import tensorflow as tf\n",
        "from keras.models import load_model\n",
        "# from google.colab import drive\n",
        "# drive.mount()\n",
        "# %cd /gdrive\n",
        "model.save('/gdrive/My Drive/input/chest_xray.h5')"
      ],
      "outputs": [],
      "metadata": {
        "id": "ACP1coq_9q2d"
      }
    },
    {
      "cell_type": "code",
      "execution_count": 31,
      "source": [
        "from keras.models import load_model"
      ],
      "outputs": [],
      "metadata": {
        "id": "4Yqwsl6T-AnH"
      }
    },
    {
      "cell_type": "code",
      "execution_count": 32,
      "source": [
        "from keras.preprocessing import image"
      ],
      "outputs": [],
      "metadata": {
        "id": "GPL8TXtX-MMh"
      }
    },
    {
      "cell_type": "code",
      "execution_count": 33,
      "source": [
        "from keras.applications.vgg16 import preprocess_input"
      ],
      "outputs": [],
      "metadata": {
        "id": "T18wquyd-Mw6"
      }
    },
    {
      "cell_type": "code",
      "execution_count": 34,
      "source": [
        "import numpy as np"
      ],
      "outputs": [],
      "metadata": {
        "id": "3q82t9Z0-NET"
      }
    },
    {
      "cell_type": "code",
      "execution_count": 21,
      "source": [
        "model=load_model('/gdrive/My Drive/input/chest_xray.h5')"
      ],
      "outputs": [],
      "metadata": {
        "id": "iuaagDki-NS6"
      }
    },
    {
      "cell_type": "code",
      "execution_count": 35,
      "source": [
        "img=image.load_img('/gdrive/My Drive/input/labeled-chest-xray-images/chest_xray/test/PNEUMONIA/person1_virus_6.jpeg',target_size=(224,224))"
      ],
      "outputs": [],
      "metadata": {
        "id": "DTzBOYkF_82g"
      }
    },
    {
      "cell_type": "code",
      "execution_count": 36,
      "source": [
        "x=image.img_to_array(img)"
      ],
      "outputs": [],
      "metadata": {
        "id": "peG5PNi__TpJ"
      }
    },
    {
      "cell_type": "code",
      "execution_count": 37,
      "source": [
        "x=np.expand_dims(x, axis=0)"
      ],
      "outputs": [],
      "metadata": {
        "id": "qte1-HDy-Nfi"
      }
    },
    {
      "cell_type": "code",
      "execution_count": 38,
      "source": [
        "img_data=preprocess_input(x)"
      ],
      "outputs": [],
      "metadata": {
        "id": "V44VPODmAGcs"
      }
    },
    {
      "cell_type": "code",
      "execution_count": 39,
      "source": [
        "classes=model.predict(img_data)"
      ],
      "outputs": [],
      "metadata": {
        "id": "31ljzpD-ANqa"
      }
    },
    {
      "cell_type": "code",
      "execution_count": 41,
      "source": [
        "# classes\n",
        "result=int(classes[0][0])"
      ],
      "outputs": [],
      "metadata": {
        "id": "slIwec-JBe5W"
      }
    },
    {
      "cell_type": "code",
      "execution_count": 42,
      "source": [
        "if result==0:\n",
        "  print(\"X-Ray results indicate Pneumonia\")\n",
        "else:\n",
        "  print(\"X-Ray results are Normal\")\n",
        "  "
      ],
      "outputs": [
        {
          "output_type": "stream",
          "name": "stdout",
          "text": [
            "X-Ray results indicate Pneumonia\n"
          ]
        }
      ],
      "metadata": {
        "colab": {
          "base_uri": "https://localhost:8080/"
        },
        "id": "PNnM7cwuBpj5",
        "outputId": "251315a3-7dc0-4c48-eba9-9fcc174a85e9"
      }
    },
    {
      "cell_type": "code",
      "execution_count": 43,
      "source": [
        "result"
      ],
      "outputs": [
        {
          "output_type": "execute_result",
          "data": {
            "text/plain": [
              "0"
            ]
          },
          "metadata": {},
          "execution_count": 43
        }
      ],
      "metadata": {
        "colab": {
          "base_uri": "https://localhost:8080/"
        },
        "id": "5M95-uebx5FK",
        "outputId": "74cf4d69-73d6-45c9-e963-027ffe78ab2f"
      }
    },
    {
      "cell_type": "code",
      "execution_count": null,
      "source": [],
      "outputs": [],
      "metadata": {
        "id": "7KCUTTXpz8Yq"
      }
    }
  ]
}