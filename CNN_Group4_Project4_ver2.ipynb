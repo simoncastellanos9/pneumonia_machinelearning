{
  "nbformat": 4,
  "nbformat_minor": 2,
  "metadata": {
    "colab": {
      "name": "CNN_Group4_Project4_ver2.ipynb",
      "provenance": [],
      "collapsed_sections": [],
      "machine_shape": "hm"
    },
    "kernelspec": {
      "name": "python3",
      "display_name": "Python 3"
    },
    "language_info": {
      "name": "python"
    },
    "accelerator": "TPU"
  },
  "cells": [
    {
      "cell_type": "code",
      "execution_count": 62,
      "source": [
        "import warnings\r\n",
        "warnings.filterwarnings('ignore')"
      ],
      "outputs": [],
      "metadata": {
        "id": "qYZXnAXryT6s"
      }
    },
    {
      "cell_type": "code",
      "execution_count": 63,
      "source": [
        "import tensorflow as tf\r\n",
        "from tensorflow import keras"
      ],
      "outputs": [],
      "metadata": {
        "id": "mu73jVaYy_HQ"
      }
    },
    {
      "cell_type": "code",
      "execution_count": 64,
      "source": [
        "from keras.layers import Input, Lambda, Dense, Flatten"
      ],
      "outputs": [],
      "metadata": {
        "id": "Hxayb81NzF8D"
      }
    },
    {
      "cell_type": "markdown",
      "source": [
        "Tensorflow backend"
      ],
      "metadata": {
        "id": "ONcxLwaCRXCA"
      }
    },
    {
      "cell_type": "code",
      "execution_count": 65,
      "source": [
        "from keras.models import Model\r\n",
        "from keras.applications.vgg16 import VGG16\r\n",
        "from keras.applications.vgg16 import preprocess_input\r\n",
        "from keras.preprocessing import image\r\n",
        "from keras.preprocessing.image import ImageDataGenerator\r\n",
        "from keras.models import Sequential\r\n",
        "import numpy as np\r\n",
        "from glob import glob\r\n",
        "import matplotlib.pyplot as plt"
      ],
      "outputs": [],
      "metadata": {
        "id": "SnlkQ01MzNfN"
      }
    },
    {
      "cell_type": "code",
      "execution_count": 66,
      "source": [
        "IMAGE_SIZE = [224, 224]\r\n",
        "\r\n",
        "train_path = '/gdrive/My Drive/input/labeled-chest-xray-images/chest_xray/train/'\r\n",
        "test_path = '/gdrive/My Drive/input/labeled-chest-xray-images/chest_xray/test/'"
      ],
      "outputs": [],
      "metadata": {
        "id": "Zv29ghR30djE"
      }
    },
    {
      "cell_type": "code",
      "execution_count": 67,
      "source": [
        "vgg = VGG16(input_shape=IMAGE_SIZE + [3], weights='imagenet', include_top=False)"
      ],
      "outputs": [],
      "metadata": {
        "id": "z99zMAOt1hBJ"
      }
    },
    {
      "cell_type": "code",
      "execution_count": 68,
      "source": [
        "# https://stackoverflow.com/questions/61292890/transfer-learning-only-works-with-trainable-set-to-false\n",
        "for layer in vgg.layers:\n",
        "    layer.trainable = False"
      ],
      "outputs": [],
      "metadata": {
        "id": "TmdZa9rj3l3v"
      }
    },
    {
      "cell_type": "code",
      "execution_count": 69,
      "source": [
        "# https://stackoverflow.com/questions/2186525/how-to-use-glob-to-find-files-recursively\n",
        "folders = glob('/gdrive/My Drive/input/labeled-chest-xray-images/chest_xray/train/*')\n",
        "x = Flatten() (vgg.output)"
      ],
      "outputs": [],
      "metadata": {
        "id": "WJDa-Zgv13Zt"
      }
    },
    {
      "cell_type": "code",
      "execution_count": 70,
      "source": [
        "prediction = Dense(len(folders), activation='softmax') (x)\n",
        "# creating a model object\n",
        "model = Model(inputs=vgg.input, outputs=prediction)\n",
        "# view structure of the model\n",
        "model.summary()"
      ],
      "outputs": [
        {
          "output_type": "stream",
          "name": "stdout",
          "text": [
            "Model: \"model_3\"\n",
            "_________________________________________________________________\n",
            "Layer (type)                 Output Shape              Param #   \n",
            "=================================================================\n",
            "input_2 (InputLayer)         [(None, 224, 224, 3)]     0         \n",
            "_________________________________________________________________\n",
            "block1_conv1 (Conv2D)        (None, 224, 224, 64)      1792      \n",
            "_________________________________________________________________\n",
            "block1_conv2 (Conv2D)        (None, 224, 224, 64)      36928     \n",
            "_________________________________________________________________\n",
            "block1_pool (MaxPooling2D)   (None, 112, 112, 64)      0         \n",
            "_________________________________________________________________\n",
            "block2_conv1 (Conv2D)        (None, 112, 112, 128)     73856     \n",
            "_________________________________________________________________\n",
            "block2_conv2 (Conv2D)        (None, 112, 112, 128)     147584    \n",
            "_________________________________________________________________\n",
            "block2_pool (MaxPooling2D)   (None, 56, 56, 128)       0         \n",
            "_________________________________________________________________\n",
            "block3_conv1 (Conv2D)        (None, 56, 56, 256)       295168    \n",
            "_________________________________________________________________\n",
            "block3_conv2 (Conv2D)        (None, 56, 56, 256)       590080    \n",
            "_________________________________________________________________\n",
            "block3_conv3 (Conv2D)        (None, 56, 56, 256)       590080    \n",
            "_________________________________________________________________\n",
            "block3_pool (MaxPooling2D)   (None, 28, 28, 256)       0         \n",
            "_________________________________________________________________\n",
            "block4_conv1 (Conv2D)        (None, 28, 28, 512)       1180160   \n",
            "_________________________________________________________________\n",
            "block4_conv2 (Conv2D)        (None, 28, 28, 512)       2359808   \n",
            "_________________________________________________________________\n",
            "block4_conv3 (Conv2D)        (None, 28, 28, 512)       2359808   \n",
            "_________________________________________________________________\n",
            "block4_pool (MaxPooling2D)   (None, 14, 14, 512)       0         \n",
            "_________________________________________________________________\n",
            "block5_conv1 (Conv2D)        (None, 14, 14, 512)       2359808   \n",
            "_________________________________________________________________\n",
            "block5_conv2 (Conv2D)        (None, 14, 14, 512)       2359808   \n",
            "_________________________________________________________________\n",
            "block5_conv3 (Conv2D)        (None, 14, 14, 512)       2359808   \n",
            "_________________________________________________________________\n",
            "block5_pool (MaxPooling2D)   (None, 7, 7, 512)         0         \n",
            "_________________________________________________________________\n",
            "flatten_1 (Flatten)          (None, 25088)             0         \n",
            "_________________________________________________________________\n",
            "dense_2 (Dense)              (None, 2)                 50178     \n",
            "=================================================================\n",
            "Total params: 14,764,866\n",
            "Trainable params: 50,178\n",
            "Non-trainable params: 14,714,688\n",
            "_________________________________________________________________\n"
          ]
        }
      ],
      "metadata": {
        "id": "vBbZUJXd4PhX",
        "colab": {
          "base_uri": "https://localhost:8080/"
        },
        "outputId": "d61dbabd-410a-40cb-854e-1cacd4d473e8"
      }
    },
    {
      "cell_type": "markdown",
      "source": [
        "compiling model"
      ],
      "metadata": {
        "id": "wmW5UwkvJBZD"
      }
    },
    {
      "cell_type": "code",
      "execution_count": 71,
      "source": [
        "# https://stackoverflow.com/questions/42081257/why-binary-crossentropy-and-categorical-crossentropy-give-different-performances\n",
        "model.compile(\n",
        "  loss='categorical_crossentropy',\n",
        "  optimizer='adam',\n",
        "  metrics=['accuracy']\n",
        ")"
      ],
      "outputs": [],
      "metadata": {
        "id": "COYqpj2h4xU7"
      }
    },
    {
      "cell_type": "code",
      "execution_count": 72,
      "source": [
        "from keras.preprocessing.image import ImageDataGenerator"
      ],
      "outputs": [],
      "metadata": {
        "id": "qc1W8xl05-wF"
      }
    },
    {
      "cell_type": "code",
      "execution_count": 12,
      "source": [
        "# note: must input code received from google for access to the google drive files: Please copy this code, switch to your application and paste it there:\n",
        "# 4/1AX4XfWgMbu2qOfhAjCXU90DNP_Yx7EFgJsSBJrHiKfPqnwomhdAgQZxkp3o\n",
        "from google.colab import drive\n",
        "drive.mount('/gdrive')\n",
        "%cd /gdrive"
      ],
      "outputs": [
        {
          "output_type": "stream",
          "name": "stdout",
          "text": [
            "Drive already mounted at /gdrive; to attempt to forcibly remount, call drive.mount(\"/gdrive\", force_remount=True).\n",
            "/gdrive\n"
          ]
        }
      ],
      "metadata": {
        "id": "MA1m3_UkTuYT",
        "colab": {
          "base_uri": "https://localhost:8080/"
        },
        "outputId": "e8dbfb0e-d00a-44e6-fda2-3d9296789afc"
      }
    },
    {
      "cell_type": "markdown",
      "source": [
        "Creating Generators"
      ],
      "metadata": {
        "id": "yxyYq9qvLkXt"
      }
    },
    {
      "cell_type": "code",
      "execution_count": 13,
      "source": [
        "train_datagen = ImageDataGenerator(rescale = 1./255,\n",
        "                                   shear_range = 0.2,\n",
        "                                   zoom_range = 0.3,\n",
        "                                   horizontal_flip = True)\n",
        "\n",
        "test_datagen = ImageDataGenerator(rescale = 1./255)\n",
        "\n",
        "\n",
        "\n",
        "\n",
        "# Make sure you provide the same target size as initialied for the image size (\"reads the folder name for different classes NORMAL and PNEMONIA\")\n",
        "training_set = train_datagen.flow_from_directory('/gdrive/My Drive/input/labeled-chest-xray-images/chest_xray/train/',\n",
        "                                                 target_size = (224, 224),\n",
        "                                                 batch_size = 10,\n",
        "                                                 class_mode = 'categorical')\n",
        "\n",
        "\n",
        "\n",
        "\n",
        "test_set = test_datagen.flow_from_directory('/gdrive/My Drive/input/labeled-chest-xray-images/chest_xray/test/',\n",
        "                                            target_size = (224, 224),\n",
        "                                            batch_size = 10,\n",
        "                                            class_mode = 'categorical')"
      ],
      "outputs": [
        {
          "output_type": "stream",
          "name": "stdout",
          "text": [
            "Found 5216 images belonging to 2 classes.\n",
            "Found 624 images belonging to 2 classes.\n"
          ]
        }
      ],
      "metadata": {
        "colab": {
          "base_uri": "https://localhost:8080/"
        },
        "id": "E25a3uCL6MNr",
        "outputId": "02c3d4f8-5d6c-4671-afa3-3c76bb9a8506"
      }
    },
    {
      "cell_type": "markdown",
      "source": [
        "Building and Fitting Model"
      ],
      "metadata": {
        "id": "fuc6pmXQLT8G"
      }
    },
    {
      "cell_type": "code",
      "execution_count": 14,
      "source": [
        "r = model.fit_generator(   \n",
        "  training_set,\n",
        "  validation_data=test_set,\n",
        "  epochs=5,\n",
        "  steps_per_epoch=len(training_set),\n",
        "  validation_steps=len(test_set),\n",
        "  workers=-1,\n",
        ")"
      ],
      "outputs": [
        {
          "output_type": "stream",
          "name": "stdout",
          "text": [
            "Epoch 1/5\n",
            "522/522 [==============================] - 1957s 4s/step - loss: 0.2305 - accuracy: 0.9151 - val_loss: 0.5050 - val_accuracy: 0.8269\n",
            "Epoch 2/5\n",
            "522/522 [==============================] - 308s 590ms/step - loss: 0.1575 - accuracy: 0.9469 - val_loss: 0.4396 - val_accuracy: 0.8894\n",
            "Epoch 3/5\n",
            "522/522 [==============================] - 307s 587ms/step - loss: 0.1610 - accuracy: 0.9513 - val_loss: 1.0841 - val_accuracy: 0.8013\n",
            "Epoch 4/5\n",
            "522/522 [==============================] - 305s 585ms/step - loss: 0.1433 - accuracy: 0.9565 - val_loss: 0.7804 - val_accuracy: 0.8638\n",
            "Epoch 5/5\n",
            "522/522 [==============================] - 312s 599ms/step - loss: 0.1680 - accuracy: 0.9553 - val_loss: 0.3912 - val_accuracy: 0.8990\n"
          ]
        }
      ],
      "metadata": {
        "colab": {
          "base_uri": "https://localhost:8080/"
        },
        "id": "ttXbAqL07IX5",
        "outputId": "bca3e781-fc38-4a43-e3ee-5f1e0bdc6a3b"
      }
    },
    {
      "cell_type": "code",
      "execution_count": 15,
      "source": [
        "import tensorflow as tf\n",
        "from keras.models import load_model\n",
        "# from google.colab import drive\n",
        "# drive.mount()\n",
        "# %cd /gdrive\n",
        "model.save('/gdrive/My Drive/input/chest_xray_version2_5_Epochs.h5')"
      ],
      "outputs": [],
      "metadata": {
        "id": "ACP1coq_9q2d"
      }
    },
    {
      "cell_type": "code",
      "execution_count": 16,
      "source": [
        "from keras.models import load_model"
      ],
      "outputs": [],
      "metadata": {
        "id": "4Yqwsl6T-AnH"
      }
    },
    {
      "cell_type": "code",
      "execution_count": 17,
      "source": [
        "from keras.preprocessing import image"
      ],
      "outputs": [],
      "metadata": {
        "id": "GPL8TXtX-MMh"
      }
    },
    {
      "cell_type": "code",
      "execution_count": 18,
      "source": [
        "from keras.applications.vgg16 import preprocess_input"
      ],
      "outputs": [],
      "metadata": {
        "id": "T18wquyd-Mw6"
      }
    },
    {
      "cell_type": "code",
      "execution_count": 19,
      "source": [
        "import numpy as np"
      ],
      "outputs": [],
      "metadata": {
        "id": "3q82t9Z0-NET"
      }
    },
    {
      "cell_type": "code",
      "execution_count": 20,
      "source": [
        "# from keras.models import load_model\n",
        "model=load_model('/gdrive/My Drive/input/chest_xray_version2_5_Epochs.h5')"
      ],
      "outputs": [],
      "metadata": {
        "id": "iuaagDki-NS6"
      }
    },
    {
      "cell_type": "code",
      "execution_count": 21,
      "source": [
        "model.compile(metrics=[tf.keras.metrics.Recall()])"
      ],
      "outputs": [],
      "metadata": {
        "id": "zl1v-YnBDmyR"
      }
    },
    {
      "cell_type": "code",
      "execution_count": 22,
      "source": [
        "model.evaluate(test_set, return_dict=True, use_multiprocessing=True, workers=-1)"
      ],
      "outputs": [
        {
          "output_type": "stream",
          "name": "stdout",
          "text": [
            "63/63 [==============================] - 26s 413ms/step - loss: 0.0000e+00 - recall: 0.8990\n"
          ]
        },
        {
          "output_type": "execute_result",
          "data": {
            "text/plain": [
              "{'loss': 0.0, 'recall': 0.8990384340286255}"
            ]
          },
          "metadata": {},
          "execution_count": 22
        }
      ],
      "metadata": {
        "colab": {
          "base_uri": "https://localhost:8080/"
        },
        "id": "WgxvOvwQELfK",
        "outputId": "8c8faf7b-8245-4cdc-dafc-4993f6cd64d3"
      }
    },
    {
      "cell_type": "code",
      "execution_count": 53,
      "source": [
        "#conf_matrix = tf.math.confusion_matrix(labels=test_set,\n",
        "predictions=model.predict(test_set, workers=-1)\n",
        "print(predictions[:])\n",
        "# pred_labels = np.squeeze(np.array(model.predict(test_set) >= 0.5, dtype=np.int))\n",
        "# pred_labels[:]"
      ],
      "outputs": [
        {
          "output_type": "stream",
          "name": "stdout",
          "text": [
            "[[9.9999392e-01 6.1087921e-06]\n",
            " [4.8051965e-03 9.9519473e-01]\n",
            " [9.9999571e-01 4.2763654e-06]\n",
            " ...\n",
            " [1.6997041e-05 9.9998295e-01]\n",
            " [4.8646253e-02 9.5135373e-01]\n",
            " [8.8715978e-02 9.1128403e-01]]\n"
          ]
        }
      ],
      "metadata": {
        "colab": {
          "base_uri": "https://localhost:8080/"
        },
        "id": "PB1kRharIQ8c",
        "outputId": "ea40146e-e0f7-41c1-89a6-9e5b7d658d87"
      }
    },
    {
      "cell_type": "markdown",
      "source": [],
      "metadata": {
        "id": "wu7qvw9E6Wo1"
      }
    },
    {
      "cell_type": "code",
      "execution_count": 27,
      "source": [
        "test_set.classes[:]"
      ],
      "outputs": [
        {
          "output_type": "execute_result",
          "data": {
            "text/plain": [
              "array([0, 0, 0, 0, 0, 0, 0, 0, 0, 0, 0, 0, 0, 0, 0, 0, 0, 0, 0, 0, 0, 0,\n",
              "       0, 0, 0, 0, 0, 0, 0, 0, 0, 0, 0, 0, 0, 0, 0, 0, 0, 0, 0, 0, 0, 0,\n",
              "       0, 0, 0, 0, 0, 0, 0, 0, 0, 0, 0, 0, 0, 0, 0, 0, 0, 0, 0, 0, 0, 0,\n",
              "       0, 0, 0, 0, 0, 0, 0, 0, 0, 0, 0, 0, 0, 0, 0, 0, 0, 0, 0, 0, 0, 0,\n",
              "       0, 0, 0, 0, 0, 0, 0, 0, 0, 0, 0, 0, 0, 0, 0, 0, 0, 0, 0, 0, 0, 0,\n",
              "       0, 0, 0, 0, 0, 0, 0, 0, 0, 0, 0, 0, 0, 0, 0, 0, 0, 0, 0, 0, 0, 0,\n",
              "       0, 0, 0, 0, 0, 0, 0, 0, 0, 0, 0, 0, 0, 0, 0, 0, 0, 0, 0, 0, 0, 0,\n",
              "       0, 0, 0, 0, 0, 0, 0, 0, 0, 0, 0, 0, 0, 0, 0, 0, 0, 0, 0, 0, 0, 0,\n",
              "       0, 0, 0, 0, 0, 0, 0, 0, 0, 0, 0, 0, 0, 0, 0, 0, 0, 0, 0, 0, 0, 0,\n",
              "       0, 0, 0, 0, 0, 0, 0, 0, 0, 0, 0, 0, 0, 0, 0, 0, 0, 0, 0, 0, 0, 0,\n",
              "       0, 0, 0, 0, 0, 0, 0, 0, 0, 0, 0, 0, 0, 0, 1, 1, 1, 1, 1, 1, 1, 1,\n",
              "       1, 1, 1, 1, 1, 1, 1, 1, 1, 1, 1, 1, 1, 1, 1, 1, 1, 1, 1, 1, 1, 1,\n",
              "       1, 1, 1, 1, 1, 1, 1, 1, 1, 1, 1, 1, 1, 1, 1, 1, 1, 1, 1, 1, 1, 1,\n",
              "       1, 1, 1, 1, 1, 1, 1, 1, 1, 1, 1, 1, 1, 1, 1, 1, 1, 1, 1, 1, 1, 1,\n",
              "       1, 1, 1, 1, 1, 1, 1, 1, 1, 1, 1, 1, 1, 1, 1, 1, 1, 1, 1, 1, 1, 1,\n",
              "       1, 1, 1, 1, 1, 1, 1, 1, 1, 1, 1, 1, 1, 1, 1, 1, 1, 1, 1, 1, 1, 1,\n",
              "       1, 1, 1, 1, 1, 1, 1, 1, 1, 1, 1, 1, 1, 1, 1, 1, 1, 1, 1, 1, 1, 1,\n",
              "       1, 1, 1, 1, 1, 1, 1, 1, 1, 1, 1, 1, 1, 1, 1, 1, 1, 1, 1, 1, 1, 1,\n",
              "       1, 1, 1, 1, 1, 1, 1, 1, 1, 1, 1, 1, 1, 1, 1, 1, 1, 1, 1, 1, 1, 1,\n",
              "       1, 1, 1, 1, 1, 1, 1, 1, 1, 1, 1, 1, 1, 1, 1, 1, 1, 1, 1, 1, 1, 1,\n",
              "       1, 1, 1, 1, 1, 1, 1, 1, 1, 1, 1, 1, 1, 1, 1, 1, 1, 1, 1, 1, 1, 1,\n",
              "       1, 1, 1, 1, 1, 1, 1, 1, 1, 1, 1, 1, 1, 1, 1, 1, 1, 1, 1, 1, 1, 1,\n",
              "       1, 1, 1, 1, 1, 1, 1, 1, 1, 1, 1, 1, 1, 1, 1, 1, 1, 1, 1, 1, 1, 1,\n",
              "       1, 1, 1, 1, 1, 1, 1, 1, 1, 1, 1, 1, 1, 1, 1, 1, 1, 1, 1, 1, 1, 1,\n",
              "       1, 1, 1, 1, 1, 1, 1, 1, 1, 1, 1, 1, 1, 1, 1, 1, 1, 1, 1, 1, 1, 1,\n",
              "       1, 1, 1, 1, 1, 1, 1, 1, 1, 1, 1, 1, 1, 1, 1, 1, 1, 1, 1, 1, 1, 1,\n",
              "       1, 1, 1, 1, 1, 1, 1, 1, 1, 1, 1, 1, 1, 1, 1, 1, 1, 1, 1, 1, 1, 1,\n",
              "       1, 1, 1, 1, 1, 1, 1, 1, 1, 1, 1, 1, 1, 1, 1, 1, 1, 1, 1, 1, 1, 1,\n",
              "       1, 1, 1, 1, 1, 1, 1, 1], dtype=int32)"
            ]
          },
          "metadata": {},
          "execution_count": 27
        }
      ],
      "metadata": {
        "colab": {
          "base_uri": "https://localhost:8080/"
        },
        "id": "LDtrPX0BM72b",
        "outputId": "874d1584-8d42-4774-fddb-13cd05add4a4"
      }
    },
    {
      "cell_type": "code",
      "execution_count": 54,
      "source": [
        "rnd_predictions = [round(pred[0]) for pred in predictions]\n",
        "np.array(rnd_predictions)[:]"
      ],
      "outputs": [
        {
          "output_type": "execute_result",
          "data": {
            "text/plain": [
              "array([1, 0, 1, 1, 0, 0, 1, 1, 0, 0, 0, 0, 1, 0, 1, 0, 0, 0, 0, 1, 1, 1,\n",
              "       0, 0, 0, 0, 0, 1, 0, 1, 0, 0, 1, 0, 0, 1, 1, 1, 0, 1, 1, 1, 0, 1,\n",
              "       1, 0, 1, 1, 0, 1, 0, 1, 1, 1, 0, 0, 0, 0, 0, 0, 0, 1, 1, 1, 0, 0,\n",
              "       1, 0, 0, 0, 0, 0, 0, 1, 1, 0, 1, 1, 0, 1, 0, 1, 0, 0, 1, 1, 0, 1,\n",
              "       0, 0, 1, 0, 0, 0, 0, 0, 1, 1, 0, 1, 1, 1, 1, 0, 0, 0, 0, 0, 0, 1,\n",
              "       1, 0, 0, 0, 1, 0, 1, 0, 0, 0, 0, 0, 1, 0, 0, 0, 0, 0, 0, 1, 0, 0,\n",
              "       1, 0, 0, 1, 1, 1, 1, 0, 0, 1, 0, 0, 1, 1, 1, 1, 0, 0, 0, 0, 1, 1,\n",
              "       1, 0, 0, 0, 1, 1, 0, 0, 0, 1, 0, 1, 0, 0, 0, 0, 0, 0, 0, 0, 0, 1,\n",
              "       1, 0, 1, 0, 1, 0, 1, 0, 1, 0, 1, 1, 0, 0, 1, 1, 0, 0, 0, 0, 0, 1,\n",
              "       0, 1, 1, 1, 0, 0, 0, 1, 0, 0, 0, 1, 0, 1, 0, 0, 0, 0, 0, 0, 0, 0,\n",
              "       0, 1, 1, 0, 0, 0, 0, 0, 1, 0, 0, 0, 1, 1, 1, 0, 0, 0, 1, 0, 0, 0,\n",
              "       1, 1, 0, 1, 1, 0, 1, 1, 0, 0, 1, 1, 0, 0, 0, 1, 0, 0, 0, 1, 1, 1,\n",
              "       0, 0, 1, 0, 1, 0, 1, 0, 0, 0, 0, 0, 0, 1, 0, 0, 0, 1, 0, 0, 1, 0,\n",
              "       1, 0, 0, 1, 0, 1, 0, 0, 0, 0, 1, 0, 0, 0, 0, 0, 1, 1, 1, 0, 1, 0,\n",
              "       0, 0, 1, 1, 0, 1, 1, 1, 1, 0, 1, 0, 0, 1, 1, 1, 0, 0, 0, 0, 1, 0,\n",
              "       1, 0, 0, 0, 0, 1, 0, 1, 1, 0, 1, 0, 1, 1, 1, 0, 0, 0, 0, 0, 0, 1,\n",
              "       0, 0, 0, 0, 1, 0, 0, 0, 0, 0, 1, 1, 0, 1, 1, 1, 0, 1, 0, 0, 0, 0,\n",
              "       1, 0, 1, 0, 0, 0, 0, 0, 0, 1, 0, 0, 1, 1, 1, 1, 1, 1, 0, 0, 1, 1,\n",
              "       0, 0, 1, 1, 0, 1, 1, 0, 1, 0, 1, 0, 0, 0, 1, 0, 0, 0, 1, 0, 0, 1,\n",
              "       0, 1, 1, 0, 0, 1, 1, 0, 1, 0, 0, 1, 0, 0, 1, 1, 0, 0, 1, 0, 0, 0,\n",
              "       1, 1, 0, 1, 0, 0, 1, 1, 1, 0, 0, 0, 0, 0, 0, 1, 0, 0, 1, 0, 0, 0,\n",
              "       0, 0, 1, 1, 0, 0, 1, 1, 0, 1, 1, 1, 0, 1, 1, 0, 1, 0, 0, 1, 1, 0,\n",
              "       0, 0, 0, 1, 0, 0, 0, 1, 0, 0, 0, 1, 0, 0, 0, 0, 0, 1, 1, 0, 1, 0,\n",
              "       1, 0, 1, 1, 0, 0, 0, 1, 0, 1, 0, 0, 1, 1, 0, 0, 0, 0, 0, 1, 1, 1,\n",
              "       0, 0, 0, 0, 0, 0, 0, 0, 0, 0, 0, 0, 1, 1, 1, 0, 0, 1, 0, 0, 1, 0,\n",
              "       1, 0, 0, 1, 0, 1, 1, 0, 0, 1, 1, 1, 1, 0, 0, 0, 1, 0, 0, 1, 0, 0,\n",
              "       1, 0, 1, 1, 0, 0, 0, 0, 1, 1, 0, 1, 0, 0, 0, 0, 1, 0, 0, 1, 0, 0,\n",
              "       0, 1, 0, 1, 1, 1, 1, 0, 0, 0, 0, 1, 0, 0, 1, 1, 1, 1, 1, 1, 0, 0,\n",
              "       1, 1, 0, 1, 1, 0, 0, 0])"
            ]
          },
          "metadata": {},
          "execution_count": 54
        }
      ],
      "metadata": {
        "colab": {
          "base_uri": "https://localhost:8080/"
        },
        "id": "3o2Q9FqiLR-y",
        "outputId": "3266ac02-0732-45cf-89f3-5862f44fe706"
      }
    },
    {
      "cell_type": "markdown",
      "source": [
        "Results"
      ],
      "metadata": {
        "id": "OFYDykAcOX-R"
      }
    },
    {
      "cell_type": "code",
      "execution_count": 55,
      "source": [
        "conf_matrix = tf.math.confusion_matrix(labels=test_set.classes, predictions=np.array(rnd_predictions))\n",
        "conf_matrix"
      ],
      "outputs": [
        {
          "output_type": "execute_result",
          "data": {
            "text/plain": [
              "<tf.Tensor: shape=(2, 2), dtype=int32, numpy=\n",
              "array([[142,  92],\n",
              "       [231, 159]], dtype=int32)>"
            ]
          },
          "metadata": {},
          "execution_count": 55
        }
      ],
      "metadata": {
        "colab": {
          "base_uri": "https://localhost:8080/"
        },
        "id": "RBwspZBZKZJ8",
        "outputId": "90762b79-0375-4d64-865f-c0598830e089"
      }
    },
    {
      "cell_type": "code",
      "execution_count": 30,
      "source": [
        "img=image.load_img('/gdrive/My Drive/input/labeled-chest-xray-images/chest_xray/test/PNEUMONIA/person20_virus_51.jpeg',target_size=(224,224))"
      ],
      "outputs": [],
      "metadata": {
        "id": "DTzBOYkF_82g"
      }
    },
    {
      "cell_type": "code",
      "execution_count": 31,
      "source": [
        "x=image.img_to_array(img)"
      ],
      "outputs": [],
      "metadata": {
        "id": "peG5PNi__TpJ"
      }
    },
    {
      "cell_type": "code",
      "execution_count": 32,
      "source": [
        "x=np.expand_dims(x, axis=0)"
      ],
      "outputs": [],
      "metadata": {
        "id": "qte1-HDy-Nfi"
      }
    },
    {
      "cell_type": "code",
      "execution_count": 33,
      "source": [
        "img_data=preprocess_input(x)"
      ],
      "outputs": [],
      "metadata": {
        "id": "V44VPODmAGcs"
      }
    },
    {
      "cell_type": "code",
      "execution_count": 34,
      "source": [
        "classes=model.predict(img_data)"
      ],
      "outputs": [],
      "metadata": {
        "id": "31ljzpD-ANqa"
      }
    },
    {
      "cell_type": "code",
      "execution_count": 35,
      "source": [
        "# classes\n",
        "result=int(classes[0][0])"
      ],
      "outputs": [],
      "metadata": {
        "id": "slIwec-JBe5W"
      }
    },
    {
      "cell_type": "code",
      "execution_count": 36,
      "source": [
        "if result==1:\n",
        "  print(\"X-Ray results are Normal\")\n",
        "else:\n",
        "  print(\"X-Ray results indicate Pneumonia\")\n",
        "  "
      ],
      "outputs": [
        {
          "output_type": "stream",
          "name": "stdout",
          "text": [
            "X-Ray results indicate Pneumonia\n"
          ]
        }
      ],
      "metadata": {
        "colab": {
          "base_uri": "https://localhost:8080/"
        },
        "id": "PNnM7cwuBpj5",
        "outputId": "be79afc8-ff29-4be0-f4a9-f193a0eb68f1"
      }
    },
    {
      "cell_type": "code",
      "execution_count": 37,
      "source": [
        "result"
      ],
      "outputs": [
        {
          "output_type": "execute_result",
          "data": {
            "text/plain": [
              "0"
            ]
          },
          "metadata": {},
          "execution_count": 37
        }
      ],
      "metadata": {
        "colab": {
          "base_uri": "https://localhost:8080/"
        },
        "id": "5M95-uebx5FK",
        "outputId": "c71c652a-5962-4383-9573-2868afadb369"
      }
    },
    {
      "cell_type": "markdown",
      "source": [
        "Explanation of Classes - First Column Prediction: result score: 0 = Pnemonia and 1 = Normal,   Second Column Actual x-Ray: 1 = Pneumonia and 0 = Normal"
      ],
      "metadata": {
        "id": "gUEH4WP0XmHl"
      }
    },
    {
      "cell_type": "code",
      "execution_count": 38,
      "source": [
        "classes"
      ],
      "outputs": [
        {
          "output_type": "execute_result",
          "data": {
            "text/plain": [
              "array([[0., 1.]], dtype=float32)"
            ]
          },
          "metadata": {},
          "execution_count": 38
        }
      ],
      "metadata": {
        "id": "7KCUTTXpz8Yq",
        "colab": {
          "base_uri": "https://localhost:8080/"
        },
        "outputId": "8c0d816f-5c06-4031-98ed-46bc4e0c6672"
      }
    },
    {
      "cell_type": "markdown",
      "source": [
        "Additional Metrics and Plots"
      ],
      "metadata": {
        "id": "NoUdis8ZZRrx"
      }
    },
    {
      "cell_type": "code",
      "execution_count": 47,
      "source": [
        "import matplotlib.pyplot as plt\n",
        "plt.title('Loss')\n",
        "plt.xlabel('Epochs')\n",
        "plt.ylabel('Percentage')\n",
        "plt.plot(r.history['loss'])"
      ],
      "outputs": [
        {
          "output_type": "execute_result",
          "data": {
            "text/plain": [
              "[<matplotlib.lines.Line2D at 0x7ff4422013d0>]"
            ]
          },
          "metadata": {},
          "execution_count": 47
        },
        {
          "output_type": "display_data",
          "data": {
            "image/png": "[encoded data removed]",
            "text/plain": [
              "<Figure size 432x288 with 1 Axes>"
            ]
          },
          "metadata": {
            "needs_background": "light"
          }
        }
      ],
      "metadata": {
        "colab": {
          "base_uri": "https://localhost:8080/",
          "height": 313
        },
        "id": "W5rTx18bViDZ",
        "outputId": "f83318ee-6473-4c54-f4f5-6ae096c3cf8a"
      }
    },
    {
      "cell_type": "code",
      "execution_count": 48,
      "source": [
        "import matplotlib.pyplot as plt\n",
        "plt.title('Accuracy')\n",
        "plt.xlabel('Epochs')\n",
        "plt.ylabel('Percentage')\n",
        "plt.plot(r.history['accuracy'])"
      ],
      "outputs": [
        {
          "output_type": "execute_result",
          "data": {
            "text/plain": [
              "[<matplotlib.lines.Line2D at 0x7ff442166ed0>]"
            ]
          },
          "metadata": {},
          "execution_count": 48
        },
        {
          "output_type": "display_data",
          "data": {
            "image/png": "[encoded data removed]",
            "text/plain": [
              "<Figure size 432x288 with 1 Axes>"
            ]
          },
          "metadata": {
            "needs_background": "light"
          }
        }
      ],
      "metadata": {
        "colab": {
          "base_uri": "https://localhost:8080/",
          "height": 313
        },
        "id": "UdKPBTvDVrtW",
        "outputId": "8f24135a-bede-4ad1-945a-cfbdb4b5f44b"
      }
    },
    {
      "cell_type": "code",
      "execution_count": 49,
      "source": [
        "import matplotlib.pyplot as plt\n",
        "plt.title('Validation Loss')\n",
        "plt.xlabel('Epochs')\n",
        "plt.ylabel('Percentage')\n",
        "plt.plot(r.history['val_loss'])"
      ],
      "outputs": [
        {
          "output_type": "execute_result",
          "data": {
            "text/plain": [
              "[<matplotlib.lines.Line2D at 0x7ff442159410>]"
            ]
          },
          "metadata": {},
          "execution_count": 49
        },
        {
          "output_type": "display_data",
          "data": {
            "image/png": "[encoded data removed]",
            "text/plain": [
              "<Figure size 432x288 with 1 Axes>"
            ]
          },
          "metadata": {
            "needs_background": "light"
          }
        }
      ],
      "metadata": {
        "colab": {
          "base_uri": "https://localhost:8080/",
          "height": 313
        },
        "id": "3U7wEMQ6YPBF",
        "outputId": "ea19eda8-da41-42a4-c532-1ed405c47f97"
      }
    },
    {
      "cell_type": "code",
      "execution_count": 50,
      "source": [
        "import matplotlib.pyplot as plt\n",
        "plt.title('Val_Accuracy')\n",
        "plt.xlabel('Epochs')\n",
        "plt.ylabel('Percentage')\n",
        "plt.plot(r.history['val_accuracy'])"
      ],
      "outputs": [
        {
          "output_type": "execute_result",
          "data": {
            "text/plain": [
              "[<matplotlib.lines.Line2D at 0x7ff4420d40d0>]"
            ]
          },
          "metadata": {},
          "execution_count": 50
        },
        {
          "output_type": "display_data",
          "data": {
            "image/png": "[encoded data removed]",
            "text/plain": [
              "<Figure size 432x288 with 1 Axes>"
            ]
          },
          "metadata": {
            "needs_background": "light"
          }
        }
      ],
      "metadata": {
        "colab": {
          "base_uri": "https://localhost:8080/",
          "height": 313
        },
        "id": "_PJn5u0HYlt6",
        "outputId": "70b60e56-f8fe-40e2-bbb7-ed98fcd79a52"
      }
    },
    {
      "cell_type": "code",
      "execution_count": 103,
      "source": [
        "from sklearn.metrics import confusion_matrix"
      ],
      "outputs": [],
      "metadata": {
        "id": "yI98e9wlZHJk"
      }
    },
    {
      "cell_type": "code",
      "execution_count": 75,
      "source": [
        "true_labels = test_set.labels\n",
        "true_labels"
      ],
      "outputs": [
        {
          "output_type": "execute_result",
          "data": {
            "text/plain": [
              "array([0, 0, 0, 0, 0, 0, 0, 0, 0, 0, 0, 0, 0, 0, 0, 0, 0, 0, 0, 0, 0, 0,\n",
              "       0, 0, 0, 0, 0, 0, 0, 0, 0, 0, 0, 0, 0, 0, 0, 0, 0, 0, 0, 0, 0, 0,\n",
              "       0, 0, 0, 0, 0, 0, 0, 0, 0, 0, 0, 0, 0, 0, 0, 0, 0, 0, 0, 0, 0, 0,\n",
              "       0, 0, 0, 0, 0, 0, 0, 0, 0, 0, 0, 0, 0, 0, 0, 0, 0, 0, 0, 0, 0, 0,\n",
              "       0, 0, 0, 0, 0, 0, 0, 0, 0, 0, 0, 0, 0, 0, 0, 0, 0, 0, 0, 0, 0, 0,\n",
              "       0, 0, 0, 0, 0, 0, 0, 0, 0, 0, 0, 0, 0, 0, 0, 0, 0, 0, 0, 0, 0, 0,\n",
              "       0, 0, 0, 0, 0, 0, 0, 0, 0, 0, 0, 0, 0, 0, 0, 0, 0, 0, 0, 0, 0, 0,\n",
              "       0, 0, 0, 0, 0, 0, 0, 0, 0, 0, 0, 0, 0, 0, 0, 0, 0, 0, 0, 0, 0, 0,\n",
              "       0, 0, 0, 0, 0, 0, 0, 0, 0, 0, 0, 0, 0, 0, 0, 0, 0, 0, 0, 0, 0, 0,\n",
              "       0, 0, 0, 0, 0, 0, 0, 0, 0, 0, 0, 0, 0, 0, 0, 0, 0, 0, 0, 0, 0, 0,\n",
              "       0, 0, 0, 0, 0, 0, 0, 0, 0, 0, 0, 0, 0, 0, 1, 1, 1, 1, 1, 1, 1, 1,\n",
              "       1, 1, 1, 1, 1, 1, 1, 1, 1, 1, 1, 1, 1, 1, 1, 1, 1, 1, 1, 1, 1, 1,\n",
              "       1, 1, 1, 1, 1, 1, 1, 1, 1, 1, 1, 1, 1, 1, 1, 1, 1, 1, 1, 1, 1, 1,\n",
              "       1, 1, 1, 1, 1, 1, 1, 1, 1, 1, 1, 1, 1, 1, 1, 1, 1, 1, 1, 1, 1, 1,\n",
              "       1, 1, 1, 1, 1, 1, 1, 1, 1, 1, 1, 1, 1, 1, 1, 1, 1, 1, 1, 1, 1, 1,\n",
              "       1, 1, 1, 1, 1, 1, 1, 1, 1, 1, 1, 1, 1, 1, 1, 1, 1, 1, 1, 1, 1, 1,\n",
              "       1, 1, 1, 1, 1, 1, 1, 1, 1, 1, 1, 1, 1, 1, 1, 1, 1, 1, 1, 1, 1, 1,\n",
              "       1, 1, 1, 1, 1, 1, 1, 1, 1, 1, 1, 1, 1, 1, 1, 1, 1, 1, 1, 1, 1, 1,\n",
              "       1, 1, 1, 1, 1, 1, 1, 1, 1, 1, 1, 1, 1, 1, 1, 1, 1, 1, 1, 1, 1, 1,\n",
              "       1, 1, 1, 1, 1, 1, 1, 1, 1, 1, 1, 1, 1, 1, 1, 1, 1, 1, 1, 1, 1, 1,\n",
              "       1, 1, 1, 1, 1, 1, 1, 1, 1, 1, 1, 1, 1, 1, 1, 1, 1, 1, 1, 1, 1, 1,\n",
              "       1, 1, 1, 1, 1, 1, 1, 1, 1, 1, 1, 1, 1, 1, 1, 1, 1, 1, 1, 1, 1, 1,\n",
              "       1, 1, 1, 1, 1, 1, 1, 1, 1, 1, 1, 1, 1, 1, 1, 1, 1, 1, 1, 1, 1, 1,\n",
              "       1, 1, 1, 1, 1, 1, 1, 1, 1, 1, 1, 1, 1, 1, 1, 1, 1, 1, 1, 1, 1, 1,\n",
              "       1, 1, 1, 1, 1, 1, 1, 1, 1, 1, 1, 1, 1, 1, 1, 1, 1, 1, 1, 1, 1, 1,\n",
              "       1, 1, 1, 1, 1, 1, 1, 1, 1, 1, 1, 1, 1, 1, 1, 1, 1, 1, 1, 1, 1, 1,\n",
              "       1, 1, 1, 1, 1, 1, 1, 1, 1, 1, 1, 1, 1, 1, 1, 1, 1, 1, 1, 1, 1, 1,\n",
              "       1, 1, 1, 1, 1, 1, 1, 1, 1, 1, 1, 1, 1, 1, 1, 1, 1, 1, 1, 1, 1, 1,\n",
              "       1, 1, 1, 1, 1, 1, 1, 1], dtype=int32)"
            ]
          },
          "metadata": {},
          "execution_count": 75
        }
      ],
      "metadata": {
        "colab": {
          "base_uri": "https://localhost:8080/"
        },
        "id": "6U9znUZTDoC8",
        "outputId": "77aa2bf6-2ddc-4719-9ab1-b13296b36f79"
      }
    },
    {
      "cell_type": "code",
      "execution_count": 102,
      "source": [
        "pred_labels = [round(pred[0]) for pred in predictions]\n",
        "pred_labels = np.array(pred_labels)[:]\n",
        "pred_labels"
      ],
      "outputs": [
        {
          "output_type": "execute_result",
          "data": {
            "text/plain": [
              "array([1, 0, 1, 1, 0, 0, 1, 1, 0, 0, 0, 0, 1, 0, 1, 0, 0, 0, 0, 1, 1, 1,\n",
              "       0, 0, 0, 0, 0, 1, 0, 1, 0, 0, 1, 0, 0, 1, 1, 1, 0, 1, 1, 1, 0, 1,\n",
              "       1, 0, 1, 1, 0, 1, 0, 1, 1, 1, 0, 0, 0, 0, 0, 0, 0, 1, 1, 1, 0, 0,\n",
              "       1, 0, 0, 0, 0, 0, 0, 1, 1, 0, 1, 1, 0, 1, 0, 1, 0, 0, 1, 1, 0, 1,\n",
              "       0, 0, 1, 0, 0, 0, 0, 0, 1, 1, 0, 1, 1, 1, 1, 0, 0, 0, 0, 0, 0, 1,\n",
              "       1, 0, 0, 0, 1, 0, 1, 0, 0, 0, 0, 0, 1, 0, 0, 0, 0, 0, 0, 1, 0, 0,\n",
              "       1, 0, 0, 1, 1, 1, 1, 0, 0, 1, 0, 0, 1, 1, 1, 1, 0, 0, 0, 0, 1, 1,\n",
              "       1, 0, 0, 0, 1, 1, 0, 0, 0, 1, 0, 1, 0, 0, 0, 0, 0, 0, 0, 0, 0, 1,\n",
              "       1, 0, 1, 0, 1, 0, 1, 0, 1, 0, 1, 1, 0, 0, 1, 1, 0, 0, 0, 0, 0, 1,\n",
              "       0, 1, 1, 1, 0, 0, 0, 1, 0, 0, 0, 1, 0, 1, 0, 0, 0, 0, 0, 0, 0, 0,\n",
              "       0, 1, 1, 0, 0, 0, 0, 0, 1, 0, 0, 0, 1, 1, 1, 0, 0, 0, 1, 0, 0, 0,\n",
              "       1, 1, 0, 1, 1, 0, 1, 1, 0, 0, 1, 1, 0, 0, 0, 1, 0, 0, 0, 1, 1, 1,\n",
              "       0, 0, 1, 0, 1, 0, 1, 0, 0, 0, 0, 0, 0, 1, 0, 0, 0, 1, 0, 0, 1, 0,\n",
              "       1, 0, 0, 1, 0, 1, 0, 0, 0, 0, 1, 0, 0, 0, 0, 0, 1, 1, 1, 0, 1, 0,\n",
              "       0, 0, 1, 1, 0, 1, 1, 1, 1, 0, 1, 0, 0, 1, 1, 1, 0, 0, 0, 0, 1, 0,\n",
              "       1, 0, 0, 0, 0, 1, 0, 1, 1, 0, 1, 0, 1, 1, 1, 0, 0, 0, 0, 0, 0, 1,\n",
              "       0, 0, 0, 0, 1, 0, 0, 0, 0, 0, 1, 1, 0, 1, 1, 1, 0, 1, 0, 0, 0, 0,\n",
              "       1, 0, 1, 0, 0, 0, 0, 0, 0, 1, 0, 0, 1, 1, 1, 1, 1, 1, 0, 0, 1, 1,\n",
              "       0, 0, 1, 1, 0, 1, 1, 0, 1, 0, 1, 0, 0, 0, 1, 0, 0, 0, 1, 0, 0, 1,\n",
              "       0, 1, 1, 0, 0, 1, 1, 0, 1, 0, 0, 1, 0, 0, 1, 1, 0, 0, 1, 0, 0, 0,\n",
              "       1, 1, 0, 1, 0, 0, 1, 1, 1, 0, 0, 0, 0, 0, 0, 1, 0, 0, 1, 0, 0, 0,\n",
              "       0, 0, 1, 1, 0, 0, 1, 1, 0, 1, 1, 1, 0, 1, 1, 0, 1, 0, 0, 1, 1, 0,\n",
              "       0, 0, 0, 1, 0, 0, 0, 1, 0, 0, 0, 1, 0, 0, 0, 0, 0, 1, 1, 0, 1, 0,\n",
              "       1, 0, 1, 1, 0, 0, 0, 1, 0, 1, 0, 0, 1, 1, 0, 0, 0, 0, 0, 1, 1, 1,\n",
              "       0, 0, 0, 0, 0, 0, 0, 0, 0, 0, 0, 0, 1, 1, 1, 0, 0, 1, 0, 0, 1, 0,\n",
              "       1, 0, 0, 1, 0, 1, 1, 0, 0, 1, 1, 1, 1, 0, 0, 0, 1, 0, 0, 1, 0, 0,\n",
              "       1, 0, 1, 1, 0, 0, 0, 0, 1, 1, 0, 1, 0, 0, 0, 0, 1, 0, 0, 1, 0, 0,\n",
              "       0, 1, 0, 1, 1, 1, 1, 0, 0, 0, 0, 1, 0, 0, 1, 1, 1, 1, 1, 1, 0, 0,\n",
              "       1, 1, 0, 1, 1, 0, 0, 0])"
            ]
          },
          "metadata": {},
          "execution_count": 102
        }
      ],
      "metadata": {
        "colab": {
          "base_uri": "https://localhost:8080/"
        },
        "id": "F_F-QRbUIR8g",
        "outputId": "9eb8c9ab-8a17-42cf-f9ef-6fc9b017de86"
      }
    },
    {
      "cell_type": "code",
      "execution_count": 104,
      "source": [
        "cm = confusion_matrix(true_labels, pred_labels)"
      ],
      "outputs": [],
      "metadata": {
        "id": "KEQg06qqNiJd"
      }
    },
    {
      "cell_type": "code",
      "execution_count": 124,
      "source": [
        "import seaborn as sns\n",
        "plt.figure(figsize=(6,6))\n",
        "sns.heatmap(cm, annot=True, fmt='g', vmin=0, cmap='mako', cbar=False)\n",
        "plt.xlabel(\"Predicted\")\n",
        "plt.ylabel(\"Actual\")\n",
        "plt.xticks(np.arange(2) + 0.5, ['Pneumonia', 'Normal'], fontsize=16)\n",
        "plt.yticks(np.arange(2) + 0.5, ['Normal', 'Pneumonia'], fontsize=16)\n",
        "plt.show()"
      ],
      "outputs": [
        {
          "output_type": "display_data",
          "data": {
            "image/png": "[encoded data removed]",
            "text/plain": [
              "<Figure size 432x432 with 1 Axes>"
            ]
          },
          "metadata": {
            "needs_background": "light"
          }
        }
      ],
      "metadata": {
        "colab": {
          "base_uri": "https://localhost:8080/",
          "height": 393
        },
        "id": "bkwFS3elQGS8",
        "outputId": "22a7ca6b-8150-4972-de2d-f8936797ff84"
      }
    },
    {
      "cell_type": "code",
      "execution_count": 125,
      "source": [
        "results = model.evaluate(test_set, verbose=0)\n",
        "accuracy = results[1]\n"
      ],
      "outputs": [],
      "metadata": {
        "id": "5eNRu9fnQiEa"
      }
    },
    {
      "cell_type": "code",
      "execution_count": 126,
      "source": [
        "tn, fp, fn, tp = cm.ravel()\n",
        "\n",
        "precision = tp / (tp + fp)\n",
        "recall = tp / (tp + fn)"
      ],
      "outputs": [],
      "metadata": {
        "id": "O8XRszGMRNUG"
      }
    },
    {
      "cell_type": "code",
      "execution_count": 128,
      "source": [
        "print (\"Accuracy: {:.2f}\".format(accuracy))\n",
        "print (\"Precision: {:.2f}\".format(precision))\n",
        "# print (\"Recall: {:.2f}\".format(recall)) "
      ],
      "outputs": [
        {
          "output_type": "stream",
          "name": "stdout",
          "text": [
            "Accuracy: 0.63\n",
            "Precision: 0.63\n"
          ]
        }
      ],
      "metadata": {
        "colab": {
          "base_uri": "https://localhost:8080/"
        },
        "id": "iMUrI3aRS_OT",
        "outputId": "f6d6a870-2e4b-4892-8523-00c046fa14c3"
      }
    },
    {
      "cell_type": "code",
      "execution_count": null,
      "source": [],
      "outputs": [],
      "metadata": {
        "id": "PV6E0WX5TNm6"
      }
    }
  ]
}