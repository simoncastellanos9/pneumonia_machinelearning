{
  "nbformat": 4,
  "nbformat_minor": 2,
  "metadata": {
    "colab": {
      "name": "CNN_Group4_Project4.ipynb",
      "provenance": [],
      "collapsed_sections": []
    },
    "kernelspec": {
      "name": "python3",
      "display_name": "Python 3"
    },
    "language_info": {
      "name": "python"
    },
    "accelerator": "TPU"
  },
  "cells": [
    {
      "cell_type": "code",
      "execution_count": 1,
      "source": [
        "import warnings\r\n",
        "warnings.filterwarnings('ignore')"
      ],
      "outputs": [],
      "metadata": {
        "id": "qYZXnAXryT6s"
      }
    },
    {
      "cell_type": "code",
      "execution_count": 2,
      "source": [
        "import tensorflow as tf\r\n",
        "from tensorflow import keras"
      ],
      "outputs": [],
      "metadata": {
        "id": "mu73jVaYy_HQ"
      }
    },
    {
      "cell_type": "code",
      "execution_count": 3,
      "source": [
        "from keras.layers import Input, Lambda, Dense, Flatten"
      ],
      "outputs": [],
      "metadata": {
        "id": "Hxayb81NzF8D"
      }
    },
    {
      "cell_type": "code",
      "execution_count": 4,
      "source": [
        "from keras.models import Model\r\n",
        "from keras.applications.vgg16 import VGG16\r\n",
        "from keras.applications.vgg16 import preprocess_input\r\n",
        "from keras.preprocessing import image\r\n",
        "from keras.preprocessing.image import ImageDataGenerator\r\n",
        "from keras.models import Sequential\r\n",
        "import numpy as np\r\n",
        "from glob import glob\r\n",
        "import matplotlib.pyplot as plt"
      ],
      "outputs": [],
      "metadata": {
        "id": "SnlkQ01MzNfN"
      }
    },
    {
      "cell_type": "code",
      "execution_count": 5,
      "source": [
        "IMAGE_SIZE = [224, 224]\r\n",
        "\r\n",
        "train_path = '/gdrive/My Drive/input/labeled-chest-xray-images/chest_xray/train/'\r\n",
        "test_path = '/gdrive/My Drive/input/labeled-chest-xray-images/chest_xray/test/'"
      ],
      "outputs": [],
      "metadata": {
        "id": "Zv29ghR30djE"
      }
    },
    {
      "cell_type": "code",
      "execution_count": 6,
      "source": [
        "vgg = VGG16(input_shape=IMAGE_SIZE + [3], weights='imagenet', include_top=False)"
      ],
      "outputs": [
        {
          "output_type": "stream",
          "name": "stdout",
          "text": [
            "Downloading data from https://storage.googleapis.com/tensorflow/keras-applications/vgg16/vgg16_weights_tf_dim_ordering_tf_kernels_notop.h5\n",
            "58892288/58889256 [==============================] - 0s 0us/step\n",
            "58900480/58889256 [==============================] - 0s 0us/step\n"
          ]
        }
      ],
      "metadata": {
        "id": "z99zMAOt1hBJ",
        "colab": {
          "base_uri": "https://localhost:8080/"
        },
        "outputId": "123b7837-e7a2-444c-f2f6-d555b74737c3"
      }
    },
    {
      "cell_type": "code",
      "execution_count": 22,
      "source": [
        "for layer in vgg.layers:\r\n",
        "    layer.trainable = False"
      ],
      "outputs": [],
      "metadata": {
        "id": "TmdZa9rj3l3v"
      }
    },
    {
      "cell_type": "code",
      "execution_count": 23,
      "source": [
        "folders = glob('/gdrive/My Drive/input/labeled-chest-xray-images/chest_xray/train/*')\r\n",
        "x = Flatten() (vgg.output)"
      ],
      "outputs": [],
      "metadata": {
        "id": "WJDa-Zgv13Zt"
      }
    },
    {
      "cell_type": "code",
      "execution_count": 24,
      "source": [
        "prediction = Dense(len(folders), activation='softmax') (x)\r\n",
        "# creating a model object\r\n",
        "model = Model(inputs=vgg.input, outputs=prediction)\r\n",
        "# view structure of the model\r\n",
        "model.summary()"
      ],
      "outputs": [
        {
          "output_type": "stream",
          "name": "stdout",
          "text": [
            "Model: \"model_2\"\n",
            "_________________________________________________________________\n",
            "Layer (type)                 Output Shape              Param #   \n",
            "=================================================================\n",
            "input_1 (InputLayer)         [(None, 224, 224, 3)]     0         \n",
            "_________________________________________________________________\n",
            "block1_conv1 (Conv2D)        (None, 224, 224, 64)      1792      \n",
            "_________________________________________________________________\n",
            "block1_conv2 (Conv2D)        (None, 224, 224, 64)      36928     \n",
            "_________________________________________________________________\n",
            "block1_pool (MaxPooling2D)   (None, 112, 112, 64)      0         \n",
            "_________________________________________________________________\n",
            "block2_conv1 (Conv2D)        (None, 112, 112, 128)     73856     \n",
            "_________________________________________________________________\n",
            "block2_conv2 (Conv2D)        (None, 112, 112, 128)     147584    \n",
            "_________________________________________________________________\n",
            "block2_pool (MaxPooling2D)   (None, 56, 56, 128)       0         \n",
            "_________________________________________________________________\n",
            "block3_conv1 (Conv2D)        (None, 56, 56, 256)       295168    \n",
            "_________________________________________________________________\n",
            "block3_conv2 (Conv2D)        (None, 56, 56, 256)       590080    \n",
            "_________________________________________________________________\n",
            "block3_conv3 (Conv2D)        (None, 56, 56, 256)       590080    \n",
            "_________________________________________________________________\n",
            "block3_pool (MaxPooling2D)   (None, 28, 28, 256)       0         \n",
            "_________________________________________________________________\n",
            "block4_conv1 (Conv2D)        (None, 28, 28, 512)       1180160   \n",
            "_________________________________________________________________\n",
            "block4_conv2 (Conv2D)        (None, 28, 28, 512)       2359808   \n",
            "_________________________________________________________________\n",
            "block4_conv3 (Conv2D)        (None, 28, 28, 512)       2359808   \n",
            "_________________________________________________________________\n",
            "block4_pool (MaxPooling2D)   (None, 14, 14, 512)       0         \n",
            "_________________________________________________________________\n",
            "block5_conv1 (Conv2D)        (None, 14, 14, 512)       2359808   \n",
            "_________________________________________________________________\n",
            "block5_conv2 (Conv2D)        (None, 14, 14, 512)       2359808   \n",
            "_________________________________________________________________\n",
            "block5_conv3 (Conv2D)        (None, 14, 14, 512)       2359808   \n",
            "_________________________________________________________________\n",
            "block5_pool (MaxPooling2D)   (None, 7, 7, 512)         0         \n",
            "_________________________________________________________________\n",
            "flatten_1 (Flatten)          (None, 25088)             0         \n",
            "_________________________________________________________________\n",
            "dense_2 (Dense)              (None, 2)                 50178     \n",
            "=================================================================\n",
            "Total params: 14,764,866\n",
            "Trainable params: 50,178\n",
            "Non-trainable params: 14,714,688\n",
            "_________________________________________________________________\n"
          ]
        }
      ],
      "metadata": {
        "colab": {
          "base_uri": "https://localhost:8080/"
        },
        "id": "vBbZUJXd4PhX",
        "outputId": "4d98a5f0-501a-4245-c9e5-56b607d53df6"
      }
    },
    {
      "cell_type": "code",
      "execution_count": 25,
      "source": [
        "model.compile(\r\n",
        "  loss='categorical_crossentropy',\r\n",
        "  optimizer='adam',\r\n",
        "  metrics=['accuracy']\r\n",
        ")"
      ],
      "outputs": [],
      "metadata": {
        "id": "COYqpj2h4xU7"
      }
    },
    {
      "cell_type": "code",
      "execution_count": 26,
      "source": [
        "from keras.preprocessing.image import ImageDataGenerator"
      ],
      "outputs": [],
      "metadata": {
        "id": "qc1W8xl05-wF"
      }
    },
    {
      "cell_type": "code",
      "execution_count": 14,
      "source": [
        "# note: must input code received from google for access to the google drive files: Please copy this code, switch to your application and paste it there:\r\n",
        "# 4/1AX4XfWgMbu2qOfhAjCXU90DNP_Yx7EFgJsSBJrHiKfPqnwomhdAgQZxkp3o\r\n",
        "from google.colab import drive\r\n",
        "drive.mount('/gdrive')\r\n",
        "%cd /gdrive"
      ],
      "outputs": [
        {
          "output_type": "stream",
          "name": "stdout",
          "text": [
            "Mounted at /gdrive\n",
            "/gdrive\n"
          ]
        }
      ],
      "metadata": {
        "id": "MA1m3_UkTuYT",
        "colab": {
          "base_uri": "https://localhost:8080/"
        },
        "outputId": "d91c9401-fc2f-4016-83c1-3d677f84629d"
      }
    },
    {
      "cell_type": "code",
      "execution_count": null,
      "source": [
        "# ('/input/labeled-chest-xray-images/chest_xray/train')"
      ],
      "outputs": [],
      "metadata": {
        "id": "ejiL3IoDV-TX"
      }
    },
    {
      "cell_type": "code",
      "execution_count": 27,
      "source": [
        "train_datagen = ImageDataGenerator(rescale = 1./255,\r\n",
        "                                   shear_range = 0.2,\r\n",
        "                                   zoom_range = 0.3,\r\n",
        "                                   horizontal_flip = True)\r\n",
        "\r\n",
        "test_datagen = ImageDataGenerator(rescale = 1./255)\r\n",
        "\r\n",
        "\r\n",
        "\r\n",
        "\r\n",
        "# Make sure you provide the same target size as initialied for the image size\r\n",
        "training_set = train_datagen.flow_from_directory('/gdrive/My Drive/input/labeled-chest-xray-images/chest_xray/train/',\r\n",
        "                                                 target_size = (224, 224),\r\n",
        "                                                 batch_size = 10,\r\n",
        "                                                 class_mode = 'categorical')\r\n",
        "\r\n",
        "\r\n",
        "\r\n",
        "\r\n",
        "test_set = test_datagen.flow_from_directory('/gdrive/My Drive/input/labeled-chest-xray-images/chest_xray/test/',\r\n",
        "                                            target_size = (224, 224),\r\n",
        "                                            batch_size = 10,\r\n",
        "                                            class_mode = 'categorical')"
      ],
      "outputs": [
        {
          "output_type": "stream",
          "name": "stdout",
          "text": [
            "Found 5216 images belonging to 2 classes.\n",
            "Found 624 images belonging to 2 classes.\n"
          ]
        }
      ],
      "metadata": {
        "colab": {
          "base_uri": "https://localhost:8080/"
        },
        "id": "E25a3uCL6MNr",
        "outputId": "aca6834f-2f61-4f01-cc76-e1add952b31f"
      }
    },
    {
      "cell_type": "code",
      "execution_count": 29,
      "source": [
        "r = model.fit_generator(   \r\n",
        "  training_set,\r\n",
        "  validation_data=test_set,\r\n",
        "  epochs=3,\r\n",
        "  steps_per_epoch=len(training_set)/5,\r\n",
        "  validation_steps=len(test_set)/5,\r\n",
        "  workers=-1,\r\n",
        ")"
      ],
      "outputs": [
        {
          "output_type": "stream",
          "name": "stdout",
          "text": [
            "Epoch 1/3\n",
            "104/104 [==============================] - 935s 9s/step - loss: 0.3014 - accuracy: 0.8752 - val_loss: 0.3058 - val_accuracy: 0.8846\n",
            "Epoch 2/3\n",
            "104/104 [==============================] - 841s 8s/step - loss: 0.1854 - accuracy: 0.9238 - val_loss: 0.5192 - val_accuracy: 0.8692\n",
            "Epoch 3/3\n",
            "104/104 [==============================] - 785s 8s/step - loss: 0.2248 - accuracy: 0.9305 - val_loss: 0.2072 - val_accuracy: 0.9154\n"
          ]
        }
      ],
      "metadata": {
        "colab": {
          "base_uri": "https://localhost:8080/"
        },
        "id": "ttXbAqL07IX5",
        "outputId": "0a934bc6-6c2d-44f7-d09b-a23e9abbbe4b"
      }
    },
    {
      "cell_type": "code",
      "execution_count": 30,
      "source": [
        "import tensorflow as tf\r\n",
        "from keras.models import load_model\r\n",
        "# from google.colab import drive\r\n",
        "# drive.mount()\r\n",
        "# %cd /gdrive\r\n",
        "model.save('/gdrive/My Drive/input/chest_xray_testing_only.h5')"
      ],
      "outputs": [],
      "metadata": {
        "id": "ACP1coq_9q2d"
      }
    },
    {
      "cell_type": "code",
      "execution_count": 31,
      "source": [
        "from keras.models import load_model"
      ],
      "outputs": [],
      "metadata": {
        "id": "4Yqwsl6T-AnH"
      }
    },
    {
      "cell_type": "code",
      "execution_count": 32,
      "source": [
        "from keras.preprocessing import image"
      ],
      "outputs": [],
      "metadata": {
        "id": "GPL8TXtX-MMh"
      }
    },
    {
      "cell_type": "code",
      "execution_count": 33,
      "source": [
        "from keras.applications.vgg16 import preprocess_input"
      ],
      "outputs": [],
      "metadata": {
        "id": "T18wquyd-Mw6"
      }
    },
    {
      "cell_type": "code",
      "execution_count": 34,
      "source": [
        "import numpy as np"
      ],
      "outputs": [],
      "metadata": {
        "id": "3q82t9Z0-NET"
      }
    },
    {
      "cell_type": "code",
      "execution_count": 35,
      "source": [
        "from keras.models import load_model\r\n",
        "model=load_model('/gdrive/My Drive/input/chest_xray_testing_only.h5')"
      ],
      "outputs": [],
      "metadata": {
        "id": "iuaagDki-NS6"
      }
    },
    {
      "cell_type": "code",
      "execution_count": 36,
      "source": [
        "model.compile(metrics=[tf.keras.metrics.Recall()])"
      ],
      "outputs": [],
      "metadata": {
        "id": "zl1v-YnBDmyR"
      }
    },
    {
      "cell_type": "code",
      "execution_count": 37,
      "source": [
        "model.evaluate(test_set, return_dict=True, use_multiprocessing=True, workers=-1)"
      ],
      "outputs": [
        {
          "output_type": "stream",
          "name": "stdout",
          "text": [
            "63/63 [==============================] - 384s 6s/step - loss: 0.0000e+00 - recall: 0.8958\n"
          ]
        },
        {
          "output_type": "execute_result",
          "data": {
            "text/plain": [
              "{'loss': 0.0, 'recall': 0.8958333134651184}"
            ]
          },
          "metadata": {},
          "execution_count": 37
        }
      ],
      "metadata": {
        "colab": {
          "base_uri": "https://localhost:8080/"
        },
        "id": "WgxvOvwQELfK",
        "outputId": "6e03e93a-1dd3-468d-8816-e5f9771f0a9f"
      }
    },
    {
      "cell_type": "code",
      "execution_count": 38,
      "source": [
        "#conf_matrix = tf.math.confusion_matrix(labels=test_set,\r\n",
        "predictions=model.predict(test_set, workers=-1)\r\n",
        "predictions"
      ],
      "outputs": [
        {
          "output_type": "execute_result",
          "data": {
            "text/plain": [
              "array([[4.2186341e-05, 9.9995780e-01],\n",
              "       [9.9779439e-01, 2.2056031e-03],\n",
              "       [3.1464370e-03, 9.9685353e-01],\n",
              "       ...,\n",
              "       [2.2705994e-03, 9.9772936e-01],\n",
              "       [7.4862200e-04, 9.9925131e-01],\n",
              "       [9.9345809e-01, 6.5419702e-03]], dtype=float32)"
            ]
          },
          "metadata": {},
          "execution_count": 38
        }
      ],
      "metadata": {
        "colab": {
          "base_uri": "https://localhost:8080/"
        },
        "id": "PB1kRharIQ8c",
        "outputId": "971b8cc5-c5d6-4c7f-a7de-407ee0233baa"
      }
    },
    {
      "cell_type": "code",
      "execution_count": 39,
      "source": [
        "test_set.classes[190:]"
      ],
      "outputs": [
        {
          "output_type": "execute_result",
          "data": {
            "text/plain": [
              "array([0, 0, 0, 0, 0, 0, 0, 0, 0, 0, 0, 0, 0, 0, 0, 0, 0, 0, 0, 0, 0, 0,\n",
              "       0, 0, 0, 0, 0, 0, 0, 0, 0, 0, 0, 0, 0, 0, 0, 0, 0, 0, 0, 0, 0, 0,\n",
              "       1, 1, 1, 1, 1, 1, 1, 1, 1, 1, 1, 1, 1, 1, 1, 1, 1, 1, 1, 1, 1, 1,\n",
              "       1, 1, 1, 1, 1, 1, 1, 1, 1, 1, 1, 1, 1, 1, 1, 1, 1, 1, 1, 1, 1, 1,\n",
              "       1, 1, 1, 1, 1, 1, 1, 1, 1, 1, 1, 1, 1, 1, 1, 1, 1, 1, 1, 1, 1, 1,\n",
              "       1, 1, 1, 1, 1, 1, 1, 1, 1, 1, 1, 1, 1, 1, 1, 1, 1, 1, 1, 1, 1, 1,\n",
              "       1, 1, 1, 1, 1, 1, 1, 1, 1, 1, 1, 1, 1, 1, 1, 1, 1, 1, 1, 1, 1, 1,\n",
              "       1, 1, 1, 1, 1, 1, 1, 1, 1, 1, 1, 1, 1, 1, 1, 1, 1, 1, 1, 1, 1, 1,\n",
              "       1, 1, 1, 1, 1, 1, 1, 1, 1, 1, 1, 1, 1, 1, 1, 1, 1, 1, 1, 1, 1, 1,\n",
              "       1, 1, 1, 1, 1, 1, 1, 1, 1, 1, 1, 1, 1, 1, 1, 1, 1, 1, 1, 1, 1, 1,\n",
              "       1, 1, 1, 1, 1, 1, 1, 1, 1, 1, 1, 1, 1, 1, 1, 1, 1, 1, 1, 1, 1, 1,\n",
              "       1, 1, 1, 1, 1, 1, 1, 1, 1, 1, 1, 1, 1, 1, 1, 1, 1, 1, 1, 1, 1, 1,\n",
              "       1, 1, 1, 1, 1, 1, 1, 1, 1, 1, 1, 1, 1, 1, 1, 1, 1, 1, 1, 1, 1, 1,\n",
              "       1, 1, 1, 1, 1, 1, 1, 1, 1, 1, 1, 1, 1, 1, 1, 1, 1, 1, 1, 1, 1, 1,\n",
              "       1, 1, 1, 1, 1, 1, 1, 1, 1, 1, 1, 1, 1, 1, 1, 1, 1, 1, 1, 1, 1, 1,\n",
              "       1, 1, 1, 1, 1, 1, 1, 1, 1, 1, 1, 1, 1, 1, 1, 1, 1, 1, 1, 1, 1, 1,\n",
              "       1, 1, 1, 1, 1, 1, 1, 1, 1, 1, 1, 1, 1, 1, 1, 1, 1, 1, 1, 1, 1, 1,\n",
              "       1, 1, 1, 1, 1, 1, 1, 1, 1, 1, 1, 1, 1, 1, 1, 1, 1, 1, 1, 1, 1, 1,\n",
              "       1, 1, 1, 1, 1, 1, 1, 1, 1, 1, 1, 1, 1, 1, 1, 1, 1, 1, 1, 1, 1, 1,\n",
              "       1, 1, 1, 1, 1, 1, 1, 1, 1, 1, 1, 1, 1, 1, 1, 1], dtype=int32)"
            ]
          },
          "metadata": {},
          "execution_count": 39
        }
      ],
      "metadata": {
        "colab": {
          "base_uri": "https://localhost:8080/"
        },
        "id": "LDtrPX0BM72b",
        "outputId": "60dd57bc-71d4-4ecd-cf83-b493b388df7c"
      }
    },
    {
      "cell_type": "code",
      "execution_count": 41,
      "source": [
        "rnd_predictions = [round(pred[0]) for pred in predictions]\r\n",
        "np.array(rnd_predictions)[190:]"
      ],
      "outputs": [
        {
          "output_type": "execute_result",
          "data": {
            "text/plain": [
              "array([1, 0, 1, 1, 0, 0, 0, 1, 1, 0, 0, 0, 0, 0, 0, 0, 0, 1, 0, 0, 0, 0,\n",
              "       0, 0, 0, 0, 0, 0, 0, 0, 0, 0, 1, 1, 0, 0, 0, 0, 0, 0, 1, 0, 1, 1,\n",
              "       1, 0, 0, 0, 1, 1, 1, 1, 0, 0, 1, 1, 1, 0, 1, 0, 0, 1, 0, 1, 1, 0,\n",
              "       1, 0, 0, 0, 1, 0, 1, 0, 0, 0, 0, 0, 0, 0, 0, 0, 1, 1, 0, 0, 0, 1,\n",
              "       0, 0, 1, 0, 0, 1, 0, 1, 0, 0, 1, 0, 1, 1, 1, 1, 1, 0, 1, 0, 0, 1,\n",
              "       0, 1, 0, 0, 0, 1, 0, 0, 1, 0, 1, 1, 0, 0, 1, 0, 0, 0, 0, 1, 1, 0,\n",
              "       0, 1, 0, 1, 0, 0, 0, 0, 1, 0, 1, 0, 0, 1, 0, 0, 0, 1, 0, 1, 0, 0,\n",
              "       1, 0, 0, 1, 0, 0, 0, 0, 1, 0, 0, 0, 0, 0, 0, 1, 0, 0, 0, 0, 0, 0,\n",
              "       1, 1, 1, 0, 0, 0, 0, 1, 0, 0, 1, 0, 0, 1, 0, 0, 1, 0, 0, 1, 1, 0,\n",
              "       1, 1, 0, 1, 0, 1, 0, 1, 1, 0, 0, 0, 1, 0, 1, 1, 1, 0, 1, 0, 0, 1,\n",
              "       0, 0, 1, 0, 0, 0, 0, 0, 0, 0, 0, 0, 1, 1, 0, 1, 0, 1, 0, 1, 1, 0,\n",
              "       0, 1, 0, 0, 0, 0, 0, 0, 0, 0, 0, 1, 0, 0, 0, 1, 0, 0, 0, 0, 0, 1,\n",
              "       0, 1, 0, 0, 0, 0, 0, 1, 1, 1, 1, 0, 1, 0, 0, 0, 0, 0, 0, 1, 0, 0,\n",
              "       1, 0, 0, 0, 0, 0, 0, 0, 0, 1, 0, 0, 0, 1, 0, 0, 1, 0, 0, 0, 0, 0,\n",
              "       1, 1, 1, 0, 0, 0, 0, 0, 0, 0, 1, 1, 1, 0, 1, 0, 1, 0, 1, 0, 0, 1,\n",
              "       0, 1, 1, 0, 1, 0, 0, 0, 0, 0, 1, 0, 0, 1, 0, 0, 0, 1, 0, 0, 1, 0,\n",
              "       1, 0, 0, 0, 0, 0, 0, 0, 1, 0, 0, 0, 1, 0, 0, 1, 0, 0, 1, 1, 1, 1,\n",
              "       0, 0, 1, 1, 1, 0, 0, 1, 0, 0, 0, 1, 1, 0, 0, 1, 1, 0, 0, 1, 0, 1,\n",
              "       1, 0, 1, 0, 1, 0, 0, 0, 0, 1, 1, 1, 0, 0, 0, 0, 1, 1, 1, 0, 0, 0,\n",
              "       1, 0, 1, 0, 0, 0, 1, 0, 0, 0, 1, 0, 1, 0, 0, 1])"
            ]
          },
          "metadata": {},
          "execution_count": 41
        }
      ],
      "metadata": {
        "colab": {
          "base_uri": "https://localhost:8080/"
        },
        "id": "3o2Q9FqiLR-y",
        "outputId": "642301a5-6d41-4e0a-cf54-21096ababc99"
      }
    },
    {
      "cell_type": "code",
      "execution_count": 42,
      "source": [
        "conf_matrix = tf.math.confusion_matrix(labels=test_set.classes, predictions=np.array(rnd_predictions))\r\n",
        "conf_matrix"
      ],
      "outputs": [
        {
          "output_type": "execute_result",
          "data": {
            "text/plain": [
              "<tf.Tensor: shape=(2, 2), dtype=int32, numpy=\n",
              "array([[162,  72],\n",
              "       [249, 141]], dtype=int32)>"
            ]
          },
          "metadata": {},
          "execution_count": 42
        }
      ],
      "metadata": {
        "colab": {
          "base_uri": "https://localhost:8080/"
        },
        "id": "RBwspZBZKZJ8",
        "outputId": "33eaca10-acd8-400d-9b01-e40cd25c22d0"
      }
    },
    {
      "cell_type": "code",
      "execution_count": 43,
      "source": [
        "img=image.load_img('/gdrive/My Drive/input/labeled-chest-xray-images/chest_xray/test/PNEUMONIA/person1_virus_6.jpeg',target_size=(224,224))"
      ],
      "outputs": [],
      "metadata": {
        "id": "DTzBOYkF_82g"
      }
    },
    {
      "cell_type": "code",
      "execution_count": 44,
      "source": [
        "x=image.img_to_array(img)"
      ],
      "outputs": [],
      "metadata": {
        "id": "peG5PNi__TpJ"
      }
    },
    {
      "cell_type": "code",
      "execution_count": 45,
      "source": [
        "x=np.expand_dims(x, axis=0)"
      ],
      "outputs": [],
      "metadata": {
        "id": "qte1-HDy-Nfi"
      }
    },
    {
      "cell_type": "code",
      "execution_count": 46,
      "source": [
        "img_data=preprocess_input(x)"
      ],
      "outputs": [],
      "metadata": {
        "id": "V44VPODmAGcs"
      }
    },
    {
      "cell_type": "code",
      "execution_count": 47,
      "source": [
        "classes=model.predict(img_data)"
      ],
      "outputs": [],
      "metadata": {
        "id": "31ljzpD-ANqa"
      }
    },
    {
      "cell_type": "code",
      "execution_count": 48,
      "source": [
        "# classes\r\n",
        "result=int(classes[0][0])"
      ],
      "outputs": [],
      "metadata": {
        "id": "slIwec-JBe5W"
      }
    },
    {
      "cell_type": "code",
      "execution_count": 49,
      "source": [
        "if result==0:\r\n",
        "  print(\"X-Ray results indicate Pneumonia\")\r\n",
        "else:\r\n",
        "  print(\"X-Ray results are Normal\")\r\n",
        "  "
      ],
      "outputs": [
        {
          "output_type": "stream",
          "name": "stdout",
          "text": [
            "X-Ray results indicate Pneumonia\n"
          ]
        }
      ],
      "metadata": {
        "colab": {
          "base_uri": "https://localhost:8080/"
        },
        "id": "PNnM7cwuBpj5",
        "outputId": "964883ec-9831-48d4-fcb7-d629af959211"
      }
    },
    {
      "cell_type": "code",
      "execution_count": 50,
      "source": [
        "result"
      ],
      "outputs": [
        {
          "output_type": "execute_result",
          "data": {
            "text/plain": [
              "0"
            ]
          },
          "metadata": {},
          "execution_count": 50
        }
      ],
      "metadata": {
        "colab": {
          "base_uri": "https://localhost:8080/"
        },
        "id": "5M95-uebx5FK",
        "outputId": "1dd409dc-46e7-4f62-a234-5cd8ad91b15f"
      }
    },
    {
      "cell_type": "code",
      "execution_count": null,
      "source": [],
      "outputs": [],
      "metadata": {
        "id": "7KCUTTXpz8Yq"
      }
    }
  ]
}